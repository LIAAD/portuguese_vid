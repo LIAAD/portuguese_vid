{
 "cells": [
  {
   "cell_type": "code",
   "execution_count": 1,
   "metadata": {},
   "outputs": [
    {
     "name": "stderr",
     "output_type": "stream",
     "text": [
      "/home/ubuntu/projects/Language-Identifier/.conda/lib/python3.11/site-packages/tqdm/auto.py:21: TqdmWarning: IProgress not found. Please update jupyter and ipywidgets. See https://ipywidgets.readthedocs.io/en/stable/user_install.html\n",
      "  from .autonotebook import tqdm as notebook_tqdm\n"
     ]
    }
   ],
   "source": [
    "import multiprocessing as mp\n",
    "import datasets\n",
    "\n",
    "from nltk.tokenize import word_tokenize\n",
    "from ptvid.constants import DOMAINS\n",
    "\n",
    "N_PROC = mp.cpu_count()"
   ]
  },
  {
   "cell_type": "code",
   "execution_count": 2,
   "metadata": {},
   "outputs": [],
   "source": [
    "def count_tokens(example):\n",
    "    n_tokens = len(word_tokenize(example[\"text\"], language=\"portuguese\"))\n",
    "    example[\"n_tokens\"] = n_tokens\n",
    "    return example"
   ]
  },
  {
   "cell_type": "code",
   "execution_count": 3,
   "metadata": {},
   "outputs": [
    {
     "name": "stdout",
     "output_type": "stream",
     "text": [
      "journalistic\n"
     ]
    },
    {
     "name": "stderr",
     "output_type": "stream",
     "text": [
      "Downloading data: 100%|██████████| 282M/282M [00:05<00:00, 55.1MB/s] \n",
      "Downloading data: 100%|██████████| 282M/282M [00:05<00:00, 52.9MB/s] \n",
      "Downloading data: 100%|██████████| 223M/223M [00:03<00:00, 56.4MB/s] \n",
      "Downloading data: 100%|██████████| 387k/387k [00:00<00:00, 1.09MB/s]\n",
      "Downloading data: 100%|██████████| 21.2k/21.2k [00:00<00:00, 65.9kB/s]\n",
      "Generating train split: 100%|██████████| 1804256/1804256 [00:07<00:00, 244237.16 examples/s]\n",
      "Generating valid split: 100%|██████████| 1000/1000 [00:00<00:00, 138944.05 examples/s]\n",
      "Generating test split: 100%|██████████| 36/36 [00:00<00:00, 21710.27 examples/s]\n"
     ]
    },
    {
     "name": "stdout",
     "output_type": "stream",
     "text": [
      "literature\n"
     ]
    },
    {
     "name": "stderr",
     "output_type": "stream",
     "text": [
      "Downloading data: 100%|██████████| 18.4M/18.4M [00:01<00:00, 16.1MB/s]\n",
      "Downloading data: 100%|██████████| 251k/251k [00:00<00:00, 687kB/s]\n",
      "Downloading data: 100%|██████████| 12.5k/12.5k [00:00<00:00, 36.9kB/s]\n",
      "Generating train split: 100%|██████████| 78279/78279 [00:00<00:00, 379900.45 examples/s]\n",
      "Generating valid split: 100%|██████████| 1000/1000 [00:00<00:00, 233340.97 examples/s]\n",
      "Generating test split: 100%|██████████| 36/36 [00:00<00:00, 22329.92 examples/s]\n"
     ]
    },
    {
     "name": "stdout",
     "output_type": "stream",
     "text": [
      "legal\n"
     ]
    },
    {
     "name": "stderr",
     "output_type": "stream",
     "text": [
      "Downloading data: 100%|██████████| 192M/192M [00:10<00:00, 17.6MB/s] \n",
      "Downloading data: 100%|██████████| 197M/197M [00:31<00:00, 6.34MB/s] \n",
      "Downloading data: 100%|██████████| 199M/199M [00:03<00:00, 55.0MB/s] \n",
      "Downloading data: 100%|██████████| 121k/121k [00:00<00:00, 371kB/s]\n",
      "Downloading data: 100%|██████████| 9.37k/9.37k [00:00<00:00, 27.6kB/s]\n",
      "Generating train split: 100%|██████████| 4068970/4068970 [00:06<00:00, 595668.32 examples/s]\n",
      "Generating valid split: 100%|██████████| 1000/1000 [00:00<00:00, 339922.52 examples/s]\n",
      "Generating test split: 100%|██████████| 37/37 [00:00<00:00, 23524.22 examples/s]\n"
     ]
    },
    {
     "name": "stdout",
     "output_type": "stream",
     "text": [
      "politics\n"
     ]
    },
    {
     "name": "stderr",
     "output_type": "stream",
     "text": [
      "Downloading data: 100%|██████████| 26.6M/26.6M [00:00<00:00, 28.3MB/s]\n",
      "Downloading data: 100%|██████████| 855k/855k [00:00<00:00, 2.19MB/s]\n",
      "Downloading data: 100%|██████████| 47.1k/47.1k [00:00<00:00, 163kB/s]\n",
      "Generating train split: 100%|██████████| 31406/31406 [00:00<00:00, 133623.90 examples/s]\n",
      "Generating valid split: 100%|██████████| 1000/1000 [00:00<00:00, 145146.69 examples/s]\n",
      "Generating test split: 100%|██████████| 48/48 [00:00<00:00, 23738.54 examples/s]\n"
     ]
    },
    {
     "name": "stdout",
     "output_type": "stream",
     "text": [
      "web\n"
     ]
    },
    {
     "name": "stderr",
     "output_type": "stream",
     "text": [
      "Downloading data: 100%|██████████| 153M/153M [00:04<00:00, 32.6MB/s] \n",
      "Downloading data: 100%|██████████| 1.63M/1.63M [00:00<00:00, 3.59MB/s]\n",
      "Downloading data: 100%|██████████| 49.0k/49.0k [00:00<00:00, 164kB/s]\n",
      "Generating train split: 100%|██████████| 87508/87508 [00:01<00:00, 69146.81 examples/s]\n",
      "Generating valid split: 100%|██████████| 1000/1000 [00:00<00:00, 64855.02 examples/s]\n",
      "Generating test split: 100%|██████████| 34/34 [00:00<00:00, 16878.49 examples/s]\n"
     ]
    },
    {
     "name": "stdout",
     "output_type": "stream",
     "text": [
      "social_media\n"
     ]
    },
    {
     "name": "stderr",
     "output_type": "stream",
     "text": [
      "Downloading data: 100%|██████████| 196M/196M [00:03<00:00, 55.4MB/s] \n",
      "Downloading data: 100%|██████████| 69.9k/69.9k [00:00<00:00, 160kB/s]\n",
      "Downloading data: 100%|██████████| 6.33k/6.33k [00:00<00:00, 18.1kB/s]\n",
      "Generating train split: 100%|██████████| 2538351/2538351 [00:02<00:00, 1004841.93 examples/s]\n",
      "Generating valid split: 100%|██████████| 1000/1000 [00:00<00:00, 374725.63 examples/s]\n",
      "Generating test split: 100%|██████████| 28/28 [00:00<00:00, 18396.07 examples/s]\n"
     ]
    }
   ],
   "source": [
    "for domain in DOMAINS:\n",
    "    print(domain)\n",
    "    dataset = datasets.load_dataset(\"liaad/PtBrVId\", domain)"
   ]
  },
  {
   "cell_type": "code",
   "execution_count": 4,
   "metadata": {},
   "outputs": [
    {
     "name": "stdout",
     "output_type": "stream",
     "text": [
      "journalistic\n"
     ]
    },
    {
     "name": "stderr",
     "output_type": "stream",
     "text": [
      "Map (num_proc=28): 100%|██████████| 1804256/1804256 [00:26<00:00, 68623.73 examples/s]\n",
      "Map (num_proc=28): 100%|██████████| 1000/1000 [00:00<00:00, 2981.58 examples/s]\n",
      "Map (num_proc=28): 100%|██████████| 36/36 [00:00<00:00, 157.50 examples/s]\n"
     ]
    },
    {
     "name": "stdout",
     "output_type": "stream",
     "text": [
      "\ttrain\n",
      "\t\t 0\n"
     ]
    },
    {
     "name": "stderr",
     "output_type": "stream",
     "text": [
      "Filter (num_proc=28): 100%|██████████| 1804256/1804256 [00:00<00:00, 4614510.11 examples/s]\n"
     ]
    },
    {
     "name": "stdout",
     "output_type": "stream",
     "text": [
      "\t\t\tDocs: 1466754\n",
      "\t\t\tTkns: 189557538\n",
      "\t\t\tATkn: 129.24\n",
      "\t\t 1\n"
     ]
    },
    {
     "name": "stderr",
     "output_type": "stream",
     "text": [
      "Filter (num_proc=28): 100%|██████████| 1804256/1804256 [00:00<00:00, 5033029.79 examples/s]\n"
     ]
    },
    {
     "name": "stdout",
     "output_type": "stream",
     "text": [
      "\t\t\tDocs: 337502\n",
      "\t\t\tTkns: 27096516\n",
      "\t\t\tATkn: 80.29\n",
      "\tvalid\n",
      "\t\t 0\n"
     ]
    },
    {
     "name": "stderr",
     "output_type": "stream",
     "text": [
      "Filter (num_proc=28): 100%|██████████| 1000/1000 [00:00<00:00, 3898.83 examples/s]\n"
     ]
    },
    {
     "name": "stdout",
     "output_type": "stream",
     "text": [
      "\t\t\tDocs: 500\n",
      "\t\t\tTkns: 65571\n",
      "\t\t\tATkn: 131.14\n",
      "\t\t 1\n"
     ]
    },
    {
     "name": "stderr",
     "output_type": "stream",
     "text": [
      "Filter (num_proc=28): 100%|██████████| 1000/1000 [00:00<00:00, 4158.53 examples/s]\n"
     ]
    },
    {
     "name": "stdout",
     "output_type": "stream",
     "text": [
      "\t\t\tDocs: 500\n",
      "\t\t\tTkns: 39451\n",
      "\t\t\tATkn: 78.90\n",
      "\ttest\n",
      "\t\t 0\n"
     ]
    },
    {
     "name": "stderr",
     "output_type": "stream",
     "text": [
      "Filter (num_proc=28): 100%|██████████| 36/36 [00:00<00:00, 158.78 examples/s]"
     ]
    },
    {
     "name": "stdout",
     "output_type": "stream",
     "text": [
      "\t\t\tDocs: 16\n",
      "\t\t\tTkns: 2387\n",
      "\t\t\tATkn: 149.19\n",
      "\t\t 1\n"
     ]
    },
    {
     "name": "stderr",
     "output_type": "stream",
     "text": [
      "\n",
      "Filter (num_proc=28): 100%|██████████| 36/36 [00:00<00:00, 159.51 examples/s]\n"
     ]
    },
    {
     "name": "stdout",
     "output_type": "stream",
     "text": [
      "\t\t\tDocs: 20\n",
      "\t\t\tTkns: 2630\n",
      "\t\t\tATkn: 131.50\n",
      "literature\n"
     ]
    },
    {
     "name": "stderr",
     "output_type": "stream",
     "text": [
      "Map (num_proc=28): 100%|██████████| 78279/78279 [00:01<00:00, 68467.93 examples/s]\n",
      "Map (num_proc=28): 100%|██████████| 1000/1000 [00:00<00:00, 4037.25 examples/s]\n",
      "Map (num_proc=28): 100%|██████████| 36/36 [00:00<00:00, 144.34 examples/s]\n"
     ]
    },
    {
     "name": "stdout",
     "output_type": "stream",
     "text": [
      "\ttrain\n",
      "\t\t 0\n"
     ]
    },
    {
     "name": "stderr",
     "output_type": "stream",
     "text": [
      "Filter (num_proc=28): 100%|██████████| 78279/78279 [00:00<00:00, 329715.67 examples/s]\n"
     ]
    },
    {
     "name": "stdout",
     "output_type": "stream",
     "text": [
      "\t\t\tDocs: 24215\n",
      "\t\t\tTkns: 1840573\n",
      "\t\t\tATkn: 76.01\n",
      "\t\t 1\n"
     ]
    },
    {
     "name": "stderr",
     "output_type": "stream",
     "text": [
      "Filter (num_proc=28): 100%|██████████| 78279/78279 [00:00<00:00, 325753.45 examples/s]\n"
     ]
    },
    {
     "name": "stdout",
     "output_type": "stream",
     "text": [
      "\t\t\tDocs: 54064\n",
      "\t\t\tTkns: 3784525\n",
      "\t\t\tATkn: 70.00\n",
      "\tvalid\n",
      "\t\t 0\n"
     ]
    },
    {
     "name": "stderr",
     "output_type": "stream",
     "text": [
      "Filter (num_proc=28): 100%|██████████| 1000/1000 [00:00<00:00, 4544.15 examples/s]"
     ]
    },
    {
     "name": "stdout",
     "output_type": "stream",
     "text": [
      "\t\t\tDocs: 500\n",
      "\t\t\tTkns: 38253\n",
      "\t\t\tATkn: 76.51\n",
      "\t\t 1\n"
     ]
    },
    {
     "name": "stderr",
     "output_type": "stream",
     "text": [
      "\n",
      "Filter (num_proc=28): 100%|██████████| 1000/1000 [00:00<00:00, 4562.44 examples/s]"
     ]
    },
    {
     "name": "stdout",
     "output_type": "stream",
     "text": [
      "\t\t\tDocs: 500\n",
      "\t\t\tTkns: 38189\n",
      "\t\t\tATkn: 76.38\n",
      "\ttest\n",
      "\t\t 0\n"
     ]
    },
    {
     "name": "stderr",
     "output_type": "stream",
     "text": [
      "\n",
      "Filter (num_proc=28): 100%|██████████| 36/36 [00:00<00:00, 152.47 examples/s]"
     ]
    },
    {
     "name": "stdout",
     "output_type": "stream",
     "text": [
      "\t\t\tDocs: 21\n",
      "\t\t\tTkns: 1396\n",
      "\t\t\tATkn: 66.48\n",
      "\t\t 1\n"
     ]
    },
    {
     "name": "stderr",
     "output_type": "stream",
     "text": [
      "\n",
      "Filter (num_proc=28): 100%|██████████| 36/36 [00:00<00:00, 165.12 examples/s]\n"
     ]
    },
    {
     "name": "stdout",
     "output_type": "stream",
     "text": [
      "\t\t\tDocs: 15\n",
      "\t\t\tTkns: 1118\n",
      "\t\t\tATkn: 74.53\n",
      "legal\n"
     ]
    },
    {
     "name": "stderr",
     "output_type": "stream",
     "text": [
      "Map (num_proc=28): 100%|██████████| 4068970/4068970 [00:20<00:00, 199854.23 examples/s]\n",
      "Map (num_proc=28): 100%|██████████| 1000/1000 [00:00<00:00, 4079.16 examples/s]\n",
      "Map (num_proc=28): 100%|██████████| 37/37 [00:00<00:00, 152.09 examples/s]\n"
     ]
    },
    {
     "name": "stdout",
     "output_type": "stream",
     "text": [
      "\ttrain\n",
      "\t\t 0\n"
     ]
    },
    {
     "name": "stderr",
     "output_type": "stream",
     "text": [
      "Filter (num_proc=28): 100%|██████████| 4068970/4068970 [00:00<00:00, 7267197.41 examples/s] \n"
     ]
    },
    {
     "name": "stdout",
     "output_type": "stream",
     "text": [
      "\t\t\tDocs: 4061508\n",
      "\t\t\tTkns: 165932096\n",
      "\t\t\tATkn: 40.85\n",
      "\t\t 1\n"
     ]
    },
    {
     "name": "stderr",
     "output_type": "stream",
     "text": [
      "Filter (num_proc=28): 100%|██████████| 4068970/4068970 [00:00<00:00, 7165107.18 examples/s] \n"
     ]
    },
    {
     "name": "stdout",
     "output_type": "stream",
     "text": [
      "\t\t\tDocs: 7462\n",
      "\t\t\tTkns: 235872\n",
      "\t\t\tATkn: 31.61\n",
      "\tvalid\n",
      "\t\t 0\n"
     ]
    },
    {
     "name": "stderr",
     "output_type": "stream",
     "text": [
      "Filter (num_proc=28): 100%|██████████| 1000/1000 [00:00<00:00, 3841.86 examples/s]\n"
     ]
    },
    {
     "name": "stdout",
     "output_type": "stream",
     "text": [
      "\t\t\tDocs: 500\n",
      "\t\t\tTkns: 18402\n",
      "\t\t\tATkn: 36.80\n",
      "\t\t 1\n"
     ]
    },
    {
     "name": "stderr",
     "output_type": "stream",
     "text": [
      "Filter (num_proc=28): 100%|██████████| 1000/1000 [00:00<00:00, 4191.58 examples/s]\n"
     ]
    },
    {
     "name": "stdout",
     "output_type": "stream",
     "text": [
      "\t\t\tDocs: 500\n",
      "\t\t\tTkns: 14573\n",
      "\t\t\tATkn: 29.15\n",
      "\ttest\n",
      "\t\t 0\n"
     ]
    },
    {
     "name": "stderr",
     "output_type": "stream",
     "text": [
      "Filter (num_proc=28): 100%|██████████| 37/37 [00:00<00:00, 155.69 examples/s]\n"
     ]
    },
    {
     "name": "stdout",
     "output_type": "stream",
     "text": [
      "\t\t\tDocs: 21\n",
      "\t\t\tTkns: 1051\n",
      "\t\t\tATkn: 50.05\n",
      "\t\t 1\n"
     ]
    },
    {
     "name": "stderr",
     "output_type": "stream",
     "text": [
      "Filter (num_proc=28): 100%|██████████| 37/37 [00:00<00:00, 148.93 examples/s]\n"
     ]
    },
    {
     "name": "stdout",
     "output_type": "stream",
     "text": [
      "\t\t\tDocs: 16\n",
      "\t\t\tTkns: 697\n",
      "\t\t\tATkn: 43.56\n",
      "politics\n"
     ]
    },
    {
     "name": "stderr",
     "output_type": "stream",
     "text": [
      "Map (num_proc=28): 100%|██████████| 31406/31406 [00:01<00:00, 24498.78 examples/s]\n",
      "Map (num_proc=28): 100%|██████████| 1000/1000 [00:00<00:00, 3415.83 examples/s]\n",
      "Map (num_proc=28): 100%|██████████| 48/48 [00:00<00:00, 179.13 examples/s]\n"
     ]
    },
    {
     "name": "stdout",
     "output_type": "stream",
     "text": [
      "\ttrain\n",
      "\t\t 0\n"
     ]
    },
    {
     "name": "stderr",
     "output_type": "stream",
     "text": [
      "Filter (num_proc=28): 100%|██████████| 31406/31406 [00:00<00:00, 93902.89 examples/s]\n"
     ]
    },
    {
     "name": "stdout",
     "output_type": "stream",
     "text": [
      "\t\t\tDocs: 28134\n",
      "\t\t\tTkns: 7083043\n",
      "\t\t\tATkn: 251.76\n",
      "\t\t 1\n"
     ]
    },
    {
     "name": "stderr",
     "output_type": "stream",
     "text": [
      "Filter (num_proc=28): 100%|██████████| 31406/31406 [00:00<00:00, 128185.44 examples/s]\n"
     ]
    },
    {
     "name": "stdout",
     "output_type": "stream",
     "text": [
      "\t\t\tDocs: 3272\n",
      "\t\t\tTkns: 870113\n",
      "\t\t\tATkn: 265.93\n",
      "\tvalid\n",
      "\t\t 0\n"
     ]
    },
    {
     "name": "stderr",
     "output_type": "stream",
     "text": [
      "Filter (num_proc=28): 100%|██████████| 1000/1000 [00:00<00:00, 4027.10 examples/s]\n"
     ]
    },
    {
     "name": "stdout",
     "output_type": "stream",
     "text": [
      "\t\t\tDocs: 500\n",
      "\t\t\tTkns: 127532\n",
      "\t\t\tATkn: 255.06\n",
      "\t\t 1\n"
     ]
    },
    {
     "name": "stderr",
     "output_type": "stream",
     "text": [
      "Filter (num_proc=28): 100%|██████████| 1000/1000 [00:00<00:00, 4073.75 examples/s]\n"
     ]
    },
    {
     "name": "stdout",
     "output_type": "stream",
     "text": [
      "\t\t\tDocs: 500\n",
      "\t\t\tTkns: 137050\n",
      "\t\t\tATkn: 274.10\n",
      "\ttest\n",
      "\t\t 0\n"
     ]
    },
    {
     "name": "stderr",
     "output_type": "stream",
     "text": [
      "Filter (num_proc=28): 100%|██████████| 48/48 [00:00<00:00, 191.46 examples/s]\n"
     ]
    },
    {
     "name": "stdout",
     "output_type": "stream",
     "text": [
      "\t\t\tDocs: 19\n",
      "\t\t\tTkns: 4148\n",
      "\t\t\tATkn: 218.32\n",
      "\t\t 1\n"
     ]
    },
    {
     "name": "stderr",
     "output_type": "stream",
     "text": [
      "Filter (num_proc=28): 100%|██████████| 48/48 [00:00<00:00, 190.06 examples/s]\n"
     ]
    },
    {
     "name": "stdout",
     "output_type": "stream",
     "text": [
      "\t\t\tDocs: 29\n",
      "\t\t\tTkns: 7243\n",
      "\t\t\tATkn: 249.76\n",
      "web\n"
     ]
    },
    {
     "name": "stderr",
     "output_type": "stream",
     "text": [
      "Map (num_proc=28): 100%|██████████| 87508/87508 [00:05<00:00, 15671.46 examples/s]\n",
      "Map (num_proc=28): 100%|██████████| 1000/1000 [00:00<00:00, 3458.93 examples/s]\n",
      "Map (num_proc=28): 100%|██████████| 34/34 [00:00<00:00, 117.25 examples/s]\n"
     ]
    },
    {
     "name": "stdout",
     "output_type": "stream",
     "text": [
      "\ttrain\n",
      "\t\t 0\n"
     ]
    },
    {
     "name": "stderr",
     "output_type": "stream",
     "text": [
      "Filter (num_proc=28): 100%|██████████| 87508/87508 [00:00<00:00, 351834.50 examples/s]\n"
     ]
    },
    {
     "name": "stdout",
     "output_type": "stream",
     "text": [
      "\t\t\tDocs: 43466\n",
      "\t\t\tTkns: 22583984\n",
      "\t\t\tATkn: 519.58\n",
      "\t\t 1\n"
     ]
    },
    {
     "name": "stderr",
     "output_type": "stream",
     "text": [
      "Filter (num_proc=28): 100%|██████████| 87508/87508 [00:00<00:00, 353442.46 examples/s]\n"
     ]
    },
    {
     "name": "stdout",
     "output_type": "stream",
     "text": [
      "\t\t\tDocs: 44042\n",
      "\t\t\tTkns: 23988517\n",
      "\t\t\tATkn: 544.67\n",
      "\tvalid\n",
      "\t\t 0\n"
     ]
    },
    {
     "name": "stderr",
     "output_type": "stream",
     "text": [
      "Filter (num_proc=28): 100%|██████████| 1000/1000 [00:00<00:00, 4234.07 examples/s]\n"
     ]
    },
    {
     "name": "stdout",
     "output_type": "stream",
     "text": [
      "\t\t\tDocs: 500\n",
      "\t\t\tTkns: 240061\n",
      "\t\t\tATkn: 480.12\n",
      "\t\t 1\n"
     ]
    },
    {
     "name": "stderr",
     "output_type": "stream",
     "text": [
      "Filter (num_proc=28): 100%|██████████| 1000/1000 [00:00<00:00, 4222.24 examples/s]\n"
     ]
    },
    {
     "name": "stdout",
     "output_type": "stream",
     "text": [
      "\t\t\tDocs: 500\n",
      "\t\t\tTkns: 259292\n",
      "\t\t\tATkn: 518.58\n",
      "\ttest\n",
      "\t\t 0\n"
     ]
    },
    {
     "name": "stderr",
     "output_type": "stream",
     "text": [
      "Filter (num_proc=28): 100%|██████████| 34/34 [00:00<00:00, 135.43 examples/s]\n"
     ]
    },
    {
     "name": "stdout",
     "output_type": "stream",
     "text": [
      "\t\t\tDocs: 17\n",
      "\t\t\tTkns: 5788\n",
      "\t\t\tATkn: 340.47\n",
      "\t\t 1\n"
     ]
    },
    {
     "name": "stderr",
     "output_type": "stream",
     "text": [
      "Filter (num_proc=28): 100%|██████████| 34/34 [00:00<00:00, 134.51 examples/s]\n"
     ]
    },
    {
     "name": "stdout",
     "output_type": "stream",
     "text": [
      "\t\t\tDocs: 17\n",
      "\t\t\tTkns: 5128\n",
      "\t\t\tATkn: 301.65\n",
      "social_media\n"
     ]
    },
    {
     "name": "stderr",
     "output_type": "stream",
     "text": [
      "Map (num_proc=28): 100%|██████████| 2538351/2538351 [00:10<00:00, 245079.18 examples/s]\n",
      "Map (num_proc=28): 100%|██████████| 1000/1000 [00:00<00:00, 3684.47 examples/s]\n",
      "Map (num_proc=28): 100%|██████████| 28/28 [00:00<00:00, 107.39 examples/s]\n"
     ]
    },
    {
     "name": "stdout",
     "output_type": "stream",
     "text": [
      "\ttrain\n",
      "\t\t 0\n"
     ]
    },
    {
     "name": "stderr",
     "output_type": "stream",
     "text": [
      "Filter (num_proc=28): 100%|██████████| 2538351/2538351 [00:00<00:00, 5883879.82 examples/s]\n"
     ]
    },
    {
     "name": "stdout",
     "output_type": "stream",
     "text": [
      "\t\t\tDocs: 2530544\n",
      "\t\t\tTkns: 46655275\n",
      "\t\t\tATkn: 18.44\n",
      "\t\t 1\n"
     ]
    },
    {
     "name": "stderr",
     "output_type": "stream",
     "text": [
      "Filter (num_proc=28): 100%|██████████| 2538351/2538351 [00:00<00:00, 6589463.38 examples/s]\n"
     ]
    },
    {
     "name": "stdout",
     "output_type": "stream",
     "text": [
      "\t\t\tDocs: 7807\n",
      "\t\t\tTkns: 98568\n",
      "\t\t\tATkn: 12.63\n",
      "\tvalid\n",
      "\t\t 0\n"
     ]
    },
    {
     "name": "stderr",
     "output_type": "stream",
     "text": [
      "Filter (num_proc=28): 100%|██████████| 1000/1000 [00:00<00:00, 3019.41 examples/s]\n"
     ]
    },
    {
     "name": "stdout",
     "output_type": "stream",
     "text": [
      "\t\t\tDocs: 500\n",
      "\t\t\tTkns: 9649\n",
      "\t\t\tATkn: 19.30\n",
      "\t\t 1\n"
     ]
    },
    {
     "name": "stderr",
     "output_type": "stream",
     "text": [
      "Filter (num_proc=28): 100%|██████████| 1000/1000 [00:00<00:00, 4193.56 examples/s]\n"
     ]
    },
    {
     "name": "stdout",
     "output_type": "stream",
     "text": [
      "\t\t\tDocs: 500\n",
      "\t\t\tTkns: 6163\n",
      "\t\t\tATkn: 12.33\n",
      "\ttest\n",
      "\t\t 0\n"
     ]
    },
    {
     "name": "stderr",
     "output_type": "stream",
     "text": [
      "Filter (num_proc=28): 100%|██████████| 28/28 [00:00<00:00, 94.32 examples/s]\n"
     ]
    },
    {
     "name": "stdout",
     "output_type": "stream",
     "text": [
      "\t\t\tDocs: 15\n",
      "\t\t\tTkns: 957\n",
      "\t\t\tATkn: 63.80\n",
      "\t\t 1\n"
     ]
    },
    {
     "name": "stderr",
     "output_type": "stream",
     "text": [
      "Filter (num_proc=28): 100%|██████████| 28/28 [00:00<00:00, 112.99 examples/s]\n"
     ]
    },
    {
     "name": "stdout",
     "output_type": "stream",
     "text": [
      "\t\t\tDocs: 13\n",
      "\t\t\tTkns: 268\n",
      "\t\t\tATkn: 20.62\n"
     ]
    }
   ],
   "source": [
    "for domain in DOMAINS:\n",
    "    print(domain)\n",
    "    dataset = datasets.load_dataset(\"liaad/PtBrVId\", domain)\n",
    "    dataset = dataset.map(count_tokens, num_proc=N_PROC)\n",
    "    for split in [\"train\", \"valid\", \"test\"]:\n",
    "        print(f\"\\t{split}\")\n",
    "        sdata = dataset[split]\n",
    "\n",
    "        for label in [0, 1]:\n",
    "            print(\"\\t\\t\", label)\n",
    "            lsdata = sdata.filter(lambda x: x[\"label\"] == label, num_proc=N_PROC)\n",
    "            n_docs = len(lsdata)\n",
    "            print(f\"\\t\\t\\tDocs: {n_docs}\")\n",
    "            n_tokens = sum(lsdata[\"n_tokens\"])\n",
    "            print(f\"\\t\\t\\tTkns: {n_tokens}\")\n",
    "            print(f\"\\t\\t\\tATkn: {n_tokens/n_docs:.02f}\")\n"
   ]
  },
  {
   "cell_type": "code",
   "execution_count": 5,
   "metadata": {},
   "outputs": [
    {
     "name": "stdout",
     "output_type": "stream",
     "text": [
      "journalistic\n"
     ]
    },
    {
     "name": "stdout",
     "output_type": "stream",
     "text": [
      "\t\tDocs: 1805292\n",
      "\t\tTkns: 216764093\n",
      "\t\tmTkns: 0\n",
      "\t\tMTkns: 560\n",
      "\t\tATkn: 120.07\n",
      "literature\n",
      "\t\tDocs: 79315\n",
      "\t\tTkns: 5704054\n",
      "\t\tmTkns: 1\n",
      "\t\tMTkns: 182\n",
      "\t\tATkn: 71.92\n",
      "legal\n",
      "\t\tDocs: 4070007\n",
      "\t\tTkns: 166202691\n",
      "\t\tmTkns: 1\n",
      "\t\tMTkns: 124\n",
      "\t\tATkn: 40.84\n",
      "politics\n",
      "\t\tDocs: 32454\n",
      "\t\tTkns: 8229129\n",
      "\t\tmTkns: 2\n",
      "\t\tMTkns: 798\n",
      "\t\tATkn: 253.56\n",
      "web\n",
      "\t\tDocs: 88542\n",
      "\t\tTkns: 47082770\n",
      "\t\tmTkns: 14\n",
      "\t\tMTkns: 2070\n",
      "\t\tATkn: 531.76\n",
      "social_media\n",
      "\t\tDocs: 2539379\n",
      "\t\tTkns: 46770880\n",
      "\t\tmTkns: 1\n",
      "\t\tMTkns: 646\n",
      "\t\tATkn: 18.42\n"
     ]
    }
   ],
   "source": [
    "for domain in DOMAINS:\n",
    "    print(domain)\n",
    "    dataset = datasets.load_dataset(\"liaad/PtBrVId\", domain)\n",
    "    dataset = dataset.map(count_tokens, num_proc=N_PROC)\n",
    "    \n",
    "    data = datasets.concatenate_datasets([dataset[split] for split in [\"train\", \"valid\", \"test\"]])\n",
    "\n",
    "    n_docs = len(data)\n",
    "    n_tokens = sum(data[\"n_tokens\"])\n",
    "    min_tokens = min(data[\"n_tokens\"])\n",
    "    max_tokens = max(data[\"n_tokens\"])\n",
    "    avg_tokens = n_tokens / n_docs \n",
    "\n",
    "    print(f\"\\t\\tDocs: {n_docs}\")\n",
    "    print(f\"\\t\\tTkns: {n_tokens}\")\n",
    "    print(f\"\\t\\tmTkns: {min_tokens}\")\n",
    "    print(f\"\\t\\tMTkns: {max_tokens}\")\n",
    "    print(f\"\\t\\tATkn: {avg_tokens:.02f}\")"
   ]
  },
  {
   "cell_type": "code",
   "execution_count": null,
   "metadata": {},
   "outputs": [],
   "source": []
  }
 ],
 "metadata": {
  "kernelspec": {
   "display_name": "Python 3",
   "language": "python",
   "name": "python3"
  },
  "language_info": {
   "codemirror_mode": {
    "name": "ipython",
    "version": 3
   },
   "file_extension": ".py",
   "mimetype": "text/x-python",
   "name": "python",
   "nbconvert_exporter": "python",
   "pygments_lexer": "ipython3",
   "version": "3.11.9"
  }
 },
 "nbformat": 4,
 "nbformat_minor": 2
}
