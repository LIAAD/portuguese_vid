{
 "cells": [
  {
   "cell_type": "code",
   "execution_count": 9,
   "metadata": {},
   "outputs": [],
   "source": [
    "import multiprocessing as mp\n",
    "import datasets\n",
    "\n",
    "from transformers import AutoTokenizer\n",
    "from ptvid.constants import DOMAINS\n",
    "\n",
    "N_PROC = mp.cpu_count()"
   ]
  },
  {
   "cell_type": "code",
   "execution_count": 4,
   "metadata": {},
   "outputs": [],
   "source": [
    "tokenizer = AutoTokenizer.from_pretrained(\"meta-llama/Meta-Llama-3-8B\")"
   ]
  },
  {
   "cell_type": "code",
   "execution_count": 6,
   "metadata": {},
   "outputs": [
    {
     "data": {
      "text/plain": [
       "['this', 'Ġis', 'Ġan', 'Ġexample']"
      ]
     },
     "execution_count": 6,
     "metadata": {},
     "output_type": "execute_result"
    }
   ],
   "source": [
    "tokenizer.tokenize(\"this is an example\")"
   ]
  },
  {
   "cell_type": "code",
   "execution_count": 12,
   "metadata": {},
   "outputs": [],
   "source": [
    "def count_tokens(example):\n",
    "    n_tokens = len(tokenizer.tokenize(example[\"text\"]))\n",
    "    example[\"n_tokens\"] = n_tokens\n",
    "    return example"
   ]
  },
  {
   "cell_type": "code",
   "execution_count": 14,
   "metadata": {},
   "outputs": [
    {
     "name": "stdout",
     "output_type": "stream",
     "text": [
      "journalistic\n",
      "literature\n",
      "legal\n",
      "politics\n",
      "web\n",
      "social_media\n"
     ]
    },
    {
     "name": "stderr",
     "output_type": "stream",
     "text": [
      "Downloading data: 100%|██████████| 188M/188M [00:04<00:00, 44.7MB/s] \n",
      "Downloading data: 100%|██████████| 195k/195k [00:00<00:00, 511kB/s]\n",
      "Downloading data: 100%|██████████| 6.33k/6.33k [00:00<00:00, 19.7kB/s]\n",
      "Generating train split: 100%|██████████| 2018904/2018904 [00:02<00:00, 852197.07 examples/s]\n",
      "Generating valid split: 100%|██████████| 2000/2000 [00:00<00:00, 468846.86 examples/s]\n",
      "Generating test split: 100%|██████████| 28/28 [00:00<00:00, 25885.06 examples/s]\n"
     ]
    }
   ],
   "source": [
    "for domain in DOMAINS:\n",
    "    print(domain)\n",
    "    dataset = datasets.load_dataset(\"liaad/PtBrVId\", domain)"
   ]
  },
  {
   "cell_type": "code",
   "execution_count": 20,
   "metadata": {},
   "outputs": [
    {
     "name": "stdout",
     "output_type": "stream",
     "text": [
      "journalistic\n"
     ]
    },
    {
     "name": "stdout",
     "output_type": "stream",
     "text": [
      "\ttrain\n",
      "\t\t 0\n",
      "\t\t\tDocs: 1413870\n",
      "\t\t\tTkns: 278684788\n",
      "\t\t\tATkn: 197.11\n",
      "\t\t 1\n",
      "\t\t\tDocs: 328855\n",
      "\t\t\tTkns: 40313699\n",
      "\t\t\tATkn: 122.59\n",
      "\tvalid\n",
      "\t\t 0\n",
      "\t\t\tDocs: 1000\n",
      "\t\t\tTkns: 194904\n",
      "\t\t\tATkn: 194.90\n",
      "\t\t 1\n",
      "\t\t\tDocs: 1000\n",
      "\t\t\tTkns: 125341\n",
      "\t\t\tATkn: 125.34\n",
      "\ttest\n",
      "\t\t 0\n",
      "\t\t\tDocs: 16\n",
      "\t\t\tTkns: 3651\n",
      "\t\t\tATkn: 228.19\n",
      "\t\t 1\n",
      "\t\t\tDocs: 20\n",
      "\t\t\tTkns: 4027\n",
      "\t\t\tATkn: 201.35\n",
      "literature\n",
      "\ttrain\n",
      "\t\t 0\n",
      "\t\t\tDocs: 21258\n",
      "\t\t\tTkns: 2211204\n",
      "\t\t\tATkn: 104.02\n",
      "\t\t 1\n",
      "\t\t\tDocs: 67264\n",
      "\t\t\tTkns: 6530678\n",
      "\t\t\tATkn: 97.09\n",
      "\tvalid\n",
      "\t\t 0\n",
      "\t\t\tDocs: 1000\n",
      "\t\t\tTkns: 104882\n",
      "\t\t\tATkn: 104.88\n",
      "\t\t 1\n",
      "\t\t\tDocs: 1000\n",
      "\t\t\tTkns: 94797\n",
      "\t\t\tATkn: 94.80\n",
      "\ttest\n",
      "\t\t 0\n",
      "\t\t\tDocs: 21\n",
      "\t\t\tTkns: 2128\n",
      "\t\t\tATkn: 101.33\n",
      "\t\t 1\n",
      "\t\t\tDocs: 15\n",
      "\t\t\tTkns: 1682\n",
      "\t\t\tATkn: 112.13\n",
      "legal\n",
      "\ttrain\n",
      "\t\t 0\n",
      "\t\t\tDocs: 460785\n",
      "\t\t\tTkns: 38965551\n",
      "\t\t\tATkn: 84.56\n",
      "\t\t 1\n",
      "\t\t\tDocs: 3631\n",
      "\t\t\tTkns: 306088\n",
      "\t\t\tATkn: 84.30\n",
      "\tvalid\n",
      "\t\t 0\n",
      "\t\t\tDocs: 1000\n",
      "\t\t\tTkns: 84857\n",
      "\t\t\tATkn: 84.86\n",
      "\t\t 1\n",
      "\t\t\tDocs: 1000\n",
      "\t\t\tTkns: 85523\n",
      "\t\t\tATkn: 85.52\n",
      "\ttest\n",
      "\t\t 0\n",
      "\t\t\tDocs: 21\n",
      "\t\t\tTkns: 1591\n",
      "\t\t\tATkn: 75.76\n",
      "\t\t 1\n",
      "\t\t\tDocs: 16\n",
      "\t\t\tTkns: 1080\n",
      "\t\t\tATkn: 67.50\n",
      "politics\n",
      "\ttrain\n",
      "\t\t 0\n"
     ]
    },
    {
     "name": "stderr",
     "output_type": "stream",
     "text": [
      "Filter (num_proc=28): 100%|██████████| 3809/3809 [00:00<00:00, 12509.92 examples/s]\n"
     ]
    },
    {
     "name": "stdout",
     "output_type": "stream",
     "text": [
      "\t\t\tDocs: 771\n",
      "\t\t\tTkns: 160551\n",
      "\t\t\tATkn: 208.24\n",
      "\t\t 1\n"
     ]
    },
    {
     "name": "stderr",
     "output_type": "stream",
     "text": [
      "Filter (num_proc=28): 100%|██████████| 3809/3809 [00:00<00:00, 12435.92 examples/s]\n"
     ]
    },
    {
     "name": "stdout",
     "output_type": "stream",
     "text": [
      "\t\t\tDocs: 3038\n",
      "\t\t\tTkns: 1394623\n",
      "\t\t\tATkn: 459.06\n",
      "\tvalid\n",
      "\t\t 0\n"
     ]
    },
    {
     "name": "stderr",
     "output_type": "stream",
     "text": [
      "Filter (num_proc=28): 100%|██████████| 2000/2000 [00:00<00:00, 6692.55 examples/s]\n"
     ]
    },
    {
     "name": "stdout",
     "output_type": "stream",
     "text": [
      "\t\t\tDocs: 1000\n",
      "\t\t\tTkns: 197962\n",
      "\t\t\tATkn: 197.96\n",
      "\t\t 1\n"
     ]
    },
    {
     "name": "stderr",
     "output_type": "stream",
     "text": [
      "Filter (num_proc=28): 100%|██████████| 2000/2000 [00:00<00:00, 6515.32 examples/s] \n"
     ]
    },
    {
     "name": "stdout",
     "output_type": "stream",
     "text": [
      "\t\t\tDocs: 1000\n",
      "\t\t\tTkns: 450875\n",
      "\t\t\tATkn: 450.88\n",
      "\ttest\n",
      "\t\t 0\n"
     ]
    },
    {
     "name": "stderr",
     "output_type": "stream",
     "text": [
      "Filter (num_proc=28): 100%|██████████| 48/48 [00:00<00:00, 157.55 examples/s]\n"
     ]
    },
    {
     "name": "stdout",
     "output_type": "stream",
     "text": [
      "\t\t\tDocs: 19\n",
      "\t\t\tTkns: 6259\n",
      "\t\t\tATkn: 329.42\n",
      "\t\t 1\n"
     ]
    },
    {
     "name": "stderr",
     "output_type": "stream",
     "text": [
      "Filter (num_proc=28): 100%|██████████| 48/48 [00:00<00:00, 157.87 examples/s]\n"
     ]
    },
    {
     "name": "stdout",
     "output_type": "stream",
     "text": [
      "\t\t\tDocs: 29\n",
      "\t\t\tTkns: 10764\n",
      "\t\t\tATkn: 371.17\n",
      "web\n",
      "\ttrain\n",
      "\t\t 0\n"
     ]
    },
    {
     "name": "stderr",
     "output_type": "stream",
     "text": [
      "Filter (num_proc=28): 100%|██████████| 138867/138867 [00:00<00:00, 449004.14 examples/s]\n"
     ]
    },
    {
     "name": "stdout",
     "output_type": "stream",
     "text": [
      "\t\t\tDocs: 48751\n",
      "\t\t\tTkns: 25797316\n",
      "\t\t\tATkn: 529.16\n",
      "\t\t 1\n"
     ]
    },
    {
     "name": "stderr",
     "output_type": "stream",
     "text": [
      "Filter (num_proc=28): 100%|██████████| 138867/138867 [00:00<00:00, 435875.51 examples/s]\n"
     ]
    },
    {
     "name": "stdout",
     "output_type": "stream",
     "text": [
      "\t\t\tDocs: 90116\n",
      "\t\t\tTkns: 50733155\n",
      "\t\t\tATkn: 562.98\n",
      "\tvalid\n",
      "\t\t 0\n"
     ]
    },
    {
     "name": "stderr",
     "output_type": "stream",
     "text": [
      "Filter (num_proc=28): 100%|██████████| 2000/2000 [00:00<00:00, 6333.07 examples/s]\n"
     ]
    },
    {
     "name": "stdout",
     "output_type": "stream",
     "text": [
      "\t\t\tDocs: 1000\n",
      "\t\t\tTkns: 464462\n",
      "\t\t\tATkn: 464.46\n",
      "\t\t 1\n"
     ]
    },
    {
     "name": "stderr",
     "output_type": "stream",
     "text": [
      "Filter (num_proc=28): 100%|██████████| 2000/2000 [00:00<00:00, 6388.32 examples/s] \n"
     ]
    },
    {
     "name": "stdout",
     "output_type": "stream",
     "text": [
      "\t\t\tDocs: 1000\n",
      "\t\t\tTkns: 510569\n",
      "\t\t\tATkn: 510.57\n",
      "\ttest\n",
      "\t\t 0\n"
     ]
    },
    {
     "name": "stderr",
     "output_type": "stream",
     "text": [
      "Filter (num_proc=28): 100%|██████████| 34/34 [00:00<00:00, 109.92 examples/s]"
     ]
    },
    {
     "name": "stdout",
     "output_type": "stream",
     "text": [
      "\t\t\tDocs: 17\n",
      "\t\t\tTkns: 8868\n",
      "\t\t\tATkn: 521.65\n",
      "\t\t 1\n"
     ]
    },
    {
     "name": "stderr",
     "output_type": "stream",
     "text": [
      "\n",
      "Filter (num_proc=28): 100%|██████████| 34/34 [00:00<00:00, 108.96 examples/s]\n"
     ]
    },
    {
     "name": "stdout",
     "output_type": "stream",
     "text": [
      "\t\t\tDocs: 17\n",
      "\t\t\tTkns: 8993\n",
      "\t\t\tATkn: 529.00\n",
      "social_media\n",
      "\ttrain\n",
      "\t\t 0\n"
     ]
    },
    {
     "name": "stderr",
     "output_type": "stream",
     "text": [
      "Filter (num_proc=28): 100%|██████████| 2018904/2018904 [00:00<00:00, 3822143.21 examples/s]\n"
     ]
    },
    {
     "name": "stdout",
     "output_type": "stream",
     "text": [
      "\t\t\tDocs: 2013739\n",
      "\t\t\tTkns: 75933432\n",
      "\t\t\tATkn: 37.71\n",
      "\t\t 1\n"
     ]
    },
    {
     "name": "stderr",
     "output_type": "stream",
     "text": [
      "Filter (num_proc=28): 100%|██████████| 2018904/2018904 [00:00<00:00, 4249184.01 examples/s]\n"
     ]
    },
    {
     "name": "stdout",
     "output_type": "stream",
     "text": [
      "\t\t\tDocs: 5165\n",
      "\t\t\tTkns: 205038\n",
      "\t\t\tATkn: 39.70\n",
      "\tvalid\n",
      "\t\t 0\n"
     ]
    },
    {
     "name": "stderr",
     "output_type": "stream",
     "text": [
      "Filter (num_proc=28): 100%|██████████| 2000/2000 [00:00<00:00, 6922.13 examples/s]\n"
     ]
    },
    {
     "name": "stdout",
     "output_type": "stream",
     "text": [
      "\t\t\tDocs: 1000\n",
      "\t\t\tTkns: 37938\n",
      "\t\t\tATkn: 37.94\n",
      "\t\t 1\n"
     ]
    },
    {
     "name": "stderr",
     "output_type": "stream",
     "text": [
      "Filter (num_proc=28): 100%|██████████| 2000/2000 [00:00<00:00, 6655.61 examples/s]\n"
     ]
    },
    {
     "name": "stdout",
     "output_type": "stream",
     "text": [
      "\t\t\tDocs: 1000\n",
      "\t\t\tTkns: 41259\n",
      "\t\t\tATkn: 41.26\n",
      "\ttest\n",
      "\t\t 0\n"
     ]
    },
    {
     "name": "stderr",
     "output_type": "stream",
     "text": [
      "Filter (num_proc=28): 100%|██████████| 28/28 [00:00<00:00, 92.93 examples/s]\n"
     ]
    },
    {
     "name": "stdout",
     "output_type": "stream",
     "text": [
      "\t\t\tDocs: 15\n",
      "\t\t\tTkns: 1322\n",
      "\t\t\tATkn: 88.13\n",
      "\t\t 1\n"
     ]
    },
    {
     "name": "stderr",
     "output_type": "stream",
     "text": [
      "Filter (num_proc=28): 100%|██████████| 28/28 [00:00<00:00, 94.50 examples/s]\n"
     ]
    },
    {
     "name": "stdout",
     "output_type": "stream",
     "text": [
      "\t\t\tDocs: 13\n",
      "\t\t\tTkns: 418\n",
      "\t\t\tATkn: 32.15\n"
     ]
    }
   ],
   "source": [
    "for domain in DOMAINS:\n",
    "    print(domain)\n",
    "    dataset = datasets.load_dataset(\"liaad/PtBrVId\", domain)\n",
    "    dataset = dataset.map(count_tokens, num_proc=N_PROC)\n",
    "    for split in [\"train\", \"valid\", \"test\"]:\n",
    "        print(f\"\\t{split}\")\n",
    "        sdata = dataset[split]\n",
    "\n",
    "        for label in [0, 1]:\n",
    "            print(\"\\t\\t\", label)\n",
    "            lsdata = sdata.filter(lambda x: x[\"label\"] == label, num_proc=N_PROC)\n",
    "            n_docs = len(lsdata)\n",
    "            print(f\"\\t\\t\\tDocs: {n_docs}\")\n",
    "            n_tokens = sum(lsdata[\"n_tokens\"])\n",
    "            print(f\"\\t\\t\\tTkns: {n_tokens}\")\n",
    "            print(f\"\\t\\t\\tATkn: {n_tokens/n_docs:.02f}\")\n"
   ]
  },
  {
   "cell_type": "code",
   "execution_count": null,
   "metadata": {},
   "outputs": [],
   "source": []
  }
 ],
 "metadata": {
  "kernelspec": {
   "display_name": "Python 3",
   "language": "python",
   "name": "python3"
  },
  "language_info": {
   "codemirror_mode": {
    "name": "ipython",
    "version": 3
   },
   "file_extension": ".py",
   "mimetype": "text/x-python",
   "name": "python",
   "nbconvert_exporter": "python",
   "pygments_lexer": "ipython3",
   "version": "3.11.9"
  }
 },
 "nbformat": 4,
 "nbformat_minor": 2
}
