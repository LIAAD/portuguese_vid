{
 "cells": [
  {
   "cell_type": "code",
   "execution_count": 1,
   "metadata": {},
   "outputs": [
    {
     "name": "stderr",
     "output_type": "stream",
     "text": [
      "/home/hmosousa/Projects/portuguese_vid/.conda/lib/python3.11/site-packages/tqdm/auto.py:21: TqdmWarning: IProgress not found. Please update jupyter and ipywidgets. See https://ipywidgets.readthedocs.io/en/stable/user_install.html\n",
      "  from .autonotebook import tqdm as notebook_tqdm\n"
     ]
    }
   ],
   "source": [
    "import multiprocessing as mp\n",
    "import datasets\n",
    "\n",
    "from nltk.tokenize import word_tokenize\n",
    "from ptvid.constants import DOMAINS\n",
    "\n",
    "N_PROC = mp.cpu_count()"
   ]
  },
  {
   "cell_type": "code",
   "execution_count": 2,
   "metadata": {},
   "outputs": [],
   "source": [
    "def count_tokens(example):\n",
    "    n_tokens = len(word_tokenize(example[\"text\"], language=\"portuguese\"))\n",
    "    example[\"n_tokens\"] = n_tokens\n",
    "    return example"
   ]
  },
  {
   "cell_type": "code",
   "execution_count": 3,
   "metadata": {},
   "outputs": [
    {
     "name": "stdout",
     "output_type": "stream",
     "text": [
      "journalistic\n"
     ]
    },
    {
     "name": "stderr",
     "output_type": "stream",
     "text": [
      "Downloading readme: 100%|██████████| 9.91k/9.91k [00:00<00:00, 9.38MB/s]\n",
      "Downloading data: 100%|██████████| 282M/282M [00:03<00:00, 74.7MB/s] \n",
      "Downloading data: 100%|██████████| 282M/282M [00:03<00:00, 79.3MB/s] \n",
      "Downloading data: 100%|██████████| 223M/223M [00:02<00:00, 74.6MB/s] \n",
      "Downloading data: 100%|██████████| 387k/387k [00:00<00:00, 2.32MB/s]\n",
      "Downloading data: 100%|██████████| 21.2k/21.2k [00:00<00:00, 131kB/s]\n",
      "Generating train split: 100%|██████████| 1804256/1804256 [00:13<00:00, 136810.19 examples/s]\n",
      "Generating valid split: 100%|██████████| 1000/1000 [00:00<00:00, 97780.72 examples/s]\n",
      "Generating test split: 100%|██████████| 36/36 [00:00<00:00, 11118.10 examples/s]\n"
     ]
    },
    {
     "name": "stdout",
     "output_type": "stream",
     "text": [
      "literature\n"
     ]
    },
    {
     "name": "stderr",
     "output_type": "stream",
     "text": [
      "Downloading data: 100%|██████████| 18.5M/18.5M [00:00<00:00, 29.9MB/s]\n",
      "Downloading data: 100%|██████████| 253k/253k [00:00<00:00, 1.55MB/s]\n",
      "Downloading data: 100%|██████████| 12.5k/12.5k [00:00<00:00, 65.9kB/s]\n",
      "Generating train split: 100%|██████████| 78315/78315 [00:00<00:00, 222295.18 examples/s]\n",
      "Generating valid split: 100%|██████████| 1000/1000 [00:00<00:00, 144840.94 examples/s]\n",
      "Generating test split: 100%|██████████| 36/36 [00:00<00:00, 11544.84 examples/s]\n"
     ]
    },
    {
     "name": "stdout",
     "output_type": "stream",
     "text": [
      "legal\n"
     ]
    },
    {
     "name": "stderr",
     "output_type": "stream",
     "text": [
      "Downloading data: 100%|██████████| 192M/192M [00:02<00:00, 73.3MB/s] \n",
      "Downloading data: 100%|██████████| 197M/197M [00:02<00:00, 66.9MB/s] \n",
      "Downloading data: 100%|██████████| 199M/199M [00:02<00:00, 79.3MB/s] \n",
      "Downloading data: 100%|██████████| 121k/121k [00:00<00:00, 407kB/s]\n",
      "Downloading data: 100%|██████████| 9.37k/9.37k [00:00<00:00, 58.1kB/s]\n",
      "Generating train split: 100%|██████████| 4068980/4068980 [00:11<00:00, 339827.39 examples/s]\n",
      "Generating valid split: 100%|██████████| 1000/1000 [00:00<00:00, 174588.08 examples/s]\n",
      "Generating test split: 100%|██████████| 37/37 [00:00<00:00, 12674.72 examples/s]\n"
     ]
    },
    {
     "name": "stdout",
     "output_type": "stream",
     "text": [
      "politics\n"
     ]
    },
    {
     "name": "stderr",
     "output_type": "stream",
     "text": [
      "Downloading data: 100%|██████████| 26.6M/26.6M [00:00<00:00, 56.6MB/s]\n",
      "Downloading data: 100%|██████████| 855k/855k [00:00<00:00, 4.56MB/s]\n",
      "Downloading data: 100%|██████████| 47.1k/47.1k [00:00<00:00, 233kB/s]\n",
      "Generating train split: 100%|██████████| 31406/31406 [00:00<00:00, 70421.02 examples/s]\n",
      "Generating valid split: 100%|██████████| 1000/1000 [00:00<00:00, 63214.83 examples/s]\n",
      "Generating test split: 100%|██████████| 48/48 [00:00<00:00, 13676.15 examples/s]\n"
     ]
    },
    {
     "name": "stdout",
     "output_type": "stream",
     "text": [
      "web\n"
     ]
    },
    {
     "name": "stderr",
     "output_type": "stream",
     "text": [
      "Downloading data: 100%|██████████| 153M/153M [00:02<00:00, 62.4MB/s] \n",
      "Downloading data: 100%|██████████| 1.63M/1.63M [00:00<00:00, 5.67MB/s]\n",
      "Downloading data: 100%|██████████| 49.0k/49.0k [00:00<00:00, 267kB/s]\n",
      "Generating train split: 100%|██████████| 87508/87508 [00:02<00:00, 37241.58 examples/s]\n",
      "Generating valid split: 100%|██████████| 1000/1000 [00:00<00:00, 34515.91 examples/s]\n",
      "Generating test split: 100%|██████████| 34/34 [00:00<00:00, 9995.54 examples/s]\n"
     ]
    },
    {
     "name": "stdout",
     "output_type": "stream",
     "text": [
      "social_media\n"
     ]
    },
    {
     "name": "stderr",
     "output_type": "stream",
     "text": [
      "Downloading data: 100%|██████████| 196M/196M [00:02<00:00, 74.0MB/s] \n",
      "Downloading data: 100%|██████████| 69.9k/69.9k [00:00<00:00, 420kB/s]\n",
      "Downloading data: 100%|██████████| 6.33k/6.33k [00:00<00:00, 29.6kB/s]\n",
      "Generating train split: 100%|██████████| 2538360/2538360 [00:04<00:00, 620135.24 examples/s]\n",
      "Generating valid split: 100%|██████████| 1000/1000 [00:00<00:00, 221674.54 examples/s]\n",
      "Generating test split: 100%|██████████| 28/28 [00:00<00:00, 9517.06 examples/s]\n"
     ]
    }
   ],
   "source": [
    "for domain in DOMAINS:\n",
    "    print(domain)\n",
    "    dataset = datasets.load_dataset(\"liaad/PtBrVId\", domain)"
   ]
  },
  {
   "cell_type": "code",
   "execution_count": 4,
   "metadata": {},
   "outputs": [
    {
     "name": "stdout",
     "output_type": "stream",
     "text": [
      "journalistic\n"
     ]
    },
    {
     "name": "stderr",
     "output_type": "stream",
     "text": [
      "Map (num_proc=96): 100%|██████████| 1804256/1804256 [00:26<00:00, 67029.87 examples/s] \n",
      "Map (num_proc=96): 100%|██████████| 1000/1000 [00:00<00:00, 2180.50 examples/s]\n",
      "num_proc must be <= 36. Reducing num_proc to 36 for dataset of size 36.\n",
      "Map (num_proc=36): 100%|██████████| 36/36 [00:00<00:00, 150.74 examples/s]\n"
     ]
    },
    {
     "name": "stdout",
     "output_type": "stream",
     "text": [
      "\ttrain\n",
      "\t\t 0\n"
     ]
    },
    {
     "name": "stderr",
     "output_type": "stream",
     "text": [
      "Filter (num_proc=96): 100%|██████████| 1804256/1804256 [00:00<00:00, 3375387.34 examples/s]\n"
     ]
    },
    {
     "name": "stdout",
     "output_type": "stream",
     "text": [
      "\t\t\tDocs: 1466754\n",
      "\t\t\tTkns: 189557352\n",
      "\t\t\tTkns: 189557352\n",
      "\t\t\tATkn: 129.24\n",
      "\t\t 1\n"
     ]
    },
    {
     "name": "stderr",
     "output_type": "stream",
     "text": [
      "Filter (num_proc=96): 100%|██████████| 1804256/1804256 [00:00<00:00, 3419706.36 examples/s]\n"
     ]
    },
    {
     "name": "stdout",
     "output_type": "stream",
     "text": [
      "\t\t\tDocs: 337502\n",
      "\t\t\tTkns: 27096514\n",
      "\t\t\tTkns: 27096514\n",
      "\t\t\tATkn: 80.29\n",
      "\tvalid\n",
      "\t\t 0\n"
     ]
    },
    {
     "name": "stderr",
     "output_type": "stream",
     "text": [
      "Filter (num_proc=96): 100%|██████████| 1000/1000 [00:00<00:00, 2442.86 examples/s]\n"
     ]
    },
    {
     "name": "stdout",
     "output_type": "stream",
     "text": [
      "\t\t\tDocs: 500\n",
      "\t\t\tTkns: 65571\n",
      "\t\t\tATkn: 131.14\n",
      "\t\t 1\n"
     ]
    },
    {
     "name": "stderr",
     "output_type": "stream",
     "text": [
      "Filter (num_proc=96): 100%|██████████| 1000/1000 [00:00<00:00, 2559.97 examples/s]\n",
      "num_proc must be <= 36. Reducing num_proc to 36 for dataset of size 36.\n"
     ]
    },
    {
     "name": "stdout",
     "output_type": "stream",
     "text": [
      "\t\t\tDocs: 500\n",
      "\t\t\tTkns: 39451\n",
      "\t\t\tATkn: 78.90\n",
      "\ttest\n",
      "\t\t 0\n"
     ]
    },
    {
     "name": "stderr",
     "output_type": "stream",
     "text": [
      "Filter (num_proc=36): 100%|██████████| 36/36 [00:00<00:00, 128.21 examples/s]\n",
      "num_proc must be <= 36. Reducing num_proc to 36 for dataset of size 36.\n"
     ]
    },
    {
     "name": "stdout",
     "output_type": "stream",
     "text": [
      "\t\t\tDocs: 16\n",
      "\t\t\tTkns: 2387\n",
      "\t\t\tATkn: 149.19\n",
      "\t\t 1\n"
     ]
    },
    {
     "name": "stderr",
     "output_type": "stream",
     "text": [
      "Filter (num_proc=36): 100%|██████████| 36/36 [00:00<00:00, 151.51 examples/s]\n"
     ]
    },
    {
     "name": "stdout",
     "output_type": "stream",
     "text": [
      "\t\t\tDocs: 20\n",
      "\t\t\tTkns: 2630\n",
      "\t\t\tATkn: 131.50\n",
      "literature\n"
     ]
    },
    {
     "name": "stderr",
     "output_type": "stream",
     "text": [
      "Map (num_proc=96): 100%|██████████| 78315/78315 [00:01<00:00, 65770.47 examples/s]\n",
      "Map (num_proc=96): 100%|██████████| 1000/1000 [00:00<00:00, 2321.91 examples/s]\n",
      "num_proc must be <= 36. Reducing num_proc to 36 for dataset of size 36.\n",
      "Map (num_proc=36): 100%|██████████| 36/36 [00:00<00:00, 161.13 examples/s]\n"
     ]
    },
    {
     "name": "stdout",
     "output_type": "stream",
     "text": [
      "\ttrain\n",
      "\t\t 0\n"
     ]
    },
    {
     "name": "stderr",
     "output_type": "stream",
     "text": [
      "Filter (num_proc=96): 100%|██████████| 78315/78315 [00:00<00:00, 200580.54 examples/s]\n"
     ]
    },
    {
     "name": "stdout",
     "output_type": "stream",
     "text": [
      "\t\t\tDocs: 24243\n",
      "\t\t\tTkns: 1825900\n",
      "\t\t\tATkn: 75.32\n",
      "\t\t\tDocs: 24243\n",
      "\t\t\tTkns: 1825900\n",
      "\t\t\tATkn: 75.32\n",
      "\t\t 1\n"
     ]
    },
    {
     "name": "stderr",
     "output_type": "stream",
     "text": [
      "Filter (num_proc=96): 100%|██████████| 78315/78315 [00:00<00:00, 206014.36 examples/s]\n"
     ]
    },
    {
     "name": "stdout",
     "output_type": "stream",
     "text": [
      "\t\t\tDocs: 54072\n",
      "\t\t\tTkns: 3783515\n",
      "\t\t\tATkn: 69.97\n",
      "\t\t\tDocs: 54072\n",
      "\t\t\tTkns: 3783515\n",
      "\t\t\tATkn: 69.97\n",
      "\tvalid\n",
      "\t\t 0\n"
     ]
    },
    {
     "name": "stderr",
     "output_type": "stream",
     "text": [
      "Filter (num_proc=96): 100%|██████████| 1000/1000 [00:00<00:00, 2690.30 examples/s]\n"
     ]
    },
    {
     "name": "stdout",
     "output_type": "stream",
     "text": [
      "\t\t\tDocs: 500\n",
      "\t\t\tTkns: 37827\n",
      "\t\t\tATkn: 75.65\n",
      "\t\t\tTkns: 37827\n",
      "\t\t\tATkn: 75.65\n",
      "\t\t 1\n"
     ]
    },
    {
     "name": "stderr",
     "output_type": "stream",
     "text": [
      "Filter (num_proc=96): 100%|██████████| 1000/1000 [00:00<00:00, 2008.92 examples/s]\n",
      "num_proc must be <= 36. Reducing num_proc to 36 for dataset of size 36.\n"
     ]
    },
    {
     "name": "stdout",
     "output_type": "stream",
     "text": [
      "\t\t\tDocs: 500\n",
      "\t\t\tTkns: 37838\n",
      "\t\t\tATkn: 75.68\n",
      "\t\t\tTkns: 37838\n",
      "\t\t\tATkn: 75.68\n",
      "\ttest\n",
      "\t\t 0\n"
     ]
    },
    {
     "name": "stderr",
     "output_type": "stream",
     "text": [
      "Filter (num_proc=36): 100%|██████████| 36/36 [00:00<00:00, 153.58 examples/s]\n",
      "num_proc must be <= 36. Reducing num_proc to 36 for dataset of size 36.\n"
     ]
    },
    {
     "name": "stdout",
     "output_type": "stream",
     "text": [
      "\t\t\tDocs: 21\n",
      "\t\t\tTkns: 1396\n",
      "\t\t\tATkn: 66.48\n",
      "\t\t 1\n"
     ]
    },
    {
     "name": "stderr",
     "output_type": "stream",
     "text": [
      "Filter (num_proc=36): 100%|██████████| 36/36 [00:00<00:00, 166.57 examples/s]\n"
     ]
    },
    {
     "name": "stdout",
     "output_type": "stream",
     "text": [
      "\t\t\tDocs: 15\n",
      "\t\t\tTkns: 1118\n",
      "\t\t\tATkn: 74.53\n",
      "legal\n"
     ]
    },
    {
     "name": "stderr",
     "output_type": "stream",
     "text": [
      "Map (num_proc=96): 100%|██████████| 4068980/4068980 [00:23<00:00, 174514.32 examples/s]\n",
      "Map (num_proc=96): 100%|██████████| 1000/1000 [00:00<00:00, 1626.11 examples/s]\n",
      "num_proc must be <= 37. Reducing num_proc to 37 for dataset of size 37.\n",
      "Map (num_proc=37): 100%|██████████| 37/37 [00:00<00:00, 138.57 examples/s]\n"
     ]
    },
    {
     "name": "stdout",
     "output_type": "stream",
     "text": [
      "\ttrain\n",
      "\t\t 0\n"
     ]
    },
    {
     "name": "stderr",
     "output_type": "stream",
     "text": [
      "Filter (num_proc=96): 100%|██████████| 4068980/4068980 [00:00<00:00, 5459288.73 examples/s]\n"
     ]
    },
    {
     "name": "stdout",
     "output_type": "stream",
     "text": [
      "\t\t\tDocs: 4061518\n",
      "\t\t\tTkns: 165930780\n",
      "\t\t\tDocs: 4061518\n",
      "\t\t\tTkns: 165930780\n",
      "\t\t\tATkn: 40.85\n",
      "\t\t 1\n"
     ]
    },
    {
     "name": "stderr",
     "output_type": "stream",
     "text": [
      "Filter (num_proc=96): 100%|██████████| 4068980/4068980 [00:01<00:00, 3896647.15 examples/s]\n"
     ]
    },
    {
     "name": "stdout",
     "output_type": "stream",
     "text": [
      "\t\t\tDocs: 7462\n",
      "\t\t\tTkns: 235868\n",
      "\t\t\tTkns: 235868\n",
      "\t\t\tATkn: 31.61\n",
      "\tvalid\n",
      "\t\t 0\n"
     ]
    },
    {
     "name": "stderr",
     "output_type": "stream",
     "text": [
      "Filter (num_proc=96): 100%|██████████| 1000/1000 [00:00<00:00, 2331.31 examples/s]\n"
     ]
    },
    {
     "name": "stdout",
     "output_type": "stream",
     "text": [
      "\t\t\tDocs: 500\n",
      "\t\t\tTkns: 18402\n",
      "\t\t\tATkn: 36.80\n",
      "\t\t 1\n"
     ]
    },
    {
     "name": "stderr",
     "output_type": "stream",
     "text": [
      "Filter (num_proc=96): 100%|██████████| 1000/1000 [00:00<00:00, 2055.56 examples/s]\n",
      "num_proc must be <= 37. Reducing num_proc to 37 for dataset of size 37.\n"
     ]
    },
    {
     "name": "stdout",
     "output_type": "stream",
     "text": [
      "\t\t\tDocs: 500\n",
      "\t\t\tTkns: 14573\n",
      "\t\t\tATkn: 29.15\n",
      "\ttest\n",
      "\t\t 0\n"
     ]
    },
    {
     "name": "stderr",
     "output_type": "stream",
     "text": [
      "Filter (num_proc=37): 100%|██████████| 37/37 [00:00<00:00, 115.15 examples/s]\n",
      "num_proc must be <= 37. Reducing num_proc to 37 for dataset of size 37.\n"
     ]
    },
    {
     "name": "stdout",
     "output_type": "stream",
     "text": [
      "\t\t\tDocs: 21\n",
      "\t\t\tTkns: 1051\n",
      "\t\t\tATkn: 50.05\n",
      "\t\t 1\n"
     ]
    },
    {
     "name": "stderr",
     "output_type": "stream",
     "text": [
      "Filter (num_proc=37): 100%|██████████| 37/37 [00:00<00:00, 130.30 examples/s]\n"
     ]
    },
    {
     "name": "stdout",
     "output_type": "stream",
     "text": [
      "\t\t\tDocs: 16\n",
      "\t\t\tTkns: 697\n",
      "\t\t\tATkn: 43.56\n",
      "politics\n"
     ]
    },
    {
     "name": "stderr",
     "output_type": "stream",
     "text": [
      "Map (num_proc=96): 100%|██████████| 31406/31406 [00:01<00:00, 23611.68 examples/s]\n",
      "Map (num_proc=96): 100%|██████████| 1000/1000 [00:00<00:00, 2027.82 examples/s]\n",
      "num_proc must be <= 48. Reducing num_proc to 48 for dataset of size 48.\n",
      "Map (num_proc=48): 100%|██████████| 48/48 [00:00<00:00, 156.60 examples/s]\n"
     ]
    },
    {
     "name": "stdout",
     "output_type": "stream",
     "text": [
      "\ttrain\n",
      "\t\t 0\n"
     ]
    },
    {
     "name": "stderr",
     "output_type": "stream",
     "text": [
      "Filter (num_proc=96): 100%|██████████| 31406/31406 [00:00<00:00, 72920.63 examples/s]\n"
     ]
    },
    {
     "name": "stdout",
     "output_type": "stream",
     "text": [
      "\t\t\tDocs: 28134\n",
      "\t\t\tTkns: 7083037\n",
      "\t\t\tTkns: 7083037\n",
      "\t\t\tATkn: 251.76\n",
      "\t\t 1\n"
     ]
    },
    {
     "name": "stderr",
     "output_type": "stream",
     "text": [
      "Filter (num_proc=96): 100%|██████████| 31406/31406 [00:00<00:00, 55353.98 examples/s]\n"
     ]
    },
    {
     "name": "stdout",
     "output_type": "stream",
     "text": [
      "\t\t\tDocs: 3272\n",
      "\t\t\tTkns: 870113\n",
      "\t\t\tATkn: 265.93\n",
      "\tvalid\n",
      "\t\t 0\n"
     ]
    },
    {
     "name": "stderr",
     "output_type": "stream",
     "text": [
      "Filter (num_proc=96): 100%|██████████| 1000/1000 [00:00<00:00, 2376.58 examples/s]\n"
     ]
    },
    {
     "name": "stdout",
     "output_type": "stream",
     "text": [
      "\t\t\tDocs: 500\n",
      "\t\t\tTkns: 127532\n",
      "\t\t\tATkn: 255.06\n",
      "\t\t 1\n"
     ]
    },
    {
     "name": "stderr",
     "output_type": "stream",
     "text": [
      "Filter (num_proc=96): 100%|██████████| 1000/1000 [00:00<00:00, 2114.92 examples/s]\n",
      "num_proc must be <= 48. Reducing num_proc to 48 for dataset of size 48.\n"
     ]
    },
    {
     "name": "stdout",
     "output_type": "stream",
     "text": [
      "\t\t\tDocs: 500\n",
      "\t\t\tTkns: 137050\n",
      "\t\t\tATkn: 274.10\n",
      "\ttest\n",
      "\t\t 0\n"
     ]
    },
    {
     "name": "stderr",
     "output_type": "stream",
     "text": [
      "Filter (num_proc=48): 100%|██████████| 48/48 [00:00<00:00, 168.88 examples/s]\n",
      "num_proc must be <= 48. Reducing num_proc to 48 for dataset of size 48.\n"
     ]
    },
    {
     "name": "stdout",
     "output_type": "stream",
     "text": [
      "\t\t\tDocs: 19\n",
      "\t\t\tTkns: 4148\n",
      "\t\t\tATkn: 218.32\n",
      "\t\t 1\n"
     ]
    },
    {
     "name": "stderr",
     "output_type": "stream",
     "text": [
      "Filter (num_proc=48): 100%|██████████| 48/48 [00:00<00:00, 165.15 examples/s]\n"
     ]
    },
    {
     "name": "stdout",
     "output_type": "stream",
     "text": [
      "\t\t\tDocs: 29\n",
      "\t\t\tTkns: 7243\n",
      "\t\t\tATkn: 249.76\n",
      "web\n"
     ]
    },
    {
     "name": "stderr",
     "output_type": "stream",
     "text": [
      "Map (num_proc=96): 100%|██████████| 87508/87508 [00:05<00:00, 16527.33 examples/s]\n",
      "Map (num_proc=96): 100%|██████████| 1000/1000 [00:00<00:00, 1636.47 examples/s]\n",
      "num_proc must be <= 34. Reducing num_proc to 34 for dataset of size 34.\n",
      "Map (num_proc=34): 100%|██████████| 34/34 [00:00<00:00, 116.56 examples/s]\n"
     ]
    },
    {
     "name": "stdout",
     "output_type": "stream",
     "text": [
      "\ttrain\n",
      "\t\t 0\n"
     ]
    },
    {
     "name": "stderr",
     "output_type": "stream",
     "text": [
      "Filter (num_proc=96): 100%|██████████| 87508/87508 [00:00<00:00, 189659.41 examples/s]\n"
     ]
    },
    {
     "name": "stdout",
     "output_type": "stream",
     "text": [
      "\t\t\tDocs: 43466\n",
      "\t\t\tTkns: 22583959\n",
      "\t\t\tTkns: 22583959\n",
      "\t\t\tATkn: 519.58\n",
      "\t\t 1\n"
     ]
    },
    {
     "name": "stderr",
     "output_type": "stream",
     "text": [
      "Filter (num_proc=96): 100%|██████████| 87508/87508 [00:00<00:00, 202240.72 examples/s]\n"
     ]
    },
    {
     "name": "stdout",
     "output_type": "stream",
     "text": [
      "\t\t\tDocs: 44042\n",
      "\t\t\tTkns: 23988393\n",
      "\t\t\tTkns: 23988393\n",
      "\t\t\tATkn: 544.67\n",
      "\tvalid\n",
      "\t\t 0\n"
     ]
    },
    {
     "name": "stderr",
     "output_type": "stream",
     "text": [
      "Filter (num_proc=96): 100%|██████████| 1000/1000 [00:00<00:00, 2164.10 examples/s]\n"
     ]
    },
    {
     "name": "stdout",
     "output_type": "stream",
     "text": [
      "\t\t\tDocs: 500\n",
      "\t\t\tTkns: 240060\n",
      "\t\t\tTkns: 240060\n",
      "\t\t\tATkn: 480.12\n",
      "\t\t 1\n"
     ]
    },
    {
     "name": "stderr",
     "output_type": "stream",
     "text": [
      "Filter (num_proc=96): 100%|██████████| 1000/1000 [00:00<00:00, 2175.42 examples/s]\n",
      "num_proc must be <= 34. Reducing num_proc to 34 for dataset of size 34.\n"
     ]
    },
    {
     "name": "stdout",
     "output_type": "stream",
     "text": [
      "\t\t\tDocs: 500\n",
      "\t\t\tTkns: 259291\n",
      "\t\t\tTkns: 259291\n",
      "\t\t\tATkn: 518.58\n",
      "\ttest\n",
      "\t\t 0\n"
     ]
    },
    {
     "name": "stderr",
     "output_type": "stream",
     "text": [
      "Filter (num_proc=34): 100%|██████████| 34/34 [00:00<00:00, 110.95 examples/s]\n",
      "num_proc must be <= 34. Reducing num_proc to 34 for dataset of size 34.\n"
     ]
    },
    {
     "name": "stdout",
     "output_type": "stream",
     "text": [
      "\t\t\tDocs: 17\n",
      "\t\t\tTkns: 5788\n",
      "\t\t\tATkn: 340.47\n",
      "\t\t 1\n"
     ]
    },
    {
     "name": "stderr",
     "output_type": "stream",
     "text": [
      "Filter (num_proc=34): 100%|██████████| 34/34 [00:00<00:00, 135.57 examples/s]\n"
     ]
    },
    {
     "name": "stdout",
     "output_type": "stream",
     "text": [
      "\t\t\tDocs: 17\n",
      "\t\t\tTkns: 5128\n",
      "\t\t\tATkn: 301.65\n",
      "social_media\n"
     ]
    },
    {
     "name": "stderr",
     "output_type": "stream",
     "text": [
      "Map (num_proc=96): 100%|██████████| 2538360/2538360 [00:13<00:00, 192354.10 examples/s]\n",
      "Map (num_proc=96): 100%|██████████| 1000/1000 [00:00<00:00, 2007.71 examples/s]\n",
      "num_proc must be <= 28. Reducing num_proc to 28 for dataset of size 28.\n",
      "Map (num_proc=28): 100%|██████████| 28/28 [00:00<00:00, 111.64 examples/s]\n"
     ]
    },
    {
     "name": "stdout",
     "output_type": "stream",
     "text": [
      "\ttrain\n",
      "\t\t 0\n"
     ]
    },
    {
     "name": "stderr",
     "output_type": "stream",
     "text": [
      "Filter (num_proc=96): 100%|██████████| 2538360/2538360 [00:00<00:00, 3991382.47 examples/s]\n"
     ]
    },
    {
     "name": "stdout",
     "output_type": "stream",
     "text": [
      "\t\t\tDocs: 2530553\n",
      "\t\t\tTkns: 46655330\n",
      "\t\t\tDocs: 2530553\n",
      "\t\t\tTkns: 46655330\n",
      "\t\t\tATkn: 18.44\n",
      "\t\t 1\n"
     ]
    },
    {
     "name": "stderr",
     "output_type": "stream",
     "text": [
      "Filter (num_proc=96): 100%|██████████| 2538360/2538360 [00:00<00:00, 4466874.95 examples/s]\n"
     ]
    },
    {
     "name": "stdout",
     "output_type": "stream",
     "text": [
      "\t\t\tDocs: 7807\n",
      "\t\t\tTkns: 98568\n",
      "\t\t\tATkn: 12.63\n",
      "\tvalid\n",
      "\t\t 0\n"
     ]
    },
    {
     "name": "stderr",
     "output_type": "stream",
     "text": [
      "Filter (num_proc=96): 100%|██████████| 1000/1000 [00:00<00:00, 2281.48 examples/s]\n"
     ]
    },
    {
     "name": "stdout",
     "output_type": "stream",
     "text": [
      "\t\t\tDocs: 500\n",
      "\t\t\tTkns: 9649\n",
      "\t\t\tATkn: 19.30\n",
      "\t\t 1\n"
     ]
    },
    {
     "name": "stderr",
     "output_type": "stream",
     "text": [
      "Filter (num_proc=96): 100%|██████████| 1000/1000 [00:00<00:00, 2169.13 examples/s]\n",
      "num_proc must be <= 28. Reducing num_proc to 28 for dataset of size 28.\n"
     ]
    },
    {
     "name": "stdout",
     "output_type": "stream",
     "text": [
      "\t\t\tDocs: 500\n",
      "\t\t\tTkns: 6163\n",
      "\t\t\tATkn: 12.33\n",
      "\ttest\n",
      "\t\t 0\n"
     ]
    },
    {
     "name": "stderr",
     "output_type": "stream",
     "text": [
      "Filter (num_proc=28): 100%|██████████| 28/28 [00:00<00:00, 117.58 examples/s]\n",
      "num_proc must be <= 28. Reducing num_proc to 28 for dataset of size 28.\n"
     ]
    },
    {
     "name": "stdout",
     "output_type": "stream",
     "text": [
      "\t\t\tDocs: 15\n",
      "\t\t\tTkns: 957\n",
      "\t\t\tATkn: 63.80\n",
      "\t\t 1\n"
     ]
    },
    {
     "name": "stderr",
     "output_type": "stream",
     "text": [
      "Filter (num_proc=28): 100%|██████████| 28/28 [00:00<00:00, 124.20 examples/s]\n"
     ]
    },
    {
     "name": "stdout",
     "output_type": "stream",
     "text": [
      "\t\t\tDocs: 13\n",
      "\t\t\tTkns: 268\n",
      "\t\t\tATkn: 20.62\n"
     ]
    }
   ],
   "source": [
    "for domain in DOMAINS:\n",
    "    print(domain)\n",
    "    dataset = datasets.load_dataset(\"liaad/PtBrVId\", domain)\n",
    "    dataset = dataset.map(count_tokens, num_proc=N_PROC)\n",
    "    for split in [\"train\", \"valid\", \"test\"]:\n",
    "        print(f\"\\t{split}\")\n",
    "        sdata = dataset[split]\n",
    "\n",
    "        for label in [0, 1]:\n",
    "            print(\"\\t\\t\", label)\n",
    "            lsdata = sdata.filter(lambda x: x[\"label\"] == label, num_proc=N_PROC)\n",
    "            n_docs = len(lsdata)\n",
    "            print(f\"\\t\\t\\tDocs: {n_docs}\")\n",
    "            n_tokens = sum(lsdata[\"n_tokens\"])\n",
    "            print(f\"\\t\\t\\tTkns: {n_tokens}\")\n",
    "            print(f\"\\t\\t\\tATkn: {n_tokens/n_docs:.02f}\")\n"
   ]
  },
  {
   "cell_type": "code",
   "execution_count": 5,
   "metadata": {},
   "outputs": [
    {
     "name": "stdout",
     "output_type": "stream",
     "text": [
      "journalistic\n"
     ]
    },
    {
     "name": "stderr",
     "output_type": "stream",
     "text": [
      "num_proc must be <= 36. Reducing num_proc to 36 for dataset of size 36.\n"
     ]
    },
    {
     "name": "stdout",
     "output_type": "stream",
     "text": [
      "\t\tDocs: 1805292\n",
      "\t\tTkns: 216763905\n",
      "\t\tTkns: 216763905\n",
      "\t\tmTkns: 0\n",
      "\t\tMTkns: 560\n",
      "\t\tATkn: 120.07\n",
      "literature\n"
     ]
    },
    {
     "name": "stderr",
     "output_type": "stream",
     "text": [
      "num_proc must be <= 36. Reducing num_proc to 36 for dataset of size 36.\n"
     ]
    },
    {
     "name": "stdout",
     "output_type": "stream",
     "text": [
      "\t\tDocs: 79351\n",
      "\t\tTkns: 5687594\n",
      "\t\tmTkns: 1\n",
      "\t\tMTkns: 182\n",
      "\t\tATkn: 71.68\n",
      "legal\n"
     ]
    },
    {
     "name": "stderr",
     "output_type": "stream",
     "text": [
      "num_proc must be <= 37. Reducing num_proc to 37 for dataset of size 37.\n"
     ]
    },
    {
     "name": "stdout",
     "output_type": "stream",
     "text": [
      "\t\tDocs: 4070017\n",
      "\t\tTkns: 166201371\n",
      "\t\tmTkns: 1\n",
      "\t\tMTkns: 124\n",
      "\t\tATkn: 40.84\n",
      "politics\n"
     ]
    },
    {
     "name": "stderr",
     "output_type": "stream",
     "text": [
      "num_proc must be <= 48. Reducing num_proc to 48 for dataset of size 48.\n"
     ]
    },
    {
     "name": "stdout",
     "output_type": "stream",
     "text": [
      "\t\tDocs: 32454\n",
      "\t\tTkns: 8229123\n",
      "\t\tTkns: 8229123\n",
      "\t\tmTkns: 2\n",
      "\t\tMTkns: 798\n",
      "\t\tATkn: 253.56\n",
      "web\n"
     ]
    },
    {
     "name": "stderr",
     "output_type": "stream",
     "text": [
      "num_proc must be <= 34. Reducing num_proc to 34 for dataset of size 34.\n"
     ]
    },
    {
     "name": "stdout",
     "output_type": "stream",
     "text": [
      "\t\tDocs: 88542\n",
      "\t\tTkns: 47082619\n",
      "\t\tTkns: 47082619\n",
      "\t\tmTkns: 14\n",
      "\t\tMTkns: 2070\n",
      "\t\tATkn: 531.75\n",
      "social_media\n"
     ]
    },
    {
     "name": "stderr",
     "output_type": "stream",
     "text": [
      "num_proc must be <= 28. Reducing num_proc to 28 for dataset of size 28.\n"
     ]
    },
    {
     "name": "stdout",
     "output_type": "stream",
     "text": [
      "\t\tDocs: 2539388\n",
      "\t\tTkns: 46770935\n",
      "\t\tmTkns: 1\n",
      "\t\tMTkns: 646\n",
      "\t\tATkn: 18.42\n"
     ]
    }
   ],
   "source": [
    "for domain in DOMAINS:\n",
    "    print(domain)\n",
    "    dataset = datasets.load_dataset(\"liaad/PtBrVId\", domain)\n",
    "    dataset = dataset.map(count_tokens, num_proc=N_PROC)\n",
    "    \n",
    "    data = datasets.concatenate_datasets([dataset[split] for split in [\"train\", \"valid\", \"test\"]])\n",
    "\n",
    "    n_docs = len(data)\n",
    "    n_tokens = sum(data[\"n_tokens\"])\n",
    "    min_tokens = min(data[\"n_tokens\"])\n",
    "    max_tokens = max(data[\"n_tokens\"])\n",
    "    avg_tokens = n_tokens / n_docs \n",
    "\n",
    "    print(f\"\\t\\tDocs: {n_docs}\")\n",
    "    print(f\"\\t\\tTkns: {n_tokens}\")\n",
    "    print(f\"\\t\\tmTkns: {min_tokens}\")\n",
    "    print(f\"\\t\\tMTkns: {max_tokens}\")\n",
    "    print(f\"\\t\\tATkn: {avg_tokens:.02f}\")"
   ]
  },
  {
   "cell_type": "code",
   "execution_count": null,
   "metadata": {},
   "outputs": [],
   "source": []
  }
 ],
 "metadata": {
  "kernelspec": {
   "display_name": "Python 3",
   "language": "python",
   "name": "python3"
  },
  "language_info": {
   "codemirror_mode": {
    "name": "ipython",
    "version": 3
   },
   "file_extension": ".py",
   "mimetype": "text/x-python",
   "name": "python",
   "nbconvert_exporter": "python",
   "pygments_lexer": "ipython3",
   "version": "3.11.9"
  }
 },
 "nbformat": 4,
 "nbformat_minor": 2
}
