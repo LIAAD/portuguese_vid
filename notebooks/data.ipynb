{
 "cells": [
  {
   "cell_type": "code",
   "execution_count": 1,
   "metadata": {},
   "outputs": [
    {
     "name": "stderr",
     "output_type": "stream",
     "text": [
      "/home/ubuntu/projects/Language-Identifier/.conda/lib/python3.11/site-packages/tqdm/auto.py:21: TqdmWarning: IProgress not found. Please update jupyter and ipywidgets. See https://ipywidgets.readthedocs.io/en/stable/user_install.html\n",
      "  from .autonotebook import tqdm as notebook_tqdm\n"
     ]
    }
   ],
   "source": [
    "import multiprocessing as mp\n",
    "import datasets\n",
    "\n",
    "from nltk.tokenize import word_tokenize\n",
    "from ptvid.constants import DOMAINS\n",
    "\n",
    "N_PROC = mp.cpu_count()"
   ]
  },
  {
   "cell_type": "code",
   "execution_count": 2,
   "metadata": {},
   "outputs": [],
   "source": [
    "def count_tokens(example):\n",
    "    n_tokens = len(word_tokenize(example[\"text\"], language=\"portuguese\"))\n",
    "    example[\"n_tokens\"] = n_tokens\n",
    "    return example"
   ]
  },
  {
   "cell_type": "code",
   "execution_count": 3,
   "metadata": {},
   "outputs": [
    {
     "name": "stdout",
     "output_type": "stream",
     "text": [
      "journalistic\n"
     ]
    },
    {
     "name": "stderr",
     "output_type": "stream",
     "text": [
      "Downloading readme: 100%|██████████| 9.90k/9.90k [00:00<00:00, 11.2MB/s]\n",
      "Downloading data: 100%|██████████| 268M/268M [00:04<00:00, 59.2MB/s] \n",
      "Downloading data: 100%|██████████| 268M/268M [00:04<00:00, 58.4MB/s] \n",
      "Downloading data: 100%|██████████| 212M/212M [00:03<00:00, 59.3MB/s] \n",
      "Downloading data: 100%|██████████| 384k/384k [00:00<00:00, 1.17MB/s]\n",
      "Downloading data: 100%|██████████| 21.2k/21.2k [00:00<00:00, 133kB/s]\n",
      "Generating train split: 100%|██████████| 1740125/1740125 [00:07<00:00, 247071.18 examples/s]\n",
      "Generating valid split: 100%|██████████| 1000/1000 [00:00<00:00, 200963.25 examples/s]\n",
      "Generating test split: 100%|██████████| 36/36 [00:00<00:00, 21956.51 examples/s]\n",
      "Map (num_proc=28): 100%|██████████| 1740125/1740125 [00:24<00:00, 70492.82 examples/s]\n",
      "Map (num_proc=28): 100%|██████████| 1000/1000 [00:00<00:00, 4201.23 examples/s]\n",
      "Map (num_proc=28): 100%|██████████| 36/36 [00:00<00:00, 157.23 examples/s]\n"
     ]
    },
    {
     "name": "stdout",
     "output_type": "stream",
     "text": [
      "\ttrain\n",
      "\t\t 0\n"
     ]
    },
    {
     "name": "stderr",
     "output_type": "stream",
     "text": [
      "Filter (num_proc=28): 100%|██████████| 1740125/1740125 [00:00<00:00, 5335551.72 examples/s]\n"
     ]
    },
    {
     "name": "stdout",
     "output_type": "stream",
     "text": [
      "\t\t\tDocs: 1410901\n",
      "\t\t\tTkns: 183060419\n",
      "\t\t\tATkn: 129.75\n",
      "\t\t 1\n"
     ]
    },
    {
     "name": "stderr",
     "output_type": "stream",
     "text": [
      "Filter (num_proc=28): 100%|██████████| 1740125/1740125 [00:00<00:00, 5232656.00 examples/s]\n"
     ]
    },
    {
     "name": "stdout",
     "output_type": "stream",
     "text": [
      "\t\t\tDocs: 329224\n",
      "\t\t\tTkns: 26685328\n",
      "\t\t\tATkn: 81.06\n",
      "\tvalid\n",
      "\t\t 0\n"
     ]
    },
    {
     "name": "stderr",
     "output_type": "stream",
     "text": [
      "Filter (num_proc=28): 100%|██████████| 1000/1000 [00:00<00:00, 4207.34 examples/s]\n"
     ]
    },
    {
     "name": "stdout",
     "output_type": "stream",
     "text": [
      "\t\t\tDocs: 500\n",
      "\t\t\tTkns: 65297\n",
      "\t\t\tATkn: 130.59\n",
      "\t\t 1\n"
     ]
    },
    {
     "name": "stderr",
     "output_type": "stream",
     "text": [
      "Filter (num_proc=28): 100%|██████████| 1000/1000 [00:00<00:00, 4207.81 examples/s]\n"
     ]
    },
    {
     "name": "stdout",
     "output_type": "stream",
     "text": [
      "\t\t\tDocs: 500\n",
      "\t\t\tTkns: 41564\n",
      "\t\t\tATkn: 83.13\n",
      "\ttest\n",
      "\t\t 0\n"
     ]
    },
    {
     "name": "stderr",
     "output_type": "stream",
     "text": [
      "Filter (num_proc=28): 100%|██████████| 36/36 [00:00<00:00, 149.25 examples/s]\n"
     ]
    },
    {
     "name": "stdout",
     "output_type": "stream",
     "text": [
      "\t\t\tDocs: 16\n",
      "\t\t\tTkns: 2387\n",
      "\t\t\tATkn: 149.19\n",
      "\t\t 1\n"
     ]
    },
    {
     "name": "stderr",
     "output_type": "stream",
     "text": [
      "Filter (num_proc=28): 100%|██████████| 36/36 [00:00<00:00, 163.81 examples/s]\n"
     ]
    },
    {
     "name": "stdout",
     "output_type": "stream",
     "text": [
      "\t\t\tDocs: 20\n",
      "\t\t\tTkns: 2630\n",
      "\t\t\tATkn: 131.50\n",
      "literature\n"
     ]
    },
    {
     "name": "stderr",
     "output_type": "stream",
     "text": [
      "Downloading data: 100%|██████████| 18.1M/18.1M [00:00<00:00, 20.5MB/s]\n",
      "Downloading data: 100%|██████████| 213k/213k [00:00<00:00, 456kB/s]\n",
      "Downloading data: 100%|██████████| 12.5k/12.5k [00:00<00:00, 80.7kB/s]\n",
      "Generating train split: 100%|██████████| 86284/86284 [00:00<00:00, 440791.55 examples/s]\n",
      "Generating valid split: 100%|██████████| 1000/1000 [00:00<00:00, 284591.12 examples/s]\n",
      "Generating test split: 100%|██████████| 36/36 [00:00<00:00, 22836.50 examples/s]\n",
      "Map (num_proc=28): 100%|██████████| 86284/86284 [00:00<00:00, 100857.02 examples/s]\n",
      "Map (num_proc=28): 100%|██████████| 1000/1000 [00:00<00:00, 4139.57 examples/s]\n",
      "Map (num_proc=28): 100%|██████████| 36/36 [00:00<00:00, 144.09 examples/s]\n"
     ]
    },
    {
     "name": "stdout",
     "output_type": "stream",
     "text": [
      "\ttrain\n",
      "\t\t 0\n"
     ]
    },
    {
     "name": "stderr",
     "output_type": "stream",
     "text": [
      "Filter (num_proc=28): 100%|██████████| 86284/86284 [00:00<00:00, 369291.21 examples/s]\n"
     ]
    },
    {
     "name": "stdout",
     "output_type": "stream",
     "text": [
      "\t\t\tDocs: 20698\n",
      "\t\t\tTkns: 1290312\n",
      "\t\t\tATkn: 62.34\n",
      "\t\t 1\n"
     ]
    },
    {
     "name": "stderr",
     "output_type": "stream",
     "text": [
      "Filter (num_proc=28): 100%|██████████| 86284/86284 [00:00<00:00, 381845.10 examples/s]\n"
     ]
    },
    {
     "name": "stdout",
     "output_type": "stream",
     "text": [
      "\t\t\tDocs: 65586\n",
      "\t\t\tTkns: 3900895\n",
      "\t\t\tATkn: 59.48\n",
      "\tvalid\n",
      "\t\t 0\n"
     ]
    },
    {
     "name": "stderr",
     "output_type": "stream",
     "text": [
      "Filter (num_proc=28): 100%|██████████| 1000/1000 [00:00<00:00, 4520.99 examples/s]"
     ]
    },
    {
     "name": "stdout",
     "output_type": "stream",
     "text": [
      "\t\t\tDocs: 500\n",
      "\t\t\tTkns: 30969\n",
      "\t\t\tATkn: 61.94\n",
      "\t\t 1\n"
     ]
    },
    {
     "name": "stderr",
     "output_type": "stream",
     "text": [
      "\n",
      "Filter (num_proc=28): 100%|██████████| 1000/1000 [00:00<00:00, 4643.63 examples/s]"
     ]
    },
    {
     "name": "stdout",
     "output_type": "stream",
     "text": [
      "\t\t\tDocs: 500\n",
      "\t\t\tTkns: 29779\n",
      "\t\t\tATkn: 59.56\n",
      "\ttest\n",
      "\t\t 0\n"
     ]
    },
    {
     "name": "stderr",
     "output_type": "stream",
     "text": [
      "\n",
      "Filter (num_proc=28): 100%|██████████| 36/36 [00:00<00:00, 154.88 examples/s]"
     ]
    },
    {
     "name": "stdout",
     "output_type": "stream",
     "text": [
      "\t\t\tDocs: 21\n",
      "\t\t\tTkns: 1396\n",
      "\t\t\tATkn: 66.48\n",
      "\t\t 1\n"
     ]
    },
    {
     "name": "stderr",
     "output_type": "stream",
     "text": [
      "\n",
      "Filter (num_proc=28): 100%|██████████| 36/36 [00:00<00:00, 160.53 examples/s]\n"
     ]
    },
    {
     "name": "stdout",
     "output_type": "stream",
     "text": [
      "\t\t\tDocs: 15\n",
      "\t\t\tTkns: 1118\n",
      "\t\t\tATkn: 74.53\n",
      "legal\n"
     ]
    },
    {
     "name": "stderr",
     "output_type": "stream",
     "text": [
      "Downloading data: 100%|██████████| 77.9M/77.9M [00:01<00:00, 45.7MB/s]\n",
      "Downloading data: 100%|██████████| 164k/164k [00:00<00:00, 459kB/s]\n",
      "Downloading data: 100%|██████████| 9.37k/9.37k [00:00<00:00, 58.0kB/s]\n",
      "Generating train split: 100%|██████████| 442205/442205 [00:00<00:00, 499026.75 examples/s]\n",
      "Generating valid split: 100%|██████████| 1000/1000 [00:00<00:00, 291777.67 examples/s]\n",
      "Generating test split: 100%|██████████| 37/37 [00:00<00:00, 23997.10 examples/s]\n",
      "Map (num_proc=28): 100%|██████████| 442205/442205 [00:02<00:00, 147598.87 examples/s]\n",
      "Map (num_proc=28): 100%|██████████| 1000/1000 [00:00<00:00, 3998.49 examples/s]\n",
      "Map (num_proc=28): 100%|██████████| 37/37 [00:00<00:00, 157.13 examples/s]\n"
     ]
    },
    {
     "name": "stdout",
     "output_type": "stream",
     "text": [
      "\ttrain\n",
      "\t\t 0\n"
     ]
    },
    {
     "name": "stderr",
     "output_type": "stream",
     "text": [
      "Filter (num_proc=28): 100%|██████████| 442205/442205 [00:00<00:00, 1709016.11 examples/s]\n"
     ]
    },
    {
     "name": "stdout",
     "output_type": "stream",
     "text": [
      "\t\t\tDocs: 438421\n",
      "\t\t\tTkns: 22773318\n",
      "\t\t\tATkn: 51.94\n",
      "\t\t 1\n"
     ]
    },
    {
     "name": "stderr",
     "output_type": "stream",
     "text": [
      "Filter (num_proc=28): 100%|██████████| 442205/442205 [00:00<00:00, 1839691.68 examples/s]\n"
     ]
    },
    {
     "name": "stdout",
     "output_type": "stream",
     "text": [
      "\t\t\tDocs: 3784\n",
      "\t\t\tTkns: 166971\n",
      "\t\t\tATkn: 44.13\n",
      "\tvalid\n",
      "\t\t 0\n"
     ]
    },
    {
     "name": "stderr",
     "output_type": "stream",
     "text": [
      "Filter (num_proc=28): 100%|██████████| 1000/1000 [00:00<00:00, 4634.51 examples/s]"
     ]
    },
    {
     "name": "stdout",
     "output_type": "stream",
     "text": [
      "\t\t\tDocs: 500\n",
      "\t\t\tTkns: 26096\n",
      "\t\t\tATkn: 52.19\n",
      "\t\t 1\n"
     ]
    },
    {
     "name": "stderr",
     "output_type": "stream",
     "text": [
      "\n",
      "Filter (num_proc=28): 100%|██████████| 1000/1000 [00:00<00:00, 3460.76 examples/s]\n"
     ]
    },
    {
     "name": "stdout",
     "output_type": "stream",
     "text": [
      "\t\t\tDocs: 500\n",
      "\t\t\tTkns: 20908\n",
      "\t\t\tATkn: 41.82\n",
      "\ttest\n",
      "\t\t 0\n"
     ]
    },
    {
     "name": "stderr",
     "output_type": "stream",
     "text": [
      "Filter (num_proc=28): 100%|██████████| 37/37 [00:00<00:00, 164.24 examples/s]"
     ]
    },
    {
     "name": "stdout",
     "output_type": "stream",
     "text": [
      "\t\t\tDocs: 21\n",
      "\t\t\tTkns: 1051\n",
      "\t\t\tATkn: 50.05\n",
      "\t\t 1\n"
     ]
    },
    {
     "name": "stderr",
     "output_type": "stream",
     "text": [
      "\n",
      "Filter (num_proc=28): 100%|██████████| 37/37 [00:00<00:00, 170.47 examples/s]\n"
     ]
    },
    {
     "name": "stdout",
     "output_type": "stream",
     "text": [
      "\t\t\tDocs: 16\n",
      "\t\t\tTkns: 697\n",
      "\t\t\tATkn: 43.56\n",
      "politics\n"
     ]
    },
    {
     "name": "stderr",
     "output_type": "stream",
     "text": [
      "Downloading data: 100%|██████████| 3.72M/3.72M [00:00<00:00, 8.74MB/s]\n",
      "Downloading data: 100%|██████████| 668k/668k [00:00<00:00, 1.94MB/s]\n",
      "Downloading data: 100%|██████████| 47.1k/47.1k [00:00<00:00, 304kB/s]\n",
      "Generating train split: 100%|██████████| 4809/4809 [00:00<00:00, 115744.28 examples/s]\n",
      "Generating valid split: 100%|██████████| 1000/1000 [00:00<00:00, 131462.28 examples/s]\n",
      "Generating test split: 100%|██████████| 48/48 [00:00<00:00, 23913.36 examples/s]\n",
      "Map (num_proc=28): 100%|██████████| 4809/4809 [00:00<00:00, 12805.56 examples/s]\n",
      "Map (num_proc=28): 100%|██████████| 1000/1000 [00:00<00:00, 4454.09 examples/s]\n",
      "Map (num_proc=28): 100%|██████████| 48/48 [00:00<00:00, 211.10 examples/s]"
     ]
    },
    {
     "name": "stdout",
     "output_type": "stream",
     "text": [
      "\ttrain\n",
      "\t\t 0\n"
     ]
    },
    {
     "name": "stderr",
     "output_type": "stream",
     "text": [
      "\n",
      "Filter (num_proc=28): 100%|██████████| 4809/4809 [00:00<00:00, 23036.65 examples/s]"
     ]
    },
    {
     "name": "stdout",
     "output_type": "stream",
     "text": [
      "\t\t\tDocs: 1271\n",
      "\t\t\tTkns: 164511\n",
      "\t\t\tATkn: 129.43\n",
      "\t\t 1\n"
     ]
    },
    {
     "name": "stderr",
     "output_type": "stream",
     "text": [
      "\n",
      "Filter (num_proc=28): 100%|██████████| 4809/4809 [00:00<00:00, 21250.53 examples/s]\n"
     ]
    },
    {
     "name": "stdout",
     "output_type": "stream",
     "text": [
      "\t\t\tDocs: 3538\n",
      "\t\t\tTkns: 1091803\n",
      "\t\t\tATkn: 308.59\n",
      "\tvalid\n",
      "\t\t 0\n"
     ]
    },
    {
     "name": "stderr",
     "output_type": "stream",
     "text": [
      "Filter (num_proc=28): 100%|██████████| 1000/1000 [00:00<00:00, 4172.15 examples/s]\n"
     ]
    },
    {
     "name": "stdout",
     "output_type": "stream",
     "text": [
      "\t\t\tDocs: 500\n",
      "\t\t\tTkns: 66840\n",
      "\t\t\tATkn: 133.68\n",
      "\t\t 1\n"
     ]
    },
    {
     "name": "stderr",
     "output_type": "stream",
     "text": [
      "Filter (num_proc=28): 100%|██████████| 1000/1000 [00:00<00:00, 3708.83 examples/s]\n"
     ]
    },
    {
     "name": "stdout",
     "output_type": "stream",
     "text": [
      "\t\t\tDocs: 500\n",
      "\t\t\tTkns: 156510\n",
      "\t\t\tATkn: 313.02\n",
      "\ttest\n",
      "\t\t 0\n"
     ]
    },
    {
     "name": "stderr",
     "output_type": "stream",
     "text": [
      "Filter (num_proc=28): 100%|██████████| 48/48 [00:00<00:00, 234.81 examples/s]"
     ]
    },
    {
     "name": "stdout",
     "output_type": "stream",
     "text": [
      "\t\t\tDocs: 19\n",
      "\t\t\tTkns: 4148\n",
      "\t\t\tATkn: 218.32\n",
      "\t\t 1\n"
     ]
    },
    {
     "name": "stderr",
     "output_type": "stream",
     "text": [
      "\n",
      "Filter (num_proc=28): 100%|██████████| 48/48 [00:00<00:00, 223.77 examples/s]\n"
     ]
    },
    {
     "name": "stdout",
     "output_type": "stream",
     "text": [
      "\t\t\tDocs: 29\n",
      "\t\t\tTkns: 7243\n",
      "\t\t\tATkn: 249.76\n",
      "web\n"
     ]
    },
    {
     "name": "stderr",
     "output_type": "stream",
     "text": [
      "Downloading data: 100%|██████████| 141M/141M [00:02<00:00, 54.1MB/s] \n",
      "Downloading data: 100%|██████████| 1.22M/1.22M [00:00<00:00, 3.71MB/s]\n",
      "Downloading data: 100%|██████████| 49.0k/49.0k [00:00<00:00, 322kB/s]\n",
      "Generating train split: 100%|██████████| 111566/111566 [00:01<00:00, 86569.66 examples/s]\n",
      "Generating valid split: 100%|██████████| 1000/1000 [00:00<00:00, 80960.18 examples/s]\n",
      "Generating test split: 100%|██████████| 34/34 [00:00<00:00, 15808.26 examples/s]\n",
      "Map (num_proc=28): 100%|██████████| 111566/111566 [00:04<00:00, 24947.51 examples/s]\n",
      "Map (num_proc=28): 100%|██████████| 1000/1000 [00:00<00:00, 3891.04 examples/s]\n",
      "Map (num_proc=28): 100%|██████████| 34/34 [00:00<00:00, 142.44 examples/s]\n"
     ]
    },
    {
     "name": "stdout",
     "output_type": "stream",
     "text": [
      "\ttrain\n",
      "\t\t 0\n"
     ]
    },
    {
     "name": "stderr",
     "output_type": "stream",
     "text": [
      "Filter (num_proc=28): 100%|██████████| 111566/111566 [00:00<00:00, 453476.72 examples/s]\n"
     ]
    },
    {
     "name": "stdout",
     "output_type": "stream",
     "text": [
      "\t\t\tDocs: 40484\n",
      "\t\t\tTkns: 15506711\n",
      "\t\t\tATkn: 383.03\n",
      "\t\t 1\n"
     ]
    },
    {
     "name": "stderr",
     "output_type": "stream",
     "text": [
      "Filter (num_proc=28): 100%|██████████| 111566/111566 [00:00<00:00, 490215.65 examples/s]\n"
     ]
    },
    {
     "name": "stdout",
     "output_type": "stream",
     "text": [
      "\t\t\tDocs: 71082\n",
      "\t\t\tTkns: 27556020\n",
      "\t\t\tATkn: 387.67\n",
      "\tvalid\n",
      "\t\t 0\n"
     ]
    },
    {
     "name": "stderr",
     "output_type": "stream",
     "text": [
      "Filter (num_proc=28): 100%|██████████| 1000/1000 [00:00<00:00, 4595.61 examples/s]"
     ]
    },
    {
     "name": "stdout",
     "output_type": "stream",
     "text": [
      "\t\t\tDocs: 500\n",
      "\t\t\tTkns: 180844\n",
      "\t\t\tATkn: 361.69\n",
      "\t\t 1\n"
     ]
    },
    {
     "name": "stderr",
     "output_type": "stream",
     "text": [
      "\n",
      "Filter (num_proc=28): 100%|██████████| 1000/1000 [00:00<00:00, 4430.76 examples/s]"
     ]
    },
    {
     "name": "stdout",
     "output_type": "stream",
     "text": [
      "\t\t\tDocs: 500\n",
      "\t\t\tTkns: 195203\n",
      "\t\t\tATkn: 390.41\n",
      "\ttest\n",
      "\t\t 0\n"
     ]
    },
    {
     "name": "stderr",
     "output_type": "stream",
     "text": [
      "\n",
      "Filter (num_proc=28): 100%|██████████| 34/34 [00:00<00:00, 143.02 examples/s]"
     ]
    },
    {
     "name": "stdout",
     "output_type": "stream",
     "text": [
      "\t\t\tDocs: 17\n",
      "\t\t\tTkns: 5788\n",
      "\t\t\tATkn: 340.47\n",
      "\t\t 1\n"
     ]
    },
    {
     "name": "stderr",
     "output_type": "stream",
     "text": [
      "\n",
      "Filter (num_proc=28): 100%|██████████| 34/34 [00:00<00:00, 151.66 examples/s]\n"
     ]
    },
    {
     "name": "stdout",
     "output_type": "stream",
     "text": [
      "\t\t\tDocs: 17\n",
      "\t\t\tTkns: 5128\n",
      "\t\t\tATkn: 301.65\n",
      "social_media\n"
     ]
    },
    {
     "name": "stderr",
     "output_type": "stream",
     "text": [
      "Downloading data: 100%|██████████| 163M/163M [00:03<00:00, 52.6MB/s] \n",
      "Downloading data: 100%|██████████| 71.5k/71.5k [00:00<00:00, 247kB/s]\n",
      "Downloading data: 100%|██████████| 6.33k/6.33k [00:00<00:00, 42.0kB/s]\n",
      "Generating train split: 100%|██████████| 1941043/1941043 [00:02<00:00, 931860.11 examples/s]\n",
      "Generating valid split: 100%|██████████| 1000/1000 [00:00<00:00, 410642.65 examples/s]\n",
      "Generating test split: 100%|██████████| 28/28 [00:00<00:00, 17575.65 examples/s]\n",
      "Map (num_proc=28): 100%|██████████| 1941043/1941043 [00:08<00:00, 231493.56 examples/s]\n",
      "Map (num_proc=28): 100%|██████████| 1000/1000 [00:00<00:00, 4224.46 examples/s]\n",
      "Map (num_proc=28): 100%|██████████| 28/28 [00:00<00:00, 116.36 examples/s]\n"
     ]
    },
    {
     "name": "stdout",
     "output_type": "stream",
     "text": [
      "\ttrain\n",
      "\t\t 0\n"
     ]
    },
    {
     "name": "stderr",
     "output_type": "stream",
     "text": [
      "Filter (num_proc=28): 100%|██████████| 1941043/1941043 [00:00<00:00, 5677186.87 examples/s]\n"
     ]
    },
    {
     "name": "stdout",
     "output_type": "stream",
     "text": [
      "\t\t\tDocs: 1936042\n",
      "\t\t\tTkns: 41137643\n",
      "\t\t\tATkn: 21.25\n",
      "\t\t 1\n"
     ]
    },
    {
     "name": "stderr",
     "output_type": "stream",
     "text": [
      "Filter (num_proc=28): 100%|██████████| 1941043/1941043 [00:00<00:00, 6149301.31 examples/s]\n"
     ]
    },
    {
     "name": "stdout",
     "output_type": "stream",
     "text": [
      "\t\t\tDocs: 5001\n",
      "\t\t\tTkns: 79681\n",
      "\t\t\tATkn: 15.93\n",
      "\tvalid\n",
      "\t\t 0\n"
     ]
    },
    {
     "name": "stderr",
     "output_type": "stream",
     "text": [
      "Filter (num_proc=28): 100%|██████████| 1000/1000 [00:00<00:00, 4670.04 examples/s]"
     ]
    },
    {
     "name": "stdout",
     "output_type": "stream",
     "text": [
      "\t\t\tDocs: 500\n",
      "\t\t\tTkns: 10379\n",
      "\t\t\tATkn: 20.76\n",
      "\t\t 1\n"
     ]
    },
    {
     "name": "stderr",
     "output_type": "stream",
     "text": [
      "\n",
      "Filter (num_proc=28): 100%|██████████| 1000/1000 [00:00<00:00, 4494.56 examples/s]"
     ]
    },
    {
     "name": "stdout",
     "output_type": "stream",
     "text": [
      "\t\t\tDocs: 500\n",
      "\t\t\tTkns: 7776\n",
      "\t\t\tATkn: 15.55\n",
      "\ttest\n",
      "\t\t 0\n"
     ]
    },
    {
     "name": "stderr",
     "output_type": "stream",
     "text": [
      "\n",
      "Filter (num_proc=28): 100%|██████████| 28/28 [00:00<00:00, 126.66 examples/s]"
     ]
    },
    {
     "name": "stdout",
     "output_type": "stream",
     "text": [
      "\t\t\tDocs: 15\n",
      "\t\t\tTkns: 957\n",
      "\t\t\tATkn: 63.80\n",
      "\t\t 1\n"
     ]
    },
    {
     "name": "stderr",
     "output_type": "stream",
     "text": [
      "\n",
      "Filter (num_proc=28): 100%|██████████| 28/28 [00:00<00:00, 128.80 examples/s]"
     ]
    },
    {
     "name": "stdout",
     "output_type": "stream",
     "text": [
      "\t\t\tDocs: 13\n",
      "\t\t\tTkns: 268\n",
      "\t\t\tATkn: 20.62\n"
     ]
    },
    {
     "name": "stderr",
     "output_type": "stream",
     "text": [
      "\n"
     ]
    }
   ],
   "source": [
    "for domain in DOMAINS:\n",
    "    print(domain)\n",
    "    dataset = datasets.load_dataset(\"liaad/PtBrVId\", domain)\n",
    "    dataset = dataset.map(count_tokens, num_proc=N_PROC)\n",
    "    for split in [\"train\", \"valid\", \"test\"]:\n",
    "        print(f\"\\t{split}\")\n",
    "        sdata = dataset[split]\n",
    "\n",
    "        for label in [0, 1]:\n",
    "            print(\"\\t\\t\", label)\n",
    "            lsdata = sdata.filter(lambda x: x[\"label\"] == label, num_proc=N_PROC)\n",
    "            n_docs = len(lsdata)\n",
    "            print(f\"\\t\\t\\tDocs: {n_docs}\")\n",
    "            n_tokens = sum(lsdata[\"n_tokens\"])\n",
    "            print(f\"\\t\\t\\tTkns: {n_tokens}\")\n",
    "            print(f\"\\t\\t\\tATkn: {n_tokens/n_docs:.02f}\")\n"
   ]
  },
  {
   "cell_type": "code",
   "execution_count": 4,
   "metadata": {},
   "outputs": [
    {
     "name": "stdout",
     "output_type": "stream",
     "text": [
      "journalistic\n"
     ]
    },
    {
     "name": "stdout",
     "output_type": "stream",
     "text": [
      "\t\tDocs: 1741161\n",
      "\t\tTkns: 209857625\n",
      "\t\tmTkns: 0\n",
      "\t\tMTkns: 560\n",
      "\t\tATkn: 120.53\n",
      "literature\n",
      "\t\tDocs: 87320\n",
      "\t\tTkns: 5254469\n",
      "\t\tmTkns: 7\n",
      "\t\tMTkns: 142\n",
      "\t\tATkn: 60.17\n",
      "legal\n",
      "\t\tDocs: 443242\n",
      "\t\tTkns: 22989041\n",
      "\t\tmTkns: 11\n",
      "\t\tMTkns: 106\n",
      "\t\tATkn: 51.87\n",
      "politics\n"
     ]
    }
   ],
   "source": [
    "for domain in DOMAINS:\n",
    "    print(domain)\n",
    "    dataset = datasets.load_dataset(\"liaad/PtBrVId\", domain)\n",
    "    dataset = dataset.map(count_tokens, num_proc=N_PROC)\n",
    "    \n",
    "    data = datasets.concatenate_datasets([dataset[split] for split in [\"train\", \"valid\", \"test\"]])\n",
    "\n",
    "    n_docs = len(data)\n",
    "    n_tokens = sum(data[\"n_tokens\"])\n",
    "    min_tokens = min(data[\"n_tokens\"])\n",
    "    max_tokens = max(data[\"n_tokens\"])\n",
    "    avg_tokens = n_tokens / n_docs \n",
    "\n",
    "    print(f\"\\t\\tDocs: {n_docs}\")\n",
    "    print(f\"\\t\\tTkns: {n_tokens}\")\n",
    "    print(f\"\\t\\tmTkns: {min_tokens}\")\n",
    "    print(f\"\\t\\tMTkns: {max_tokens}\")\n",
    "    print(f\"\\t\\tATkn: {avg_tokens:.02f}\")"
   ]
  },
  {
   "cell_type": "code",
   "execution_count": null,
   "metadata": {},
   "outputs": [],
   "source": []
  }
 ],
 "metadata": {
  "kernelspec": {
   "display_name": "Python 3",
   "language": "python",
   "name": "python3"
  },
  "language_info": {
   "codemirror_mode": {
    "name": "ipython",
    "version": 3
   },
   "file_extension": ".py",
   "mimetype": "text/x-python",
   "name": "python",
   "nbconvert_exporter": "python",
   "pygments_lexer": "ipython3",
   "version": "3.11.9"
  }
 },
 "nbformat": 4,
 "nbformat_minor": 2
}
