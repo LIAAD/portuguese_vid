{
 "cells": [
  {
   "cell_type": "code",
   "execution_count": 1,
   "metadata": {},
   "outputs": [
    {
     "name": "stderr",
     "output_type": "stream",
     "text": [
      "/home/ubuntu/projects/Language-Identifier/.conda/lib/python3.11/site-packages/tqdm/auto.py:21: TqdmWarning: IProgress not found. Please update jupyter and ipywidgets. See https://ipywidgets.readthedocs.io/en/stable/user_install.html\n",
      "  from .autonotebook import tqdm as notebook_tqdm\n"
     ]
    }
   ],
   "source": [
    "import multiprocessing as mp\n",
    "import datasets\n",
    "\n",
    "from nltk.tokenize import word_tokenize\n",
    "from ptvid.constants import DOMAINS\n",
    "\n",
    "N_PROC = mp.cpu_count()"
   ]
  },
  {
   "cell_type": "code",
   "execution_count": 2,
   "metadata": {},
   "outputs": [],
   "source": [
    "def count_tokens(example):\n",
    "    n_tokens = len(word_tokenize(example[\"text\"], language=\"portuguese\"))\n",
    "    example[\"n_tokens\"] = n_tokens\n",
    "    return example"
   ]
  },
  {
   "cell_type": "code",
   "execution_count": 3,
   "metadata": {},
   "outputs": [
    {
     "name": "stdout",
     "output_type": "stream",
     "text": [
      "journalistic\n"
     ]
    },
    {
     "name": "stderr",
     "output_type": "stream",
     "text": [
      "Downloading data: 100%|██████████| 282M/282M [00:02<00:00, 105MB/s]  \n",
      "Downloading data: 100%|██████████| 281M/281M [00:02<00:00, 112MB/s]  \n",
      "Downloading data: 100%|██████████| 222M/222M [00:02<00:00, 109MB/s]  \n",
      "Downloading data: 100%|██████████| 392k/392k [00:00<00:00, 1.05MB/s]\n",
      "Downloading data: 100%|██████████| 26.6k/26.6k [00:00<00:00, 86.8kB/s]\n",
      "Generating train split: 100%|██████████| 1776290/1776290 [00:07<00:00, 238422.93 examples/s]\n",
      "Generating valid split: 100%|██████████| 1000/1000 [00:00<00:00, 179420.11 examples/s]\n",
      "Generating test split: 100%|██████████| 35/35 [00:00<00:00, 20307.18 examples/s]\n"
     ]
    },
    {
     "name": "stdout",
     "output_type": "stream",
     "text": [
      "literature\n"
     ]
    },
    {
     "name": "stderr",
     "output_type": "stream",
     "text": [
      "Downloading data: 100%|██████████| 18.4M/18.4M [00:00<00:00, 26.6MB/s]\n",
      "Downloading data: 100%|██████████| 260k/260k [00:00<00:00, 824kB/s]\n",
      "Downloading data: 100%|██████████| 12.5k/12.5k [00:00<00:00, 40.8kB/s]\n",
      "Generating train split: 100%|██████████| 75512/75512 [00:00<00:00, 383560.26 examples/s]\n",
      "Generating valid split: 100%|██████████| 1000/1000 [00:00<00:00, 236632.10 examples/s]\n",
      "Generating test split: 100%|██████████| 36/36 [00:00<00:00, 21722.77 examples/s]\n"
     ]
    },
    {
     "name": "stdout",
     "output_type": "stream",
     "text": [
      "legal\n"
     ]
    },
    {
     "name": "stderr",
     "output_type": "stream",
     "text": [
      "Downloading data: 100%|██████████| 267M/267M [00:02<00:00, 112MB/s]  \n",
      "Downloading data: 100%|██████████| 269M/269M [00:02<00:00, 116MB/s]  \n",
      "Downloading data: 100%|██████████| 176k/176k [00:00<00:00, 585kB/s]\n",
      "Downloading data: 100%|██████████| 9.37k/9.37k [00:00<00:00, 30.5kB/s]\n",
      "Generating train split: 100%|██████████| 2961596/2961596 [00:05<00:00, 514233.60 examples/s]\n",
      "Generating valid split: 100%|██████████| 1000/1000 [00:00<00:00, 294089.47 examples/s]\n",
      "Generating test split: 100%|██████████| 37/37 [00:00<00:00, 23364.84 examples/s]\n"
     ]
    },
    {
     "name": "stdout",
     "output_type": "stream",
     "text": [
      "politics\n",
      "web\n"
     ]
    },
    {
     "name": "stderr",
     "output_type": "stream",
     "text": [
      "Downloading data: 100%|██████████| 151M/151M [00:01<00:00, 91.2MB/s] \n",
      "Downloading data: 100%|██████████| 1.65M/1.65M [00:00<00:00, 4.62MB/s]\n",
      "Downloading data: 100%|██████████| 49.0k/49.0k [00:00<00:00, 160kB/s]\n",
      "Generating train split: 100%|██████████| 86909/86909 [00:01<00:00, 69378.62 examples/s]\n",
      "Generating valid split: 100%|██████████| 1000/1000 [00:00<00:00, 64984.65 examples/s]\n",
      "Generating test split: 100%|██████████| 34/34 [00:00<00:00, 16607.24 examples/s]\n"
     ]
    },
    {
     "name": "stdout",
     "output_type": "stream",
     "text": [
      "social_media\n"
     ]
    },
    {
     "name": "stderr",
     "output_type": "stream",
     "text": [
      "Downloading data: 100%|██████████| 187M/187M [00:03<00:00, 56.6MB/s] \n",
      "Downloading data: 100%|██████████| 77.0k/77.0k [00:00<00:00, 244kB/s]\n",
      "Downloading data: 100%|██████████| 6.33k/6.33k [00:00<00:00, 20.4kB/s]\n",
      "Generating train split: 100%|██████████| 2367737/2367737 [00:02<00:00, 956754.17 examples/s] \n",
      "Generating valid split: 100%|██████████| 1000/1000 [00:00<00:00, 450080.91 examples/s]\n",
      "Generating test split: 100%|██████████| 28/28 [00:00<00:00, 26745.73 examples/s]\n"
     ]
    }
   ],
   "source": [
    "for domain in DOMAINS:\n",
    "    print(domain)\n",
    "    dataset = datasets.load_dataset(\"liaad/PtBrVId\", domain)"
   ]
  },
  {
   "cell_type": "code",
   "execution_count": 4,
   "metadata": {},
   "outputs": [
    {
     "name": "stdout",
     "output_type": "stream",
     "text": [
      "journalistic\n"
     ]
    },
    {
     "name": "stderr",
     "output_type": "stream",
     "text": [
      "Map (num_proc=28): 100%|██████████| 1776290/1776290 [00:25<00:00, 69357.23 examples/s]\n",
      "Map (num_proc=28): 100%|██████████| 1000/1000 [00:00<00:00, 3957.57 examples/s]\n",
      "Map (num_proc=28): 100%|██████████| 35/35 [00:00<00:00, 144.04 examples/s]\n"
     ]
    },
    {
     "name": "stdout",
     "output_type": "stream",
     "text": [
      "\ttrain\n",
      "\t\t 0\n"
     ]
    },
    {
     "name": "stderr",
     "output_type": "stream",
     "text": [
      "Filter (num_proc=28): 100%|██████████| 1776290/1776290 [00:00<00:00, 5402217.11 examples/s]\n"
     ]
    },
    {
     "name": "stdout",
     "output_type": "stream",
     "text": [
      "\t\t\tDocs: 1442906\n",
      "\t\t\tTkns: 189437461\n",
      "\t\t\tmTkns: 16\n",
      "\t\t\tMTkns: 306\n",
      "\t\t\tATkn: 131.29\n",
      "\t\t 1\n"
     ]
    },
    {
     "name": "stderr",
     "output_type": "stream",
     "text": [
      "Filter (num_proc=28): 100%|██████████| 1776290/1776290 [00:00<00:00, 5014805.03 examples/s]\n"
     ]
    },
    {
     "name": "stdout",
     "output_type": "stream",
     "text": [
      "\t\t\tDocs: 333384\n",
      "\t\t\tTkns: 27034977\n",
      "\t\t\tmTkns: 18\n",
      "\t\t\tMTkns: 308\n",
      "\t\t\tATkn: 81.09\n",
      "\tvalid\n",
      "\t\t 0\n"
     ]
    },
    {
     "name": "stderr",
     "output_type": "stream",
     "text": [
      "Filter (num_proc=28): 100%|██████████| 1000/1000 [00:00<00:00, 4037.32 examples/s]\n"
     ]
    },
    {
     "name": "stdout",
     "output_type": "stream",
     "text": [
      "\t\t\tDocs: 500\n",
      "\t\t\tTkns: 66472\n",
      "\t\t\tmTkns: 21\n",
      "\t\t\tMTkns: 304\n",
      "\t\t\tATkn: 132.94\n",
      "\t\t 1\n"
     ]
    },
    {
     "name": "stderr",
     "output_type": "stream",
     "text": [
      "Filter (num_proc=28): 100%|██████████| 1000/1000 [00:00<00:00, 4288.20 examples/s]"
     ]
    },
    {
     "name": "stdout",
     "output_type": "stream",
     "text": [
      "\t\t\tDocs: 500\n",
      "\t\t\tTkns: 39931\n",
      "\t\t\tmTkns: 21\n",
      "\t\t\tMTkns: 304\n",
      "\t\t\tATkn: 79.86\n",
      "\ttest\n",
      "\t\t 0\n"
     ]
    },
    {
     "name": "stderr",
     "output_type": "stream",
     "text": [
      "\n",
      "Filter (num_proc=28): 100%|██████████| 35/35 [00:00<00:00, 143.67 examples/s]\n"
     ]
    },
    {
     "name": "stdout",
     "output_type": "stream",
     "text": [
      "\t\t\tDocs: 16\n",
      "\t\t\tTkns: 2387\n",
      "\t\t\tmTkns: 36\n",
      "\t\t\tMTkns: 475\n",
      "\t\t\tATkn: 149.19\n",
      "\t\t 1\n"
     ]
    },
    {
     "name": "stderr",
     "output_type": "stream",
     "text": [
      "Filter (num_proc=28): 100%|██████████| 35/35 [00:00<00:00, 152.86 examples/s]\n"
     ]
    },
    {
     "name": "stdout",
     "output_type": "stream",
     "text": [
      "\t\t\tDocs: 19\n",
      "\t\t\tTkns: 2630\n",
      "\t\t\tmTkns: 65\n",
      "\t\t\tMTkns: 560\n",
      "\t\t\tATkn: 138.42\n",
      "literature\n"
     ]
    },
    {
     "name": "stderr",
     "output_type": "stream",
     "text": [
      "Map (num_proc=28): 100%|██████████| 75512/75512 [00:01<00:00, 61456.95 examples/s]\n",
      "Map (num_proc=28): 100%|██████████| 1000/1000 [00:00<00:00, 4043.78 examples/s]\n",
      "Map (num_proc=28): 100%|██████████| 36/36 [00:00<00:00, 147.25 examples/s]\n"
     ]
    },
    {
     "name": "stdout",
     "output_type": "stream",
     "text": [
      "\ttrain\n",
      "\t\t 0\n"
     ]
    },
    {
     "name": "stderr",
     "output_type": "stream",
     "text": [
      "Filter (num_proc=28): 100%|██████████| 75512/75512 [00:00<00:00, 319498.32 examples/s]\n"
     ]
    },
    {
     "name": "stdout",
     "output_type": "stream",
     "text": [
      "\t\t\tDocs: 23569\n",
      "\t\t\tTkns: 1819720\n",
      "\t\t\tmTkns: 16\n",
      "\t\t\tMTkns: 186\n",
      "\t\t\tATkn: 77.21\n",
      "\t\t 1\n"
     ]
    },
    {
     "name": "stderr",
     "output_type": "stream",
     "text": [
      "Filter (num_proc=28): 100%|██████████| 75512/75512 [00:00<00:00, 323318.24 examples/s]\n"
     ]
    },
    {
     "name": "stdout",
     "output_type": "stream",
     "text": [
      "\t\t\tDocs: 51943\n",
      "\t\t\tTkns: 3765198\n",
      "\t\t\tmTkns: 17\n",
      "\t\t\tMTkns: 185\n",
      "\t\t\tATkn: 72.49\n",
      "\tvalid\n",
      "\t\t 0\n"
     ]
    },
    {
     "name": "stderr",
     "output_type": "stream",
     "text": [
      "Filter (num_proc=28): 100%|██████████| 1000/1000 [00:00<00:00, 4365.12 examples/s]\n"
     ]
    },
    {
     "name": "stdout",
     "output_type": "stream",
     "text": [
      "\t\t\tDocs: 500\n",
      "\t\t\tTkns: 38544\n",
      "\t\t\tmTkns: 19\n",
      "\t\t\tMTkns: 183\n",
      "\t\t\tATkn: 77.09\n",
      "\t\t 1\n"
     ]
    },
    {
     "name": "stderr",
     "output_type": "stream",
     "text": [
      "Filter (num_proc=28): 100%|██████████| 1000/1000 [00:00<00:00, 4639.95 examples/s]"
     ]
    },
    {
     "name": "stdout",
     "output_type": "stream",
     "text": [
      "\t\t\tDocs: 500\n",
      "\t\t\tTkns: 39580\n",
      "\t\t\tmTkns: 21\n",
      "\t\t\tMTkns: 183\n",
      "\t\t\tATkn: 79.16\n",
      "\ttest\n",
      "\t\t 0\n"
     ]
    },
    {
     "name": "stderr",
     "output_type": "stream",
     "text": [
      "\n",
      "Filter (num_proc=28): 100%|██████████| 36/36 [00:00<00:00, 162.53 examples/s]"
     ]
    },
    {
     "name": "stdout",
     "output_type": "stream",
     "text": [
      "\t\t\tDocs: 21\n",
      "\t\t\tTkns: 1396\n",
      "\t\t\tmTkns: 28\n",
      "\t\t\tMTkns: 141\n",
      "\t\t\tATkn: 66.48\n",
      "\t\t 1\n"
     ]
    },
    {
     "name": "stderr",
     "output_type": "stream",
     "text": [
      "\n",
      "Filter (num_proc=28): 100%|██████████| 36/36 [00:00<00:00, 166.18 examples/s]\n"
     ]
    },
    {
     "name": "stdout",
     "output_type": "stream",
     "text": [
      "\t\t\tDocs: 15\n",
      "\t\t\tTkns: 1118\n",
      "\t\t\tmTkns: 48\n",
      "\t\t\tMTkns: 142\n",
      "\t\t\tATkn: 74.53\n",
      "legal\n"
     ]
    },
    {
     "name": "stderr",
     "output_type": "stream",
     "text": [
      "Map (num_proc=28): 100%|██████████| 2961596/2961596 [00:16<00:00, 176856.62 examples/s]\n",
      "Map (num_proc=28): 100%|██████████| 1000/1000 [00:00<00:00, 4226.39 examples/s]\n",
      "Map (num_proc=28): 100%|██████████| 37/37 [00:00<00:00, 163.55 examples/s]\n"
     ]
    },
    {
     "name": "stdout",
     "output_type": "stream",
     "text": [
      "\ttrain\n",
      "\t\t 0\n"
     ]
    },
    {
     "name": "stderr",
     "output_type": "stream",
     "text": [
      "Filter (num_proc=28): 100%|██████████| 2961596/2961596 [00:00<00:00, 6765240.48 examples/s]\n"
     ]
    },
    {
     "name": "stdout",
     "output_type": "stream",
     "text": [
      "\t\t\tDocs: 2957459\n",
      "\t\t\tTkns: 152690980\n",
      "\t\t\tmTkns: 16\n",
      "\t\t\tMTkns: 139\n",
      "\t\t\tATkn: 51.63\n",
      "\t\t 1\n"
     ]
    },
    {
     "name": "stderr",
     "output_type": "stream",
     "text": [
      "Filter (num_proc=28): 100%|██████████| 2961596/2961596 [00:00<00:00, 7206389.62 examples/s]"
     ]
    },
    {
     "name": "stdout",
     "output_type": "stream",
     "text": [
      "\t\t\tDocs: 4137\n",
      "\t\t\tTkns: 196758\n",
      "\t\t\tmTkns: 20\n",
      "\t\t\tMTkns: 124\n",
      "\t\t\tATkn: 47.56\n",
      "\tvalid\n",
      "\t\t 0\n"
     ]
    },
    {
     "name": "stderr",
     "output_type": "stream",
     "text": [
      "\n",
      "Filter (num_proc=28): 100%|██████████| 1000/1000 [00:00<00:00, 3888.49 examples/s]\n"
     ]
    },
    {
     "name": "stdout",
     "output_type": "stream",
     "text": [
      "\t\t\tDocs: 500\n",
      "\t\t\tTkns: 25706\n",
      "\t\t\tmTkns: 21\n",
      "\t\t\tMTkns: 125\n",
      "\t\t\tATkn: 51.41\n",
      "\t\t 1\n"
     ]
    },
    {
     "name": "stderr",
     "output_type": "stream",
     "text": [
      "Filter (num_proc=28): 100%|██████████| 1000/1000 [00:00<00:00, 4021.99 examples/s]\n"
     ]
    },
    {
     "name": "stdout",
     "output_type": "stream",
     "text": [
      "\t\t\tDocs: 500\n",
      "\t\t\tTkns: 23712\n",
      "\t\t\tmTkns: 20\n",
      "\t\t\tMTkns: 120\n",
      "\t\t\tATkn: 47.42\n",
      "\ttest\n",
      "\t\t 0\n"
     ]
    },
    {
     "name": "stderr",
     "output_type": "stream",
     "text": [
      "Filter (num_proc=28): 100%|██████████| 37/37 [00:00<00:00, 146.69 examples/s]\n"
     ]
    },
    {
     "name": "stdout",
     "output_type": "stream",
     "text": [
      "\t\t\tDocs: 21\n",
      "\t\t\tTkns: 1051\n",
      "\t\t\tmTkns: 18\n",
      "\t\t\tMTkns: 106\n",
      "\t\t\tATkn: 50.05\n",
      "\t\t 1\n"
     ]
    },
    {
     "name": "stderr",
     "output_type": "stream",
     "text": [
      "Filter (num_proc=28): 100%|██████████| 37/37 [00:00<00:00, 146.06 examples/s]\n"
     ]
    },
    {
     "name": "stdout",
     "output_type": "stream",
     "text": [
      "\t\t\tDocs: 16\n",
      "\t\t\tTkns: 697\n",
      "\t\t\tmTkns: 20\n",
      "\t\t\tMTkns: 76\n",
      "\t\t\tATkn: 43.56\n",
      "politics\n"
     ]
    },
    {
     "name": "stderr",
     "output_type": "stream",
     "text": [
      "Map (num_proc=28): 100%|██████████| 30495/30495 [00:01<00:00, 25582.47 examples/s]\n",
      "Map (num_proc=28): 100%|██████████| 1000/1000 [00:00<00:00, 3460.43 examples/s]\n",
      "Map (num_proc=28): 100%|██████████| 48/48 [00:00<00:00, 175.51 examples/s]\n"
     ]
    },
    {
     "name": "stdout",
     "output_type": "stream",
     "text": [
      "\ttrain\n",
      "\t\t 0\n"
     ]
    },
    {
     "name": "stderr",
     "output_type": "stream",
     "text": [
      "Filter (num_proc=28): 100%|██████████| 30495/30495 [00:00<00:00, 117322.89 examples/s]\n"
     ]
    },
    {
     "name": "stdout",
     "output_type": "stream",
     "text": [
      "\t\t\tDocs: 27368\n",
      "\t\t\tTkns: 7068782\n",
      "\t\t\tmTkns: 20\n",
      "\t\t\tMTkns: 798\n",
      "\t\t\tATkn: 258.29\n",
      "\t\t 1\n"
     ]
    },
    {
     "name": "stderr",
     "output_type": "stream",
     "text": [
      "Filter (num_proc=28): 100%|██████████| 30495/30495 [00:00<00:00, 96708.86 examples/s]\n"
     ]
    },
    {
     "name": "stdout",
     "output_type": "stream",
     "text": [
      "\t\t\tDocs: 3127\n",
      "\t\t\tTkns: 863756\n",
      "\t\t\tmTkns: 21\n",
      "\t\t\tMTkns: 796\n",
      "\t\t\tATkn: 276.23\n",
      "\tvalid\n",
      "\t\t 0\n"
     ]
    },
    {
     "name": "stderr",
     "output_type": "stream",
     "text": [
      "Filter (num_proc=28): 100%|██████████| 1000/1000 [00:00<00:00, 3672.71 examples/s]\n"
     ]
    },
    {
     "name": "stdout",
     "output_type": "stream",
     "text": [
      "\t\t\tDocs: 500\n",
      "\t\t\tTkns: 130809\n",
      "\t\t\tmTkns: 22\n",
      "\t\t\tMTkns: 794\n",
      "\t\t\tATkn: 261.62\n",
      "\t\t 1\n"
     ]
    },
    {
     "name": "stderr",
     "output_type": "stream",
     "text": [
      "Filter (num_proc=28): 100%|██████████| 1000/1000 [00:00<00:00, 3778.54 examples/s]\n"
     ]
    },
    {
     "name": "stdout",
     "output_type": "stream",
     "text": [
      "\t\t\tDocs: 500\n",
      "\t\t\tTkns: 141587\n",
      "\t\t\tmTkns: 21\n",
      "\t\t\tMTkns: 794\n",
      "\t\t\tATkn: 283.17\n",
      "\ttest\n",
      "\t\t 0\n"
     ]
    },
    {
     "name": "stderr",
     "output_type": "stream",
     "text": [
      "Filter (num_proc=28): 100%|██████████| 48/48 [00:00<00:00, 186.40 examples/s]\n"
     ]
    },
    {
     "name": "stdout",
     "output_type": "stream",
     "text": [
      "\t\t\tDocs: 19\n",
      "\t\t\tTkns: 4148\n",
      "\t\t\tmTkns: 89\n",
      "\t\t\tMTkns: 489\n",
      "\t\t\tATkn: 218.32\n",
      "\t\t 1\n"
     ]
    },
    {
     "name": "stderr",
     "output_type": "stream",
     "text": [
      "Filter (num_proc=28): 100%|██████████| 48/48 [00:00<00:00, 184.64 examples/s]\n"
     ]
    },
    {
     "name": "stdout",
     "output_type": "stream",
     "text": [
      "\t\t\tDocs: 29\n",
      "\t\t\tTkns: 7243\n",
      "\t\t\tmTkns: 29\n",
      "\t\t\tMTkns: 463\n",
      "\t\t\tATkn: 249.76\n",
      "web\n"
     ]
    },
    {
     "name": "stderr",
     "output_type": "stream",
     "text": [
      "Map (num_proc=28): 100%|██████████| 86909/86909 [00:05<00:00, 15830.22 examples/s]\n",
      "Map (num_proc=28): 100%|██████████| 1000/1000 [00:00<00:00, 3334.52 examples/s]\n",
      "Map (num_proc=28): 100%|██████████| 34/34 [00:00<00:00, 124.52 examples/s]\n"
     ]
    },
    {
     "name": "stdout",
     "output_type": "stream",
     "text": [
      "\ttrain\n",
      "\t\t 0\n"
     ]
    },
    {
     "name": "stderr",
     "output_type": "stream",
     "text": [
      "Filter (num_proc=28): 100%|██████████| 86909/86909 [00:00<00:00, 322502.04 examples/s]\n"
     ]
    },
    {
     "name": "stdout",
     "output_type": "stream",
     "text": [
      "\t\t\tDocs: 43113\n",
      "\t\t\tTkns: 22351263\n",
      "\t\t\tmTkns: 22\n",
      "\t\t\tMTkns: 2042\n",
      "\t\t\tATkn: 518.43\n",
      "\t\t 1\n"
     ]
    },
    {
     "name": "stderr",
     "output_type": "stream",
     "text": [
      "Filter (num_proc=28): 100%|██████████| 86909/86909 [00:00<00:00, 341942.59 examples/s]\n"
     ]
    },
    {
     "name": "stdout",
     "output_type": "stream",
     "text": [
      "\t\t\tDocs: 43796\n",
      "\t\t\tTkns: 23648590\n",
      "\t\t\tmTkns: 26\n",
      "\t\t\tMTkns: 2075\n",
      "\t\t\tATkn: 539.97\n",
      "\tvalid\n",
      "\t\t 0\n"
     ]
    },
    {
     "name": "stderr",
     "output_type": "stream",
     "text": [
      "Filter (num_proc=28): 100%|██████████| 1000/1000 [00:00<00:00, 3792.63 examples/s]\n"
     ]
    },
    {
     "name": "stdout",
     "output_type": "stream",
     "text": [
      "\t\t\tDocs: 500\n",
      "\t\t\tTkns: 241536\n",
      "\t\t\tmTkns: 28\n",
      "\t\t\tMTkns: 1965\n",
      "\t\t\tATkn: 483.07\n",
      "\t\t 1\n"
     ]
    },
    {
     "name": "stderr",
     "output_type": "stream",
     "text": [
      "Filter (num_proc=28): 100%|██████████| 1000/1000 [00:00<00:00, 3831.24 examples/s]\n"
     ]
    },
    {
     "name": "stdout",
     "output_type": "stream",
     "text": [
      "\t\t\tDocs: 500\n",
      "\t\t\tTkns: 260053\n",
      "\t\t\tmTkns: 22\n",
      "\t\t\tMTkns: 1987\n",
      "\t\t\tATkn: 520.11\n",
      "\ttest\n",
      "\t\t 0\n"
     ]
    },
    {
     "name": "stderr",
     "output_type": "stream",
     "text": [
      "Filter (num_proc=28): 100%|██████████| 34/34 [00:00<00:00, 132.18 examples/s]\n"
     ]
    },
    {
     "name": "stdout",
     "output_type": "stream",
     "text": [
      "\t\t\tDocs: 17\n",
      "\t\t\tTkns: 5788\n",
      "\t\t\tmTkns: 164\n",
      "\t\t\tMTkns: 692\n",
      "\t\t\tATkn: 340.47\n",
      "\t\t 1\n"
     ]
    },
    {
     "name": "stderr",
     "output_type": "stream",
     "text": [
      "Filter (num_proc=28): 100%|██████████| 34/34 [00:00<00:00, 136.24 examples/s]\n"
     ]
    },
    {
     "name": "stdout",
     "output_type": "stream",
     "text": [
      "\t\t\tDocs: 17\n",
      "\t\t\tTkns: 5128\n",
      "\t\t\tmTkns: 15\n",
      "\t\t\tMTkns: 518\n",
      "\t\t\tATkn: 301.65\n",
      "social_media\n"
     ]
    },
    {
     "name": "stderr",
     "output_type": "stream",
     "text": [
      "Map (num_proc=28): 100%|██████████| 2367737/2367737 [00:09<00:00, 246875.17 examples/s]\n",
      "Map (num_proc=28): 100%|██████████| 1000/1000 [00:00<00:00, 3687.05 examples/s]\n",
      "Map (num_proc=28): 100%|██████████| 28/28 [00:00<00:00, 103.04 examples/s]\n"
     ]
    },
    {
     "name": "stdout",
     "output_type": "stream",
     "text": [
      "\ttrain\n",
      "\t\t 0\n"
     ]
    },
    {
     "name": "stderr",
     "output_type": "stream",
     "text": [
      "Filter (num_proc=28): 100%|██████████| 2367737/2367737 [00:00<00:00, 6109419.96 examples/s]\n"
     ]
    },
    {
     "name": "stdout",
     "output_type": "stream",
     "text": [
      "\t\t\tDocs: 2362746\n",
      "\t\t\tTkns: 44747491\n",
      "\t\t\tmTkns: 3\n",
      "\t\t\tMTkns: 84\n",
      "\t\t\tATkn: 18.94\n",
      "\t\t 1\n"
     ]
    },
    {
     "name": "stderr",
     "output_type": "stream",
     "text": [
      "Filter (num_proc=28): 100%|██████████| 2367737/2367737 [00:00<00:00, 6845402.51 examples/s]\n"
     ]
    },
    {
     "name": "stdout",
     "output_type": "stream",
     "text": [
      "\t\t\tDocs: 4991\n",
      "\t\t\tTkns: 85445\n",
      "\t\t\tmTkns: 6\n",
      "\t\t\tMTkns: 48\n",
      "\t\t\tATkn: 17.12\n",
      "\tvalid\n",
      "\t\t 0\n"
     ]
    },
    {
     "name": "stderr",
     "output_type": "stream",
     "text": [
      "Filter (num_proc=28): 100%|██████████| 1000/1000 [00:00<00:00, 3750.70 examples/s]\n"
     ]
    },
    {
     "name": "stdout",
     "output_type": "stream",
     "text": [
      "\t\t\tDocs: 500\n",
      "\t\t\tTkns: 9856\n",
      "\t\t\tmTkns: 6\n",
      "\t\t\tMTkns: 48\n",
      "\t\t\tATkn: 19.71\n",
      "\t\t 1\n"
     ]
    },
    {
     "name": "stderr",
     "output_type": "stream",
     "text": [
      "Filter (num_proc=28): 100%|██████████| 1000/1000 [00:00<00:00, 4017.02 examples/s]\n"
     ]
    },
    {
     "name": "stdout",
     "output_type": "stream",
     "text": [
      "\t\t\tDocs: 500\n",
      "\t\t\tTkns: 8464\n",
      "\t\t\tmTkns: 6\n",
      "\t\t\tMTkns: 48\n",
      "\t\t\tATkn: 16.93\n",
      "\ttest\n",
      "\t\t 0\n"
     ]
    },
    {
     "name": "stderr",
     "output_type": "stream",
     "text": [
      "Filter (num_proc=28): 100%|██████████| 28/28 [00:00<00:00, 118.10 examples/s]\n"
     ]
    },
    {
     "name": "stdout",
     "output_type": "stream",
     "text": [
      "\t\t\tDocs: 15\n",
      "\t\t\tTkns: 957\n",
      "\t\t\tmTkns: 9\n",
      "\t\t\tMTkns: 646\n",
      "\t\t\tATkn: 63.80\n",
      "\t\t 1\n"
     ]
    },
    {
     "name": "stderr",
     "output_type": "stream",
     "text": [
      "Filter (num_proc=28): 100%|██████████| 28/28 [00:00<00:00, 114.04 examples/s]\n"
     ]
    },
    {
     "name": "stdout",
     "output_type": "stream",
     "text": [
      "\t\t\tDocs: 13\n",
      "\t\t\tTkns: 268\n",
      "\t\t\tmTkns: 11\n",
      "\t\t\tMTkns: 51\n",
      "\t\t\tATkn: 20.62\n"
     ]
    }
   ],
   "source": [
    "for domain in DOMAINS:\n",
    "    print(domain)\n",
    "    dataset = datasets.load_dataset(\"liaad/PtBrVId\", domain)\n",
    "    dataset = dataset.map(count_tokens, num_proc=N_PROC)\n",
    "    for split in [\"train\", \"valid\", \"test\"]:\n",
    "        print(f\"\\t{split}\")\n",
    "        sdata = dataset[split]\n",
    "\n",
    "        for label in [0, 1]:\n",
    "            print(\"\\t\\t\", label)\n",
    "            lsdata = sdata.filter(lambda x: x[\"label\"] == label, num_proc=N_PROC)\n",
    "            n_docs = len(lsdata)\n",
    "            print(f\"\\t\\t\\tDocs: {n_docs}\")\n",
    "            n_tokens = sum(lsdata['n_tokens'])\n",
    "            print(f\"\\t\\t\\tTkns: {n_tokens}\")\n",
    "            print(f\"\\t\\t\\tmTkns: {min(lsdata['n_tokens'])}\")\n",
    "            print(f\"\\t\\t\\tMTkns: {max(lsdata['n_tokens'])}\")\n",
    "            print(f\"\\t\\t\\tATkn: {n_tokens/n_docs:.02f}\")\n"
   ]
  },
  {
   "cell_type": "code",
   "execution_count": 5,
   "metadata": {},
   "outputs": [
    {
     "name": "stdout",
     "output_type": "stream",
     "text": [
      "journalistic\n"
     ]
    },
    {
     "name": "stderr",
     "output_type": "stream",
     "text": [
      "Map (num_proc=28): 100%|██████████| 1776290/1776290 [00:26<00:00, 66893.87 examples/s]\n",
      "Map (num_proc=28): 100%|██████████| 1000/1000 [00:00<00:00, 3666.63 examples/s]\n",
      "Map (num_proc=28): 100%|██████████| 35/35 [00:00<00:00, 132.42 examples/s]\n"
     ]
    },
    {
     "name": "stdout",
     "output_type": "stream",
     "text": [
      "\t\tDocs: 1777325\n",
      "\t\tTkns: 216583858\n",
      "\t\tmTkns: 16\n",
      "\t\tMTkns: 560\n",
      "\t\tATkn: 121.86\n",
      "literature\n"
     ]
    },
    {
     "name": "stderr",
     "output_type": "stream",
     "text": [
      "Map (num_proc=28): 100%|██████████| 75512/75512 [00:01<00:00, 62443.77 examples/s]\n",
      "Map (num_proc=28): 100%|██████████| 1000/1000 [00:00<00:00, 2170.50 examples/s]\n",
      "Map (num_proc=28): 100%|██████████| 36/36 [00:00<00:00, 133.25 examples/s]\n"
     ]
    },
    {
     "name": "stdout",
     "output_type": "stream",
     "text": [
      "\t\tDocs: 76548\n",
      "\t\tTkns: 5665556\n",
      "\t\tmTkns: 16\n",
      "\t\tMTkns: 186\n",
      "\t\tATkn: 74.01\n",
      "legal\n"
     ]
    },
    {
     "name": "stderr",
     "output_type": "stream",
     "text": [
      "Map (num_proc=28): 100%|██████████| 2961596/2961596 [00:17<00:00, 171334.11 examples/s]\n",
      "Map (num_proc=28): 100%|██████████| 1000/1000 [00:00<00:00, 3815.97 examples/s]\n",
      "Map (num_proc=28): 100%|██████████| 37/37 [00:00<00:00, 147.53 examples/s]\n"
     ]
    },
    {
     "name": "stdout",
     "output_type": "stream",
     "text": [
      "\t\tDocs: 2962633\n",
      "\t\tTkns: 152938904\n",
      "\t\tmTkns: 16\n",
      "\t\tMTkns: 139\n",
      "\t\tATkn: 51.62\n",
      "politics\n"
     ]
    },
    {
     "name": "stderr",
     "output_type": "stream",
     "text": [
      "Map (num_proc=28): 100%|██████████| 30495/30495 [00:01<00:00, 27319.87 examples/s]\n",
      "Map (num_proc=28): 100%|██████████| 1000/1000 [00:00<00:00, 3658.97 examples/s]\n",
      "Map (num_proc=28): 100%|██████████| 48/48 [00:00<00:00, 175.32 examples/s]\n"
     ]
    },
    {
     "name": "stdout",
     "output_type": "stream",
     "text": [
      "\t\tDocs: 31543\n",
      "\t\tTkns: 8216325\n",
      "\t\tmTkns: 20\n",
      "\t\tMTkns: 798\n",
      "\t\tATkn: 260.48\n",
      "web\n"
     ]
    },
    {
     "name": "stderr",
     "output_type": "stream",
     "text": [
      "Map (num_proc=28): 100%|██████████| 86909/86909 [00:05<00:00, 15879.70 examples/s]\n",
      "Map (num_proc=28): 100%|██████████| 1000/1000 [00:00<00:00, 3508.10 examples/s]\n",
      "Map (num_proc=28): 100%|██████████| 34/34 [00:00<00:00, 123.60 examples/s]\n"
     ]
    },
    {
     "name": "stdout",
     "output_type": "stream",
     "text": [
      "\t\tDocs: 87943\n",
      "\t\tTkns: 46512358\n",
      "\t\tmTkns: 15\n",
      "\t\tMTkns: 2075\n",
      "\t\tATkn: 528.89\n",
      "social_media\n"
     ]
    },
    {
     "name": "stderr",
     "output_type": "stream",
     "text": [
      "Map (num_proc=28): 100%|██████████| 2367737/2367737 [00:09<00:00, 238087.43 examples/s]\n",
      "Map (num_proc=28): 100%|██████████| 1000/1000 [00:00<00:00, 3791.95 examples/s]\n",
      "Map (num_proc=28): 100%|██████████| 28/28 [00:00<00:00, 108.05 examples/s]\n"
     ]
    },
    {
     "name": "stdout",
     "output_type": "stream",
     "text": [
      "\t\tDocs: 2368765\n",
      "\t\tTkns: 44852481\n",
      "\t\tmTkns: 3\n",
      "\t\tMTkns: 646\n",
      "\t\tATkn: 18.93\n"
     ]
    }
   ],
   "source": [
    "for domain in DOMAINS:\n",
    "    print(domain)\n",
    "    dataset = datasets.load_dataset(\"liaad/PtBrVId\", domain)\n",
    "    dataset = dataset.map(count_tokens, num_proc=N_PROC)\n",
    "    \n",
    "    data = datasets.concatenate_datasets([dataset[split] for split in [\"train\", \"valid\", \"test\"]])\n",
    "    dataset = dataset.map(count_tokens, num_proc=N_PROC)\n",
    "\n",
    "    n_docs = len(data)\n",
    "    n_tokens = sum(data[\"n_tokens\"])\n",
    "    min_tokens = min(data[\"n_tokens\"])\n",
    "    max_tokens = max(data[\"n_tokens\"])\n",
    "    avg_tokens = n_tokens / n_docs \n",
    "\n",
    "    print(f\"\\t\\tDocs: {n_docs}\")\n",
    "    print(f\"\\t\\tTkns: {n_tokens}\")\n",
    "    print(f\"\\t\\tmTkns: {min_tokens}\")\n",
    "    print(f\"\\t\\tMTkns: {max_tokens}\")\n",
    "    print(f\"\\t\\tATkn: {avg_tokens:.02f}\")"
   ]
  },
  {
   "cell_type": "code",
   "execution_count": 6,
   "metadata": {},
   "outputs": [
    {
     "name": "stdout",
     "output_type": "stream",
     "text": [
      "journalistic\n"
     ]
    },
    {
     "name": "stdout",
     "output_type": "stream",
     "text": [
      "literature\n",
      "legal\n",
      "politics\n",
      "web\n",
      "social_media\n"
     ]
    }
   ],
   "source": [
    "for domain in DOMAINS:\n",
    "    print(domain)\n",
    "    dataset = datasets.load_dataset(\"liaad/PtBrVId\", domain)\n",
    "    dataset = dataset.map(count_tokens, num_proc=N_PROC)\n",
    "    \n",
    "    data = datasets.concatenate_datasets([dataset[split] for split in [\"train\", \"valid\", \"test\"]])\n",
    "    dataset = dataset.map(count_tokens, num_proc=N_PROC)\n",
    "\n",
    "    n_docs = len(data)\n",
    "    n_tokens = sum(data[\"n_tokens\"])\n",
    "    min_tokens = min(data[\"n_tokens\"])\n",
    "    max_tokens = max(data[\"n_tokens\"])\n",
    "    avg_tokens = n_tokens / n_docs "
   ]
  },
  {
   "cell_type": "code",
   "execution_count": null,
   "metadata": {},
   "outputs": [],
   "source": []
  }
 ],
 "metadata": {
  "kernelspec": {
   "display_name": "Python 3",
   "language": "python",
   "name": "python3"
  },
  "language_info": {
   "codemirror_mode": {
    "name": "ipython",
    "version": 3
   },
   "file_extension": ".py",
   "mimetype": "text/x-python",
   "name": "python",
   "nbconvert_exporter": "python",
   "pygments_lexer": "ipython3",
   "version": "3.11.9"
  }
 },
 "nbformat": 4,
 "nbformat_minor": 2
}
