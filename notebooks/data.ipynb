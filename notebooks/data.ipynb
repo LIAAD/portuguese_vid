{
 "cells": [
  {
   "cell_type": "code",
   "execution_count": 1,
   "metadata": {},
   "outputs": [
    {
     "name": "stderr",
     "output_type": "stream",
     "text": [
      "/home/ubuntu/projects/Language-Identifier/.conda/lib/python3.11/site-packages/tqdm/auto.py:21: TqdmWarning: IProgress not found. Please update jupyter and ipywidgets. See https://ipywidgets.readthedocs.io/en/stable/user_install.html\n",
      "  from .autonotebook import tqdm as notebook_tqdm\n"
     ]
    }
   ],
   "source": [
    "import multiprocessing as mp\n",
    "import datasets\n",
    "\n",
    "from nltk.tokenize import word_tokenize\n",
    "from ptvid.constants import DOMAINS\n",
    "\n",
    "N_PROC = mp.cpu_count()"
   ]
  },
  {
   "cell_type": "code",
   "execution_count": 2,
   "metadata": {},
   "outputs": [],
   "source": [
    "def count_tokens(example):\n",
    "    n_tokens = len(word_tokenize(example[\"text\"], language=\"portuguese\"))\n",
    "    example[\"n_tokens\"] = n_tokens\n",
    "    return example"
   ]
  },
  {
   "cell_type": "code",
   "execution_count": 3,
   "metadata": {},
   "outputs": [
    {
     "name": "stdout",
     "output_type": "stream",
     "text": [
      "journalistic\n"
     ]
    },
    {
     "name": "stderr",
     "output_type": "stream",
     "text": [
      "Downloading readme: 100%|██████████| 9.91k/9.91k [00:00<00:00, 18.4MB/s]\n",
      "Downloading data: 100%|██████████| 282M/282M [00:03<00:00, 89.5MB/s] \n",
      "Downloading data: 100%|██████████| 282M/282M [00:02<00:00, 95.9MB/s] \n",
      "Downloading data: 100%|██████████| 223M/223M [00:02<00:00, 90.1MB/s] \n",
      "Downloading data: 100%|██████████| 387k/387k [00:00<00:00, 1.25MB/s]\n",
      "Downloading data: 100%|██████████| 21.2k/21.2k [00:00<00:00, 66.5kB/s]\n",
      "Generating train split: 100%|██████████| 1804256/1804256 [00:07<00:00, 246833.25 examples/s]\n",
      "Generating valid split: 100%|██████████| 1000/1000 [00:00<00:00, 192885.90 examples/s]\n",
      "Generating test split: 100%|██████████| 36/36 [00:00<00:00, 22110.84 examples/s]\n"
     ]
    },
    {
     "name": "stdout",
     "output_type": "stream",
     "text": [
      "literature\n"
     ]
    },
    {
     "name": "stderr",
     "output_type": "stream",
     "text": [
      "Downloading data: 100%|██████████| 18.5M/18.5M [00:00<00:00, 26.8MB/s]\n",
      "Downloading data: 100%|██████████| 253k/253k [00:00<00:00, 827kB/s]\n",
      "Downloading data: 100%|██████████| 12.5k/12.5k [00:00<00:00, 39.6kB/s]\n",
      "Generating train split: 100%|██████████| 78315/78315 [00:00<00:00, 409663.14 examples/s]\n",
      "Generating valid split: 100%|██████████| 1000/1000 [00:00<00:00, 214652.20 examples/s]\n",
      "Generating test split: 100%|██████████| 36/36 [00:00<00:00, 21320.95 examples/s]\n"
     ]
    },
    {
     "name": "stdout",
     "output_type": "stream",
     "text": [
      "legal\n"
     ]
    },
    {
     "name": "stderr",
     "output_type": "stream",
     "text": [
      "Downloading data: 100%|██████████| 192M/192M [00:02<00:00, 79.6MB/s] \n",
      "Downloading data: 100%|██████████| 197M/197M [00:02<00:00, 96.9MB/s] \n",
      "Downloading data: 100%|██████████| 199M/199M [00:02<00:00, 80.7MB/s] \n",
      "Downloading data: 100%|██████████| 121k/121k [00:00<00:00, 373kB/s]\n",
      "Downloading data: 100%|██████████| 9.37k/9.37k [00:00<00:00, 26.0kB/s]\n",
      "Generating train split: 100%|██████████| 4068980/4068980 [00:06<00:00, 584850.05 examples/s]\n",
      "Generating valid split: 100%|██████████| 1000/1000 [00:00<00:00, 347009.51 examples/s]\n",
      "Generating test split: 100%|██████████| 37/37 [00:00<00:00, 24019.39 examples/s]\n"
     ]
    },
    {
     "name": "stdout",
     "output_type": "stream",
     "text": [
      "politics\n"
     ]
    },
    {
     "name": "stderr",
     "output_type": "stream",
     "text": [
      "Downloading data: 100%|██████████| 26.6M/26.6M [00:00<00:00, 38.9MB/s]\n",
      "Downloading data: 100%|██████████| 855k/855k [00:00<00:00, 2.72MB/s]\n",
      "Downloading data: 100%|██████████| 47.1k/47.1k [00:00<00:00, 123kB/s]\n",
      "Generating train split: 100%|██████████| 31406/31406 [00:00<00:00, 123368.24 examples/s]\n",
      "Generating valid split: 100%|██████████| 1000/1000 [00:00<00:00, 110399.66 examples/s]\n",
      "Generating test split: 100%|██████████| 48/48 [00:00<00:00, 24341.26 examples/s]\n"
     ]
    },
    {
     "name": "stdout",
     "output_type": "stream",
     "text": [
      "web\n"
     ]
    },
    {
     "name": "stderr",
     "output_type": "stream",
     "text": [
      "Downloading data: 100%|██████████| 153M/153M [00:03<00:00, 39.6MB/s] \n",
      "Downloading data: 100%|██████████| 1.63M/1.63M [00:00<00:00, 3.73MB/s]\n",
      "Downloading data: 100%|██████████| 49.0k/49.0k [00:00<00:00, 165kB/s]\n",
      "Generating train split: 100%|██████████| 87508/87508 [00:01<00:00, 64019.84 examples/s]\n",
      "Generating valid split: 100%|██████████| 1000/1000 [00:00<00:00, 62631.47 examples/s]\n",
      "Generating test split: 100%|██████████| 34/34 [00:00<00:00, 17459.15 examples/s]\n"
     ]
    },
    {
     "name": "stdout",
     "output_type": "stream",
     "text": [
      "social_media\n"
     ]
    },
    {
     "name": "stderr",
     "output_type": "stream",
     "text": [
      "Downloading data: 100%|██████████| 196M/196M [00:03<00:00, 55.1MB/s] \n",
      "Downloading data: 100%|██████████| 69.9k/69.9k [00:00<00:00, 227kB/s]\n",
      "Downloading data: 100%|██████████| 6.33k/6.33k [00:00<00:00, 20.9kB/s]\n",
      "Generating train split: 100%|██████████| 2538360/2538360 [00:02<00:00, 1043050.83 examples/s]\n",
      "Generating valid split: 100%|██████████| 1000/1000 [00:00<00:00, 420355.18 examples/s]\n",
      "Generating test split: 100%|██████████| 28/28 [00:00<00:00, 17010.50 examples/s]\n"
     ]
    }
   ],
   "source": [
    "for domain in DOMAINS:\n",
    "    print(domain)\n",
    "    dataset = datasets.load_dataset(\"liaad/PtBrVId\", domain)"
   ]
  },
  {
   "cell_type": "code",
   "execution_count": 4,
   "metadata": {},
   "outputs": [
    {
     "name": "stdout",
     "output_type": "stream",
     "text": [
      "journalistic\n"
     ]
    },
    {
     "name": "stderr",
     "output_type": "stream",
     "text": [
      "Map (num_proc=28): 100%|██████████| 1804256/1804256 [00:24<00:00, 73239.92 examples/s]\n",
      "Map (num_proc=28): 100%|██████████| 1000/1000 [00:00<00:00, 3987.52 examples/s]\n",
      "Map (num_proc=28): 100%|██████████| 36/36 [00:00<00:00, 151.62 examples/s]\n"
     ]
    },
    {
     "name": "stdout",
     "output_type": "stream",
     "text": [
      "\ttrain\n",
      "\t\t 0\n"
     ]
    },
    {
     "name": "stderr",
     "output_type": "stream",
     "text": [
      "Filter (num_proc=28): 100%|██████████| 1804256/1804256 [00:00<00:00, 4833635.77 examples/s]\n"
     ]
    },
    {
     "name": "stdout",
     "output_type": "stream",
     "text": [
      "\t\t\tDocs: 1466754\n",
      "\t\t\tTkns: 189557352\n",
      "\t\t\tATkn: 129.24\n",
      "\t\t 1\n"
     ]
    },
    {
     "name": "stderr",
     "output_type": "stream",
     "text": [
      "Filter (num_proc=28): 100%|██████████| 1804256/1804256 [00:00<00:00, 5530034.74 examples/s]\n"
     ]
    },
    {
     "name": "stdout",
     "output_type": "stream",
     "text": [
      "\t\t\tDocs: 337502\n",
      "\t\t\tTkns: 27096514\n",
      "\t\t\tATkn: 80.29\n",
      "\tvalid\n",
      "\t\t 0\n"
     ]
    },
    {
     "name": "stderr",
     "output_type": "stream",
     "text": [
      "Filter (num_proc=28): 100%|██████████| 1000/1000 [00:00<00:00, 3962.91 examples/s]\n"
     ]
    },
    {
     "name": "stdout",
     "output_type": "stream",
     "text": [
      "\t\t\tDocs: 500\n",
      "\t\t\tTkns: 65571\n",
      "\t\t\tATkn: 131.14\n",
      "\t\t 1\n"
     ]
    },
    {
     "name": "stderr",
     "output_type": "stream",
     "text": [
      "Filter (num_proc=28): 100%|██████████| 1000/1000 [00:00<00:00, 4140.63 examples/s]\n"
     ]
    },
    {
     "name": "stdout",
     "output_type": "stream",
     "text": [
      "\t\t\tDocs: 500\n",
      "\t\t\tTkns: 39451\n",
      "\t\t\tATkn: 78.90\n",
      "\ttest\n",
      "\t\t 0\n"
     ]
    },
    {
     "name": "stderr",
     "output_type": "stream",
     "text": [
      "Filter (num_proc=28): 100%|██████████| 36/36 [00:00<00:00, 148.78 examples/s]"
     ]
    },
    {
     "name": "stdout",
     "output_type": "stream",
     "text": [
      "\t\t\tDocs: 16\n",
      "\t\t\tTkns: 2387\n",
      "\t\t\tATkn: 149.19\n",
      "\t\t 1\n"
     ]
    },
    {
     "name": "stderr",
     "output_type": "stream",
     "text": [
      "\n",
      "Filter (num_proc=28): 100%|██████████| 36/36 [00:00<00:00, 155.41 examples/s]\n"
     ]
    },
    {
     "name": "stdout",
     "output_type": "stream",
     "text": [
      "\t\t\tDocs: 20\n",
      "\t\t\tTkns: 2630\n",
      "\t\t\tATkn: 131.50\n",
      "literature\n"
     ]
    },
    {
     "name": "stderr",
     "output_type": "stream",
     "text": [
      "Map (num_proc=28): 100%|██████████| 78315/78315 [00:00<00:00, 81094.12 examples/s] \n",
      "Map (num_proc=28): 100%|██████████| 1000/1000 [00:00<00:00, 3893.80 examples/s]\n",
      "Map (num_proc=28): 100%|██████████| 36/36 [00:00<00:00, 151.02 examples/s]"
     ]
    },
    {
     "name": "stdout",
     "output_type": "stream",
     "text": [
      "\ttrain\n",
      "\t\t 0\n"
     ]
    },
    {
     "name": "stderr",
     "output_type": "stream",
     "text": [
      "\n",
      "Filter (num_proc=28): 100%|██████████| 78315/78315 [00:00<00:00, 335728.66 examples/s]\n"
     ]
    },
    {
     "name": "stdout",
     "output_type": "stream",
     "text": [
      "\t\t\tDocs: 24243\n",
      "\t\t\tTkns: 1825900\n",
      "\t\t\tATkn: 75.32\n",
      "\t\t 1\n"
     ]
    },
    {
     "name": "stderr",
     "output_type": "stream",
     "text": [
      "Filter (num_proc=28): 100%|██████████| 78315/78315 [00:00<00:00, 349058.45 examples/s]\n"
     ]
    },
    {
     "name": "stdout",
     "output_type": "stream",
     "text": [
      "\t\t\tDocs: 54072\n",
      "\t\t\tTkns: 3783515\n",
      "\t\t\tATkn: 69.97\n",
      "\tvalid\n",
      "\t\t 0\n"
     ]
    },
    {
     "name": "stderr",
     "output_type": "stream",
     "text": [
      "Filter (num_proc=28): 100%|██████████| 1000/1000 [00:00<00:00, 4469.37 examples/s]"
     ]
    },
    {
     "name": "stdout",
     "output_type": "stream",
     "text": [
      "\t\t\tDocs: 500\n",
      "\t\t\tTkns: 37827\n",
      "\t\t\tATkn: 75.65\n",
      "\t\t 1\n"
     ]
    },
    {
     "name": "stderr",
     "output_type": "stream",
     "text": [
      "\n",
      "Filter (num_proc=28): 100%|██████████| 1000/1000 [00:00<00:00, 4324.98 examples/s]"
     ]
    },
    {
     "name": "stdout",
     "output_type": "stream",
     "text": [
      "\t\t\tDocs: 500\n",
      "\t\t\tTkns: 37838\n",
      "\t\t\tATkn: 75.68\n",
      "\ttest\n",
      "\t\t 0\n"
     ]
    },
    {
     "name": "stderr",
     "output_type": "stream",
     "text": [
      "\n",
      "Filter (num_proc=28): 100%|██████████| 36/36 [00:00<00:00, 153.62 examples/s]"
     ]
    },
    {
     "name": "stdout",
     "output_type": "stream",
     "text": [
      "\t\t\tDocs: 21\n",
      "\t\t\tTkns: 1396\n",
      "\t\t\tATkn: 66.48\n",
      "\t\t 1\n"
     ]
    },
    {
     "name": "stderr",
     "output_type": "stream",
     "text": [
      "\n",
      "Filter (num_proc=28): 100%|██████████| 36/36 [00:00<00:00, 161.45 examples/s]\n"
     ]
    },
    {
     "name": "stdout",
     "output_type": "stream",
     "text": [
      "\t\t\tDocs: 15\n",
      "\t\t\tTkns: 1118\n",
      "\t\t\tATkn: 74.53\n",
      "legal\n"
     ]
    },
    {
     "name": "stderr",
     "output_type": "stream",
     "text": [
      "Map (num_proc=28): 100%|██████████| 4068980/4068980 [00:19<00:00, 208802.78 examples/s]\n",
      "Map (num_proc=28): 100%|██████████| 1000/1000 [00:00<00:00, 4000.70 examples/s]\n",
      "Map (num_proc=28): 100%|██████████| 37/37 [00:00<00:00, 136.41 examples/s]\n"
     ]
    },
    {
     "name": "stdout",
     "output_type": "stream",
     "text": [
      "\ttrain\n",
      "\t\t 0\n"
     ]
    },
    {
     "name": "stderr",
     "output_type": "stream",
     "text": [
      "Filter (num_proc=28): 100%|██████████| 4068980/4068980 [00:00<00:00, 7676219.62 examples/s] \n"
     ]
    },
    {
     "name": "stdout",
     "output_type": "stream",
     "text": [
      "\t\t\tDocs: 4061518\n",
      "\t\t\tTkns: 165930780\n",
      "\t\t\tATkn: 40.85\n",
      "\t\t 1\n"
     ]
    },
    {
     "name": "stderr",
     "output_type": "stream",
     "text": [
      "Filter (num_proc=28): 100%|██████████| 4068980/4068980 [00:00<00:00, 8162180.11 examples/s] \n"
     ]
    },
    {
     "name": "stdout",
     "output_type": "stream",
     "text": [
      "\t\t\tDocs: 7462\n",
      "\t\t\tTkns: 235868\n",
      "\t\t\tATkn: 31.61\n",
      "\tvalid\n",
      "\t\t 0\n"
     ]
    },
    {
     "name": "stderr",
     "output_type": "stream",
     "text": [
      "Filter (num_proc=28): 100%|██████████| 1000/1000 [00:00<00:00, 3941.38 examples/s]\n"
     ]
    },
    {
     "name": "stdout",
     "output_type": "stream",
     "text": [
      "\t\t\tDocs: 500\n",
      "\t\t\tTkns: 18402\n",
      "\t\t\tATkn: 36.80\n",
      "\t\t 1\n"
     ]
    },
    {
     "name": "stderr",
     "output_type": "stream",
     "text": [
      "Filter (num_proc=28): 100%|██████████| 1000/1000 [00:00<00:00, 3918.24 examples/s]\n"
     ]
    },
    {
     "name": "stdout",
     "output_type": "stream",
     "text": [
      "\t\t\tDocs: 500\n",
      "\t\t\tTkns: 14573\n",
      "\t\t\tATkn: 29.15\n",
      "\ttest\n",
      "\t\t 0\n"
     ]
    },
    {
     "name": "stderr",
     "output_type": "stream",
     "text": [
      "Filter (num_proc=28): 100%|██████████| 37/37 [00:00<00:00, 153.13 examples/s]\n"
     ]
    },
    {
     "name": "stdout",
     "output_type": "stream",
     "text": [
      "\t\t\tDocs: 21\n",
      "\t\t\tTkns: 1051\n",
      "\t\t\tATkn: 50.05\n",
      "\t\t 1\n"
     ]
    },
    {
     "name": "stderr",
     "output_type": "stream",
     "text": [
      "Filter (num_proc=28): 100%|██████████| 37/37 [00:00<00:00, 143.06 examples/s]\n"
     ]
    },
    {
     "name": "stdout",
     "output_type": "stream",
     "text": [
      "\t\t\tDocs: 16\n",
      "\t\t\tTkns: 697\n",
      "\t\t\tATkn: 43.56\n",
      "politics\n"
     ]
    },
    {
     "name": "stderr",
     "output_type": "stream",
     "text": [
      "Map (num_proc=28): 100%|██████████| 31406/31406 [00:01<00:00, 26825.44 examples/s]\n",
      "Map (num_proc=28): 100%|██████████| 1000/1000 [00:00<00:00, 3575.40 examples/s]\n",
      "Map (num_proc=28): 100%|██████████| 48/48 [00:00<00:00, 178.96 examples/s]\n"
     ]
    },
    {
     "name": "stdout",
     "output_type": "stream",
     "text": [
      "\ttrain\n",
      "\t\t 0\n"
     ]
    },
    {
     "name": "stderr",
     "output_type": "stream",
     "text": [
      "Filter (num_proc=28): 100%|██████████| 31406/31406 [00:00<00:00, 115387.04 examples/s]\n"
     ]
    },
    {
     "name": "stdout",
     "output_type": "stream",
     "text": [
      "\t\t\tDocs: 28134\n",
      "\t\t\tTkns: 7083037\n",
      "\t\t\tATkn: 251.76\n",
      "\t\t 1\n"
     ]
    },
    {
     "name": "stderr",
     "output_type": "stream",
     "text": [
      "Filter (num_proc=28): 100%|██████████| 31406/31406 [00:00<00:00, 127106.99 examples/s]\n"
     ]
    },
    {
     "name": "stdout",
     "output_type": "stream",
     "text": [
      "\t\t\tDocs: 3272\n",
      "\t\t\tTkns: 870113\n",
      "\t\t\tATkn: 265.93\n",
      "\tvalid\n",
      "\t\t 0\n"
     ]
    },
    {
     "name": "stderr",
     "output_type": "stream",
     "text": [
      "Filter (num_proc=28): 100%|██████████| 1000/1000 [00:00<00:00, 4030.10 examples/s]\n"
     ]
    },
    {
     "name": "stdout",
     "output_type": "stream",
     "text": [
      "\t\t\tDocs: 500\n",
      "\t\t\tTkns: 127532\n",
      "\t\t\tATkn: 255.06\n",
      "\t\t 1\n"
     ]
    },
    {
     "name": "stderr",
     "output_type": "stream",
     "text": [
      "Filter (num_proc=28): 100%|██████████| 1000/1000 [00:00<00:00, 3941.92 examples/s]\n"
     ]
    },
    {
     "name": "stdout",
     "output_type": "stream",
     "text": [
      "\t\t\tDocs: 500\n",
      "\t\t\tTkns: 137050\n",
      "\t\t\tATkn: 274.10\n",
      "\ttest\n",
      "\t\t 0\n"
     ]
    },
    {
     "name": "stderr",
     "output_type": "stream",
     "text": [
      "Filter (num_proc=28): 100%|██████████| 48/48 [00:00<00:00, 184.67 examples/s]\n"
     ]
    },
    {
     "name": "stdout",
     "output_type": "stream",
     "text": [
      "\t\t\tDocs: 19\n",
      "\t\t\tTkns: 4148\n",
      "\t\t\tATkn: 218.32\n",
      "\t\t 1\n"
     ]
    },
    {
     "name": "stderr",
     "output_type": "stream",
     "text": [
      "Filter (num_proc=28): 100%|██████████| 48/48 [00:00<00:00, 187.89 examples/s]\n"
     ]
    },
    {
     "name": "stdout",
     "output_type": "stream",
     "text": [
      "\t\t\tDocs: 29\n",
      "\t\t\tTkns: 7243\n",
      "\t\t\tATkn: 249.76\n",
      "web\n"
     ]
    },
    {
     "name": "stderr",
     "output_type": "stream",
     "text": [
      "Map (num_proc=28): 100%|██████████| 87508/87508 [00:05<00:00, 17028.96 examples/s]\n",
      "Map (num_proc=28): 100%|██████████| 1000/1000 [00:00<00:00, 3329.52 examples/s]\n",
      "Map (num_proc=28): 100%|██████████| 34/34 [00:00<00:00, 128.10 examples/s]\n"
     ]
    },
    {
     "name": "stdout",
     "output_type": "stream",
     "text": [
      "\ttrain\n",
      "\t\t 0\n"
     ]
    },
    {
     "name": "stderr",
     "output_type": "stream",
     "text": [
      "Filter (num_proc=28): 100%|██████████| 87508/87508 [00:00<00:00, 331295.64 examples/s]\n"
     ]
    },
    {
     "name": "stdout",
     "output_type": "stream",
     "text": [
      "\t\t\tDocs: 43466\n",
      "\t\t\tTkns: 22583959\n",
      "\t\t\tATkn: 519.58\n",
      "\t\t 1\n"
     ]
    },
    {
     "name": "stderr",
     "output_type": "stream",
     "text": [
      "Filter (num_proc=28): 100%|██████████| 87508/87508 [00:00<00:00, 328545.11 examples/s]\n"
     ]
    },
    {
     "name": "stdout",
     "output_type": "stream",
     "text": [
      "\t\t\tDocs: 44042\n",
      "\t\t\tTkns: 23988393\n",
      "\t\t\tATkn: 544.67\n",
      "\tvalid\n",
      "\t\t 0\n"
     ]
    },
    {
     "name": "stderr",
     "output_type": "stream",
     "text": [
      "Filter (num_proc=28): 100%|██████████| 1000/1000 [00:00<00:00, 3722.24 examples/s]\n"
     ]
    },
    {
     "name": "stdout",
     "output_type": "stream",
     "text": [
      "\t\t\tDocs: 500\n",
      "\t\t\tTkns: 240060\n",
      "\t\t\tATkn: 480.12\n",
      "\t\t 1\n"
     ]
    },
    {
     "name": "stderr",
     "output_type": "stream",
     "text": [
      "Filter (num_proc=28): 100%|██████████| 1000/1000 [00:00<00:00, 3873.41 examples/s]\n"
     ]
    },
    {
     "name": "stdout",
     "output_type": "stream",
     "text": [
      "\t\t\tDocs: 500\n",
      "\t\t\tTkns: 259291\n",
      "\t\t\tATkn: 518.58\n",
      "\ttest\n",
      "\t\t 0\n"
     ]
    },
    {
     "name": "stderr",
     "output_type": "stream",
     "text": [
      "Filter (num_proc=28): 100%|██████████| 34/34 [00:00<00:00, 133.69 examples/s]\n"
     ]
    },
    {
     "name": "stdout",
     "output_type": "stream",
     "text": [
      "\t\t\tDocs: 17\n",
      "\t\t\tTkns: 5788\n",
      "\t\t\tATkn: 340.47\n",
      "\t\t 1\n"
     ]
    },
    {
     "name": "stderr",
     "output_type": "stream",
     "text": [
      "Filter (num_proc=28): 100%|██████████| 34/34 [00:00<00:00, 136.51 examples/s]\n"
     ]
    },
    {
     "name": "stdout",
     "output_type": "stream",
     "text": [
      "\t\t\tDocs: 17\n",
      "\t\t\tTkns: 5128\n",
      "\t\t\tATkn: 301.65\n",
      "social_media\n"
     ]
    },
    {
     "name": "stderr",
     "output_type": "stream",
     "text": [
      "Map (num_proc=28): 100%|██████████| 2538360/2538360 [00:09<00:00, 263237.30 examples/s]\n",
      "Map (num_proc=28): 100%|██████████| 1000/1000 [00:00<00:00, 3604.53 examples/s]\n",
      "Map (num_proc=28): 100%|██████████| 28/28 [00:00<00:00, 99.42 examples/s]\n"
     ]
    },
    {
     "name": "stdout",
     "output_type": "stream",
     "text": [
      "\ttrain\n",
      "\t\t 0\n"
     ]
    },
    {
     "name": "stderr",
     "output_type": "stream",
     "text": [
      "Filter (num_proc=28): 100%|██████████| 2538360/2538360 [00:00<00:00, 5644151.62 examples/s]\n"
     ]
    },
    {
     "name": "stdout",
     "output_type": "stream",
     "text": [
      "\t\t\tDocs: 2530553\n",
      "\t\t\tTkns: 46655330\n",
      "\t\t\tATkn: 18.44\n",
      "\t\t 1\n"
     ]
    },
    {
     "name": "stderr",
     "output_type": "stream",
     "text": [
      "Filter (num_proc=28): 100%|██████████| 2538360/2538360 [00:00<00:00, 6838371.34 examples/s]\n"
     ]
    },
    {
     "name": "stdout",
     "output_type": "stream",
     "text": [
      "\t\t\tDocs: 7807\n",
      "\t\t\tTkns: 98568\n",
      "\t\t\tATkn: 12.63\n",
      "\tvalid\n",
      "\t\t 0\n"
     ]
    },
    {
     "name": "stderr",
     "output_type": "stream",
     "text": [
      "Filter (num_proc=28): 100%|██████████| 1000/1000 [00:00<00:00, 4122.32 examples/s]\n"
     ]
    },
    {
     "name": "stdout",
     "output_type": "stream",
     "text": [
      "\t\t\tDocs: 500\n",
      "\t\t\tTkns: 9649\n",
      "\t\t\tATkn: 19.30\n",
      "\t\t 1\n"
     ]
    },
    {
     "name": "stderr",
     "output_type": "stream",
     "text": [
      "Filter (num_proc=28): 100%|██████████| 1000/1000 [00:00<00:00, 3945.73 examples/s]\n"
     ]
    },
    {
     "name": "stdout",
     "output_type": "stream",
     "text": [
      "\t\t\tDocs: 500\n",
      "\t\t\tTkns: 6163\n",
      "\t\t\tATkn: 12.33\n",
      "\ttest\n",
      "\t\t 0\n"
     ]
    },
    {
     "name": "stderr",
     "output_type": "stream",
     "text": [
      "Filter (num_proc=28): 100%|██████████| 28/28 [00:00<00:00, 107.90 examples/s]\n"
     ]
    },
    {
     "name": "stdout",
     "output_type": "stream",
     "text": [
      "\t\t\tDocs: 15\n",
      "\t\t\tTkns: 957\n",
      "\t\t\tATkn: 63.80\n",
      "\t\t 1\n"
     ]
    },
    {
     "name": "stderr",
     "output_type": "stream",
     "text": [
      "Filter (num_proc=28): 100%|██████████| 28/28 [00:00<00:00, 108.19 examples/s]\n"
     ]
    },
    {
     "name": "stdout",
     "output_type": "stream",
     "text": [
      "\t\t\tDocs: 13\n",
      "\t\t\tTkns: 268\n",
      "\t\t\tATkn: 20.62\n"
     ]
    }
   ],
   "source": [
    "for domain in DOMAINS:\n",
    "    print(domain)\n",
    "    dataset = datasets.load_dataset(\"liaad/PtBrVId\", domain)\n",
    "    dataset = dataset.map(count_tokens, num_proc=N_PROC)\n",
    "    for split in [\"train\", \"valid\", \"test\"]:\n",
    "        print(f\"\\t{split}\")\n",
    "        sdata = dataset[split]\n",
    "\n",
    "        for label in [0, 1]:\n",
    "            print(\"\\t\\t\", label)\n",
    "            lsdata = sdata.filter(lambda x: x[\"label\"] == label, num_proc=N_PROC)\n",
    "            n_docs = len(lsdata)\n",
    "            print(f\"\\t\\t\\tDocs: {n_docs}\")\n",
    "            n_tokens = sum(lsdata[\"n_tokens\"])\n",
    "            print(f\"\\t\\t\\tTkns: {n_tokens}\")\n",
    "            print(f\"\\t\\t\\tATkn: {n_tokens/n_docs:.02f}\")\n"
   ]
  },
  {
   "cell_type": "code",
   "execution_count": 5,
   "metadata": {},
   "outputs": [
    {
     "name": "stdout",
     "output_type": "stream",
     "text": [
      "journalistic\n",
      "\t\tDocs: 1805292\n",
      "\t\tTkns: 216763905\n",
      "\t\tmTkns: 0\n",
      "\t\tMTkns: 560\n",
      "\t\tATkn: 120.07\n",
      "literature\n",
      "\t\tDocs: 79351\n",
      "\t\tTkns: 5687594\n",
      "\t\tmTkns: 1\n",
      "\t\tMTkns: 182\n",
      "\t\tATkn: 71.68\n",
      "legal\n",
      "\t\tDocs: 4070017\n",
      "\t\tTkns: 166201371\n",
      "\t\tmTkns: 1\n",
      "\t\tMTkns: 124\n",
      "\t\tATkn: 40.84\n",
      "politics\n",
      "\t\tDocs: 32454\n",
      "\t\tTkns: 8229123\n",
      "\t\tmTkns: 2\n",
      "\t\tMTkns: 798\n",
      "\t\tATkn: 253.56\n",
      "web\n",
      "\t\tDocs: 88542\n",
      "\t\tTkns: 47082619\n",
      "\t\tmTkns: 14\n",
      "\t\tMTkns: 2070\n",
      "\t\tATkn: 531.75\n",
      "social_media\n",
      "\t\tDocs: 2539388\n",
      "\t\tTkns: 46770935\n",
      "\t\tmTkns: 1\n",
      "\t\tMTkns: 646\n",
      "\t\tATkn: 18.42\n"
     ]
    }
   ],
   "source": [
    "for domain in DOMAINS:\n",
    "    print(domain)\n",
    "    dataset = datasets.load_dataset(\"liaad/PtBrVId\", domain)\n",
    "    dataset = dataset.map(count_tokens, num_proc=N_PROC)\n",
    "    \n",
    "    data = datasets.concatenate_datasets([dataset[split] for split in [\"train\", \"valid\", \"test\"]])\n",
    "\n",
    "    n_docs = len(data)\n",
    "    n_tokens = sum(data[\"n_tokens\"])\n",
    "    min_tokens = min(data[\"n_tokens\"])\n",
    "    max_tokens = max(data[\"n_tokens\"])\n",
    "    avg_tokens = n_tokens / n_docs \n",
    "\n",
    "    print(f\"\\t\\tDocs: {n_docs}\")\n",
    "    print(f\"\\t\\tTkns: {n_tokens}\")\n",
    "    print(f\"\\t\\tmTkns: {min_tokens}\")\n",
    "    print(f\"\\t\\tMTkns: {max_tokens}\")\n",
    "    print(f\"\\t\\tATkn: {avg_tokens:.02f}\")"
   ]
  },
  {
   "cell_type": "code",
   "execution_count": null,
   "metadata": {},
   "outputs": [],
   "source": []
  }
 ],
 "metadata": {
  "kernelspec": {
   "display_name": "Python 3",
   "language": "python",
   "name": "python3"
  },
  "language_info": {
   "codemirror_mode": {
    "name": "ipython",
    "version": 3
   },
   "file_extension": ".py",
   "mimetype": "text/x-python",
   "name": "python",
   "nbconvert_exporter": "python",
   "pygments_lexer": "ipython3",
   "version": "3.11.9"
  }
 },
 "nbformat": 4,
 "nbformat_minor": 2
}
