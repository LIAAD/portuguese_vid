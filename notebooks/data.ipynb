{
 "cells": [
  {
   "cell_type": "code",
   "execution_count": 13,
   "metadata": {},
   "outputs": [],
   "source": [
    "import multiprocessing as mp\n",
    "import datasets\n",
    "\n",
    "from nltk.tokenize import word_tokenize\n",
    "from ptvid.constants import DOMAINS\n",
    "\n",
    "N_PROC = mp.cpu_count()"
   ]
  },
  {
   "cell_type": "code",
   "execution_count": 14,
   "metadata": {},
   "outputs": [],
   "source": [
    "def count_tokens(example):\n",
    "    n_tokens = len(word_tokenize(example[\"text\"], language=\"portuguese\"))\n",
    "    example[\"n_tokens\"] = n_tokens\n",
    "    return example"
   ]
  },
  {
   "cell_type": "code",
   "execution_count": 15,
   "metadata": {},
   "outputs": [
    {
     "name": "stdout",
     "output_type": "stream",
     "text": [
      "journalistic\n"
     ]
    },
    {
     "name": "stderr",
     "output_type": "stream",
     "text": [
      "Downloading readme: 100%|██████████| 9.88k/9.88k [00:00<00:00, 17.8MB/s]\n",
      "Downloading data: 100%|██████████| 282M/282M [00:02<00:00, 104MB/s]  \n",
      "Downloading data: 100%|██████████| 281M/281M [00:02<00:00, 119MB/s]  \n",
      "Downloading data: 100%|██████████| 222M/222M [00:02<00:00, 97.8MB/s] \n",
      "Downloading data: 100%|██████████| 392k/392k [00:00<00:00, 1.25MB/s]\n",
      "Downloading data: 100%|██████████| 26.6k/26.6k [00:00<00:00, 85.1kB/s]\n",
      "Generating train split: 100%|██████████| 1776290/1776290 [00:07<00:00, 251722.50 examples/s]\n",
      "Generating valid split: 100%|██████████| 1000/1000 [00:00<00:00, 204221.64 examples/s]\n",
      "Generating test split: 100%|██████████| 35/35 [00:00<00:00, 21070.85 examples/s]\n"
     ]
    },
    {
     "name": "stdout",
     "output_type": "stream",
     "text": [
      "literature\n"
     ]
    },
    {
     "name": "stderr",
     "output_type": "stream",
     "text": [
      "Downloading data: 100%|██████████| 18.4M/18.4M [00:00<00:00, 22.0MB/s]\n",
      "Downloading data: 100%|██████████| 260k/260k [00:00<00:00, 831kB/s]\n",
      "Downloading data: 100%|██████████| 12.5k/12.5k [00:00<00:00, 36.1kB/s]\n",
      "Generating train split: 100%|██████████| 75512/75512 [00:00<00:00, 385833.01 examples/s]\n",
      "Generating valid split: 100%|██████████| 1000/1000 [00:00<00:00, 228572.43 examples/s]\n",
      "Generating test split: 100%|██████████| 36/36 [00:00<00:00, 22726.51 examples/s]\n"
     ]
    },
    {
     "name": "stdout",
     "output_type": "stream",
     "text": [
      "legal\n"
     ]
    },
    {
     "name": "stderr",
     "output_type": "stream",
     "text": [
      "Downloading data: 100%|██████████| 267M/267M [00:02<00:00, 113MB/s]  \n",
      "Downloading data: 100%|██████████| 269M/269M [00:02<00:00, 108MB/s]  \n",
      "Downloading data: 100%|██████████| 176k/176k [00:00<00:00, 595kB/s]\n",
      "Downloading data: 100%|██████████| 9.37k/9.37k [00:00<00:00, 31.3kB/s]\n",
      "Generating train split: 100%|██████████| 2961596/2961596 [00:05<00:00, 520122.65 examples/s]\n",
      "Generating valid split: 100%|██████████| 1000/1000 [00:00<00:00, 283437.22 examples/s]\n",
      "Generating test split: 100%|██████████| 37/37 [00:00<00:00, 24259.69 examples/s]\n"
     ]
    },
    {
     "name": "stdout",
     "output_type": "stream",
     "text": [
      "politics\n"
     ]
    },
    {
     "name": "stderr",
     "output_type": "stream",
     "text": [
      "Downloading data: 100%|██████████| 26.6M/26.6M [00:00<00:00, 36.2MB/s]\n",
      "Downloading data: 100%|██████████| 881k/881k [00:00<00:00, 2.94MB/s]\n",
      "Downloading data: 100%|██████████| 47.1k/47.1k [00:00<00:00, 156kB/s]\n",
      "Generating train split: 100%|██████████| 30495/30495 [00:00<00:00, 129968.16 examples/s]\n",
      "Generating valid split: 100%|██████████| 1000/1000 [00:00<00:00, 132949.92 examples/s]\n",
      "Generating test split: 100%|██████████| 48/48 [00:00<00:00, 23774.99 examples/s]\n"
     ]
    },
    {
     "name": "stdout",
     "output_type": "stream",
     "text": [
      "web\n"
     ]
    },
    {
     "name": "stderr",
     "output_type": "stream",
     "text": [
      "Downloading data: 100%|██████████| 151M/151M [00:01<00:00, 90.2MB/s] \n",
      "Downloading data: 100%|██████████| 1.65M/1.65M [00:00<00:00, 5.51MB/s]\n",
      "Downloading data: 100%|██████████| 49.0k/49.0k [00:00<00:00, 170kB/s]\n",
      "Generating train split: 100%|██████████| 86909/86909 [00:01<00:00, 65577.39 examples/s]\n",
      "Generating valid split: 100%|██████████| 1000/1000 [00:00<00:00, 63823.73 examples/s]\n",
      "Generating test split: 100%|██████████| 34/34 [00:00<00:00, 16142.90 examples/s]\n"
     ]
    },
    {
     "name": "stdout",
     "output_type": "stream",
     "text": [
      "social_media\n"
     ]
    },
    {
     "name": "stderr",
     "output_type": "stream",
     "text": [
      "Downloading data: 100%|██████████| 101M/101M [00:01<00:00, 72.7MB/s] \n",
      "Downloading data: 100%|██████████| 119k/119k [00:00<00:00, 409kB/s]\n",
      "Downloading data: 100%|██████████| 6.33k/6.33k [00:00<00:00, 19.4kB/s]\n",
      "Generating train split: 100%|██████████| 859638/859638 [00:01<00:00, 742058.70 examples/s]\n",
      "Generating valid split: 100%|██████████| 1000/1000 [00:00<00:00, 354668.02 examples/s]\n",
      "Generating test split: 100%|██████████| 28/28 [00:00<00:00, 23090.94 examples/s]\n"
     ]
    }
   ],
   "source": [
    "for domain in DOMAINS:\n",
    "    print(domain)\n",
    "    dataset = datasets.load_dataset(\"liaad/PtBrVId\", domain)"
   ]
  },
  {
   "cell_type": "code",
   "execution_count": 16,
   "metadata": {},
   "outputs": [
    {
     "name": "stdout",
     "output_type": "stream",
     "text": [
      "journalistic\n"
     ]
    },
    {
     "name": "stderr",
     "output_type": "stream",
     "text": [
      "Map (num_proc=28): 100%|██████████| 1776290/1776290 [00:26<00:00, 67455.19 examples/s]\n",
      "Map (num_proc=28): 100%|██████████| 1000/1000 [00:00<00:00, 3800.59 examples/s]\n",
      "Map (num_proc=28): 100%|██████████| 35/35 [00:00<00:00, 135.29 examples/s]\n"
     ]
    },
    {
     "name": "stdout",
     "output_type": "stream",
     "text": [
      "\ttrain\n",
      "\t\t 0\n"
     ]
    },
    {
     "name": "stderr",
     "output_type": "stream",
     "text": [
      "Filter (num_proc=28): 100%|██████████| 1776290/1776290 [00:00<00:00, 4957104.64 examples/s]\n"
     ]
    },
    {
     "name": "stdout",
     "output_type": "stream",
     "text": [
      "\t\t\tDocs: 1442906\n",
      "\t\t\tTkns: 189437461\n",
      "\t\t\tmTkns: 16\n",
      "\t\t\tMTkns: 306\n",
      "\t\t\tATkn: 131.29\n",
      "\t\t 1\n"
     ]
    },
    {
     "name": "stderr",
     "output_type": "stream",
     "text": [
      "Filter (num_proc=28): 100%|██████████| 1776290/1776290 [00:00<00:00, 5123569.50 examples/s]\n"
     ]
    },
    {
     "name": "stdout",
     "output_type": "stream",
     "text": [
      "\t\t\tDocs: 333384\n",
      "\t\t\tTkns: 27034977\n",
      "\t\t\tmTkns: 18\n",
      "\t\t\tMTkns: 308\n",
      "\t\t\tATkn: 81.09\n",
      "\tvalid\n",
      "\t\t 0\n"
     ]
    },
    {
     "name": "stderr",
     "output_type": "stream",
     "text": [
      "Filter (num_proc=28): 100%|██████████| 1000/1000 [00:00<00:00, 4152.87 examples/s]\n"
     ]
    },
    {
     "name": "stdout",
     "output_type": "stream",
     "text": [
      "\t\t\tDocs: 500\n",
      "\t\t\tTkns: 66472\n",
      "\t\t\tmTkns: 21\n",
      "\t\t\tMTkns: 304\n",
      "\t\t\tATkn: 132.94\n",
      "\t\t 1\n"
     ]
    },
    {
     "name": "stderr",
     "output_type": "stream",
     "text": [
      "Filter (num_proc=28): 100%|██████████| 1000/1000 [00:00<00:00, 4092.53 examples/s]\n"
     ]
    },
    {
     "name": "stdout",
     "output_type": "stream",
     "text": [
      "\t\t\tDocs: 500\n",
      "\t\t\tTkns: 39931\n",
      "\t\t\tmTkns: 21\n",
      "\t\t\tMTkns: 304\n",
      "\t\t\tATkn: 79.86\n",
      "\ttest\n",
      "\t\t 0\n"
     ]
    },
    {
     "name": "stderr",
     "output_type": "stream",
     "text": [
      "Filter (num_proc=28): 100%|██████████| 35/35 [00:00<00:00, 131.92 examples/s]\n"
     ]
    },
    {
     "name": "stdout",
     "output_type": "stream",
     "text": [
      "\t\t\tDocs: 16\n",
      "\t\t\tTkns: 2387\n",
      "\t\t\tmTkns: 36\n",
      "\t\t\tMTkns: 475\n",
      "\t\t\tATkn: 149.19\n",
      "\t\t 1\n"
     ]
    },
    {
     "name": "stderr",
     "output_type": "stream",
     "text": [
      "Filter (num_proc=28): 100%|██████████| 35/35 [00:00<00:00, 142.26 examples/s]\n"
     ]
    },
    {
     "name": "stdout",
     "output_type": "stream",
     "text": [
      "\t\t\tDocs: 19\n",
      "\t\t\tTkns: 2630\n",
      "\t\t\tmTkns: 65\n",
      "\t\t\tMTkns: 560\n",
      "\t\t\tATkn: 138.42\n",
      "literature\n"
     ]
    },
    {
     "name": "stderr",
     "output_type": "stream",
     "text": [
      "Map (num_proc=28): 100%|██████████| 75512/75512 [00:01<00:00, 74972.34 examples/s] \n",
      "Map (num_proc=28): 100%|██████████| 1000/1000 [00:00<00:00, 3584.44 examples/s]\n",
      "Map (num_proc=28): 100%|██████████| 36/36 [00:00<00:00, 137.87 examples/s]\n"
     ]
    },
    {
     "name": "stdout",
     "output_type": "stream",
     "text": [
      "\ttrain\n",
      "\t\t 0\n"
     ]
    },
    {
     "name": "stderr",
     "output_type": "stream",
     "text": [
      "Filter (num_proc=28): 100%|██████████| 75512/75512 [00:00<00:00, 298076.49 examples/s]\n"
     ]
    },
    {
     "name": "stdout",
     "output_type": "stream",
     "text": [
      "\t\t\tDocs: 23569\n",
      "\t\t\tTkns: 1819720\n",
      "\t\t\tmTkns: 16\n",
      "\t\t\tMTkns: 186\n",
      "\t\t\tATkn: 77.21\n",
      "\t\t 1\n"
     ]
    },
    {
     "name": "stderr",
     "output_type": "stream",
     "text": [
      "Filter (num_proc=28): 100%|██████████| 75512/75512 [00:00<00:00, 306351.51 examples/s]\n"
     ]
    },
    {
     "name": "stdout",
     "output_type": "stream",
     "text": [
      "\t\t\tDocs: 51943\n",
      "\t\t\tTkns: 3765198\n",
      "\t\t\tmTkns: 17\n",
      "\t\t\tMTkns: 185\n",
      "\t\t\tATkn: 72.49\n",
      "\tvalid\n",
      "\t\t 0\n"
     ]
    },
    {
     "name": "stderr",
     "output_type": "stream",
     "text": [
      "Filter (num_proc=28): 100%|██████████| 1000/1000 [00:00<00:00, 4084.79 examples/s]\n"
     ]
    },
    {
     "name": "stdout",
     "output_type": "stream",
     "text": [
      "\t\t\tDocs: 500\n",
      "\t\t\tTkns: 38544\n",
      "\t\t\tmTkns: 19\n",
      "\t\t\tMTkns: 183\n",
      "\t\t\tATkn: 77.09\n",
      "\t\t 1\n"
     ]
    },
    {
     "name": "stderr",
     "output_type": "stream",
     "text": [
      "Filter (num_proc=28): 100%|██████████| 1000/1000 [00:00<00:00, 4215.74 examples/s]\n"
     ]
    },
    {
     "name": "stdout",
     "output_type": "stream",
     "text": [
      "\t\t\tDocs: 500\n",
      "\t\t\tTkns: 39580\n",
      "\t\t\tmTkns: 21\n",
      "\t\t\tMTkns: 183\n",
      "\t\t\tATkn: 79.16\n",
      "\ttest\n",
      "\t\t 0\n"
     ]
    },
    {
     "name": "stderr",
     "output_type": "stream",
     "text": [
      "Filter (num_proc=28): 100%|██████████| 36/36 [00:00<00:00, 148.72 examples/s]\n"
     ]
    },
    {
     "name": "stdout",
     "output_type": "stream",
     "text": [
      "\t\t\tDocs: 21\n",
      "\t\t\tTkns: 1396\n",
      "\t\t\tmTkns: 28\n",
      "\t\t\tMTkns: 141\n",
      "\t\t\tATkn: 66.48\n",
      "\t\t 1\n"
     ]
    },
    {
     "name": "stderr",
     "output_type": "stream",
     "text": [
      "Filter (num_proc=28): 100%|██████████| 36/36 [00:00<00:00, 152.95 examples/s]\n"
     ]
    },
    {
     "name": "stdout",
     "output_type": "stream",
     "text": [
      "\t\t\tDocs: 15\n",
      "\t\t\tTkns: 1118\n",
      "\t\t\tmTkns: 48\n",
      "\t\t\tMTkns: 142\n",
      "\t\t\tATkn: 74.53\n",
      "legal\n"
     ]
    },
    {
     "name": "stderr",
     "output_type": "stream",
     "text": [
      "Map (num_proc=28): 100%|██████████| 2961596/2961596 [00:16<00:00, 177908.27 examples/s]\n",
      "Map (num_proc=28): 100%|██████████| 1000/1000 [00:00<00:00, 3812.35 examples/s]\n",
      "Map (num_proc=28): 100%|██████████| 37/37 [00:00<00:00, 134.47 examples/s]\n"
     ]
    },
    {
     "name": "stdout",
     "output_type": "stream",
     "text": [
      "\ttrain\n",
      "\t\t 0\n"
     ]
    },
    {
     "name": "stderr",
     "output_type": "stream",
     "text": [
      "Filter (num_proc=28): 100%|██████████| 2961596/2961596 [00:00<00:00, 6322850.40 examples/s] \n"
     ]
    },
    {
     "name": "stdout",
     "output_type": "stream",
     "text": [
      "\t\t\tDocs: 2957459\n",
      "\t\t\tTkns: 152690980\n",
      "\t\t\tmTkns: 16\n",
      "\t\t\tMTkns: 139\n",
      "\t\t\tATkn: 51.63\n",
      "\t\t 1\n"
     ]
    },
    {
     "name": "stderr",
     "output_type": "stream",
     "text": [
      "Filter (num_proc=28): 100%|██████████| 2961596/2961596 [00:00<00:00, 7139678.48 examples/s] \n"
     ]
    },
    {
     "name": "stdout",
     "output_type": "stream",
     "text": [
      "\t\t\tDocs: 4137\n",
      "\t\t\tTkns: 196758\n",
      "\t\t\tmTkns: 20\n",
      "\t\t\tMTkns: 124\n",
      "\t\t\tATkn: 47.56\n",
      "\tvalid\n",
      "\t\t 0\n"
     ]
    },
    {
     "name": "stderr",
     "output_type": "stream",
     "text": [
      "Filter (num_proc=28): 100%|██████████| 1000/1000 [00:00<00:00, 3956.90 examples/s]\n"
     ]
    },
    {
     "name": "stdout",
     "output_type": "stream",
     "text": [
      "\t\t\tDocs: 500\n",
      "\t\t\tTkns: 25706\n",
      "\t\t\tmTkns: 21\n",
      "\t\t\tMTkns: 125\n",
      "\t\t\tATkn: 51.41\n",
      "\t\t 1\n"
     ]
    },
    {
     "name": "stderr",
     "output_type": "stream",
     "text": [
      "Filter (num_proc=28): 100%|██████████| 1000/1000 [00:00<00:00, 4077.87 examples/s]\n"
     ]
    },
    {
     "name": "stdout",
     "output_type": "stream",
     "text": [
      "\t\t\tDocs: 500\n",
      "\t\t\tTkns: 23712\n",
      "\t\t\tmTkns: 20\n",
      "\t\t\tMTkns: 120\n",
      "\t\t\tATkn: 47.42\n",
      "\ttest\n",
      "\t\t 0\n"
     ]
    },
    {
     "name": "stderr",
     "output_type": "stream",
     "text": [
      "Filter (num_proc=28): 100%|██████████| 37/37 [00:00<00:00, 150.64 examples/s]\n"
     ]
    },
    {
     "name": "stdout",
     "output_type": "stream",
     "text": [
      "\t\t\tDocs: 21\n",
      "\t\t\tTkns: 1051\n",
      "\t\t\tmTkns: 18\n",
      "\t\t\tMTkns: 106\n",
      "\t\t\tATkn: 50.05\n",
      "\t\t 1\n"
     ]
    },
    {
     "name": "stderr",
     "output_type": "stream",
     "text": [
      "Filter (num_proc=28): 100%|██████████| 37/37 [00:00<00:00, 155.44 examples/s]\n"
     ]
    },
    {
     "name": "stdout",
     "output_type": "stream",
     "text": [
      "\t\t\tDocs: 16\n",
      "\t\t\tTkns: 697\n",
      "\t\t\tmTkns: 20\n",
      "\t\t\tMTkns: 76\n",
      "\t\t\tATkn: 43.56\n",
      "politics\n"
     ]
    },
    {
     "name": "stderr",
     "output_type": "stream",
     "text": [
      "Map (num_proc=28): 100%|██████████| 30495/30495 [00:01<00:00, 25597.30 examples/s]\n",
      "Map (num_proc=28): 100%|██████████| 1000/1000 [00:00<00:00, 3825.98 examples/s]\n",
      "Map (num_proc=28): 100%|██████████| 48/48 [00:00<00:00, 182.05 examples/s]\n"
     ]
    },
    {
     "name": "stdout",
     "output_type": "stream",
     "text": [
      "\ttrain\n",
      "\t\t 0\n"
     ]
    },
    {
     "name": "stderr",
     "output_type": "stream",
     "text": [
      "Filter (num_proc=28): 100%|██████████| 30495/30495 [00:00<00:00, 122631.30 examples/s]\n"
     ]
    },
    {
     "name": "stdout",
     "output_type": "stream",
     "text": [
      "\t\t\tDocs: 27368\n",
      "\t\t\tTkns: 7068782\n",
      "\t\t\tmTkns: 20\n",
      "\t\t\tMTkns: 798\n",
      "\t\t\tATkn: 258.29\n",
      "\t\t 1\n"
     ]
    },
    {
     "name": "stderr",
     "output_type": "stream",
     "text": [
      "Filter (num_proc=28): 100%|██████████| 30495/30495 [00:00<00:00, 125305.83 examples/s]\n"
     ]
    },
    {
     "name": "stdout",
     "output_type": "stream",
     "text": [
      "\t\t\tDocs: 3127\n",
      "\t\t\tTkns: 863756\n",
      "\t\t\tmTkns: 21\n",
      "\t\t\tMTkns: 796\n",
      "\t\t\tATkn: 276.23\n",
      "\tvalid\n",
      "\t\t 0\n"
     ]
    },
    {
     "name": "stderr",
     "output_type": "stream",
     "text": [
      "Filter (num_proc=28): 100%|██████████| 1000/1000 [00:00<00:00, 4174.29 examples/s]\n"
     ]
    },
    {
     "name": "stdout",
     "output_type": "stream",
     "text": [
      "\t\t\tDocs: 500\n",
      "\t\t\tTkns: 130809\n",
      "\t\t\tmTkns: 22\n",
      "\t\t\tMTkns: 794\n",
      "\t\t\tATkn: 261.62\n",
      "\t\t 1\n"
     ]
    },
    {
     "name": "stderr",
     "output_type": "stream",
     "text": [
      "Filter (num_proc=28): 100%|██████████| 1000/1000 [00:00<00:00, 4080.25 examples/s]\n"
     ]
    },
    {
     "name": "stdout",
     "output_type": "stream",
     "text": [
      "\t\t\tDocs: 500\n",
      "\t\t\tTkns: 141587\n",
      "\t\t\tmTkns: 21\n",
      "\t\t\tMTkns: 794\n",
      "\t\t\tATkn: 283.17\n",
      "\ttest\n",
      "\t\t 0\n"
     ]
    },
    {
     "name": "stderr",
     "output_type": "stream",
     "text": [
      "Filter (num_proc=28): 100%|██████████| 48/48 [00:00<00:00, 190.08 examples/s]\n"
     ]
    },
    {
     "name": "stdout",
     "output_type": "stream",
     "text": [
      "\t\t\tDocs: 19\n",
      "\t\t\tTkns: 4148\n",
      "\t\t\tmTkns: 89\n",
      "\t\t\tMTkns: 489\n",
      "\t\t\tATkn: 218.32\n",
      "\t\t 1\n"
     ]
    },
    {
     "name": "stderr",
     "output_type": "stream",
     "text": [
      "Filter (num_proc=28): 100%|██████████| 48/48 [00:00<00:00, 192.46 examples/s]\n"
     ]
    },
    {
     "name": "stdout",
     "output_type": "stream",
     "text": [
      "\t\t\tDocs: 29\n",
      "\t\t\tTkns: 7243\n",
      "\t\t\tmTkns: 29\n",
      "\t\t\tMTkns: 463\n",
      "\t\t\tATkn: 249.76\n",
      "web\n"
     ]
    },
    {
     "name": "stderr",
     "output_type": "stream",
     "text": [
      "Map (num_proc=28): 100%|██████████| 86909/86909 [00:05<00:00, 16941.67 examples/s]\n",
      "Map (num_proc=28): 100%|██████████| 1000/1000 [00:00<00:00, 3346.05 examples/s]\n",
      "Map (num_proc=28): 100%|██████████| 34/34 [00:00<00:00, 131.79 examples/s]\n"
     ]
    },
    {
     "name": "stdout",
     "output_type": "stream",
     "text": [
      "\ttrain\n",
      "\t\t 0\n"
     ]
    },
    {
     "name": "stderr",
     "output_type": "stream",
     "text": [
      "Filter (num_proc=28): 100%|██████████| 86909/86909 [00:00<00:00, 339710.32 examples/s]\n"
     ]
    },
    {
     "name": "stdout",
     "output_type": "stream",
     "text": [
      "\t\t\tDocs: 43113\n",
      "\t\t\tTkns: 22351263\n",
      "\t\t\tmTkns: 22\n",
      "\t\t\tMTkns: 2042\n",
      "\t\t\tATkn: 518.43\n",
      "\t\t 1\n"
     ]
    },
    {
     "name": "stderr",
     "output_type": "stream",
     "text": [
      "Filter (num_proc=28): 100%|██████████| 86909/86909 [00:00<00:00, 331145.01 examples/s]\n"
     ]
    },
    {
     "name": "stdout",
     "output_type": "stream",
     "text": [
      "\t\t\tDocs: 43796\n",
      "\t\t\tTkns: 23648590\n",
      "\t\t\tmTkns: 26\n",
      "\t\t\tMTkns: 2075\n",
      "\t\t\tATkn: 539.97\n",
      "\tvalid\n",
      "\t\t 0\n"
     ]
    },
    {
     "name": "stderr",
     "output_type": "stream",
     "text": [
      "Filter (num_proc=28): 100%|██████████| 1000/1000 [00:00<00:00, 4245.03 examples/s]\n"
     ]
    },
    {
     "name": "stdout",
     "output_type": "stream",
     "text": [
      "\t\t\tDocs: 500\n",
      "\t\t\tTkns: 241536\n",
      "\t\t\tmTkns: 28\n",
      "\t\t\tMTkns: 1965\n",
      "\t\t\tATkn: 483.07\n",
      "\t\t 1\n"
     ]
    },
    {
     "name": "stderr",
     "output_type": "stream",
     "text": [
      "Filter (num_proc=28): 100%|██████████| 1000/1000 [00:00<00:00, 4165.36 examples/s]\n"
     ]
    },
    {
     "name": "stdout",
     "output_type": "stream",
     "text": [
      "\t\t\tDocs: 500\n",
      "\t\t\tTkns: 260053\n",
      "\t\t\tmTkns: 22\n",
      "\t\t\tMTkns: 1987\n",
      "\t\t\tATkn: 520.11\n",
      "\ttest\n",
      "\t\t 0\n"
     ]
    },
    {
     "name": "stderr",
     "output_type": "stream",
     "text": [
      "Filter (num_proc=28): 100%|██████████| 34/34 [00:00<00:00, 143.76 examples/s]\n"
     ]
    },
    {
     "name": "stdout",
     "output_type": "stream",
     "text": [
      "\t\t\tDocs: 17\n",
      "\t\t\tTkns: 5788\n",
      "\t\t\tmTkns: 164\n",
      "\t\t\tMTkns: 692\n",
      "\t\t\tATkn: 340.47\n",
      "\t\t 1\n"
     ]
    },
    {
     "name": "stderr",
     "output_type": "stream",
     "text": [
      "Filter (num_proc=28): 100%|██████████| 34/34 [00:00<00:00, 105.56 examples/s]\n"
     ]
    },
    {
     "name": "stdout",
     "output_type": "stream",
     "text": [
      "\t\t\tDocs: 17\n",
      "\t\t\tTkns: 5128\n",
      "\t\t\tmTkns: 15\n",
      "\t\t\tMTkns: 518\n",
      "\t\t\tATkn: 301.65\n",
      "social_media\n"
     ]
    },
    {
     "name": "stderr",
     "output_type": "stream",
     "text": [
      "Map (num_proc=28): 100%|██████████| 859638/859638 [00:04<00:00, 190851.24 examples/s]\n",
      "Map (num_proc=28): 100%|██████████| 1000/1000 [00:00<00:00, 3764.48 examples/s]\n",
      "Map (num_proc=28): 100%|██████████| 28/28 [00:00<00:00, 105.16 examples/s]\n"
     ]
    },
    {
     "name": "stdout",
     "output_type": "stream",
     "text": [
      "\ttrain\n",
      "\t\t 0\n"
     ]
    },
    {
     "name": "stderr",
     "output_type": "stream",
     "text": [
      "Filter (num_proc=28): 100%|██████████| 859638/859638 [00:00<00:00, 2774579.80 examples/s]\n"
     ]
    },
    {
     "name": "stdout",
     "output_type": "stream",
     "text": [
      "\t\t\tDocs: 858533\n",
      "\t\t\tTkns: 25577463\n",
      "\t\t\tmTkns: 16\n",
      "\t\t\tMTkns: 84\n",
      "\t\t\tATkn: 29.79\n",
      "\t\t 1\n"
     ]
    },
    {
     "name": "stderr",
     "output_type": "stream",
     "text": [
      "Filter (num_proc=28): 100%|██████████| 859638/859638 [00:00<00:00, 3166333.49 examples/s]\n"
     ]
    },
    {
     "name": "stdout",
     "output_type": "stream",
     "text": [
      "\t\t\tDocs: 1105\n",
      "\t\t\tTkns: 33451\n",
      "\t\t\tmTkns: 21\n",
      "\t\t\tMTkns: 48\n",
      "\t\t\tATkn: 30.27\n",
      "\tvalid\n",
      "\t\t 0\n"
     ]
    },
    {
     "name": "stderr",
     "output_type": "stream",
     "text": [
      "Filter (num_proc=28): 100%|██████████| 1000/1000 [00:00<00:00, 3951.19 examples/s]\n"
     ]
    },
    {
     "name": "stdout",
     "output_type": "stream",
     "text": [
      "\t\t\tDocs: 500\n",
      "\t\t\tTkns: 14556\n",
      "\t\t\tmTkns: 13\n",
      "\t\t\tMTkns: 57\n",
      "\t\t\tATkn: 29.11\n",
      "\t\t 1\n"
     ]
    },
    {
     "name": "stderr",
     "output_type": "stream",
     "text": [
      "Filter (num_proc=28): 100%|██████████| 1000/1000 [00:00<00:00, 4052.18 examples/s]\n"
     ]
    },
    {
     "name": "stdout",
     "output_type": "stream",
     "text": [
      "\t\t\tDocs: 500\n",
      "\t\t\tTkns: 15387\n",
      "\t\t\tmTkns: 21\n",
      "\t\t\tMTkns: 48\n",
      "\t\t\tATkn: 30.77\n",
      "\ttest\n",
      "\t\t 0\n"
     ]
    },
    {
     "name": "stderr",
     "output_type": "stream",
     "text": [
      "Filter (num_proc=28): 100%|██████████| 28/28 [00:00<00:00, 120.95 examples/s]\n"
     ]
    },
    {
     "name": "stdout",
     "output_type": "stream",
     "text": [
      "\t\t\tDocs: 15\n",
      "\t\t\tTkns: 957\n",
      "\t\t\tmTkns: 9\n",
      "\t\t\tMTkns: 646\n",
      "\t\t\tATkn: 63.80\n",
      "\t\t 1\n"
     ]
    },
    {
     "name": "stderr",
     "output_type": "stream",
     "text": [
      "Filter (num_proc=28): 100%|██████████| 28/28 [00:00<00:00, 118.66 examples/s]\n"
     ]
    },
    {
     "name": "stdout",
     "output_type": "stream",
     "text": [
      "\t\t\tDocs: 13\n",
      "\t\t\tTkns: 268\n",
      "\t\t\tmTkns: 11\n",
      "\t\t\tMTkns: 51\n",
      "\t\t\tATkn: 20.62\n"
     ]
    }
   ],
   "source": [
    "for domain in DOMAINS:\n",
    "    print(domain)\n",
    "    dataset = datasets.load_dataset(\"liaad/PtBrVId\", domain)\n",
    "    dataset = dataset.map(count_tokens, num_proc=N_PROC)\n",
    "    for split in [\"train\", \"valid\", \"test\"]:\n",
    "        print(f\"\\t{split}\")\n",
    "        sdata = dataset[split]\n",
    "\n",
    "        for label in [0, 1]:\n",
    "            print(\"\\t\\t\", label)\n",
    "            lsdata = sdata.filter(lambda x: x[\"label\"] == label, num_proc=N_PROC)\n",
    "            n_docs = len(lsdata)\n",
    "            print(f\"\\t\\t\\tDocs: {n_docs}\")\n",
    "            n_tokens = sum(lsdata['n_tokens'])\n",
    "            print(f\"\\t\\t\\tTkns: {n_tokens}\")\n",
    "            print(f\"\\t\\t\\tmTkns: {min(lsdata['n_tokens'])}\")\n",
    "            print(f\"\\t\\t\\tMTkns: {max(lsdata['n_tokens'])}\")\n",
    "            print(f\"\\t\\t\\tATkn: {n_tokens/n_docs:.02f}\")\n"
   ]
  },
  {
   "cell_type": "code",
   "execution_count": 17,
   "metadata": {},
   "outputs": [
    {
     "name": "stdout",
     "output_type": "stream",
     "text": [
      "journalistic\n"
     ]
    },
    {
     "name": "stderr",
     "output_type": "stream",
     "text": [
      "Map (num_proc=28): 100%|██████████| 1776290/1776290 [00:25<00:00, 69235.97 examples/s]\n",
      "Map (num_proc=28): 100%|██████████| 1000/1000 [00:00<00:00, 3640.22 examples/s]\n",
      "Map (num_proc=28): 100%|██████████| 35/35 [00:00<00:00, 126.45 examples/s]\n"
     ]
    },
    {
     "name": "stdout",
     "output_type": "stream",
     "text": [
      "\t\tDocs: 1777325\n",
      "\t\tTkns: 216583858\n",
      "\t\tmTkns: 16\n",
      "\t\tMTkns: 560\n",
      "\t\tATkn: 121.86\n",
      "literature\n"
     ]
    },
    {
     "name": "stderr",
     "output_type": "stream",
     "text": [
      "Map (num_proc=28): 100%|██████████| 75512/75512 [00:00<00:00, 78300.79 examples/s] \n",
      "Map (num_proc=28): 100%|██████████| 1000/1000 [00:00<00:00, 3742.54 examples/s]\n",
      "Map (num_proc=28): 100%|██████████| 36/36 [00:00<00:00, 141.55 examples/s]\n"
     ]
    },
    {
     "name": "stdout",
     "output_type": "stream",
     "text": [
      "\t\tDocs: 76548\n",
      "\t\tTkns: 5665556\n",
      "\t\tmTkns: 16\n",
      "\t\tMTkns: 186\n",
      "\t\tATkn: 74.01\n",
      "legal\n"
     ]
    },
    {
     "name": "stderr",
     "output_type": "stream",
     "text": [
      "Map (num_proc=28): 100%|██████████| 2961596/2961596 [00:16<00:00, 181999.00 examples/s]\n",
      "Map (num_proc=28): 100%|██████████| 1000/1000 [00:00<00:00, 3864.85 examples/s]\n",
      "Map (num_proc=28): 100%|██████████| 37/37 [00:00<00:00, 137.27 examples/s]\n"
     ]
    },
    {
     "name": "stdout",
     "output_type": "stream",
     "text": [
      "\t\tDocs: 2962633\n",
      "\t\tTkns: 152938904\n",
      "\t\tmTkns: 16\n",
      "\t\tMTkns: 139\n",
      "\t\tATkn: 51.62\n",
      "politics\n"
     ]
    },
    {
     "name": "stderr",
     "output_type": "stream",
     "text": [
      "Map (num_proc=28): 100%|██████████| 30495/30495 [00:01<00:00, 25983.51 examples/s]\n",
      "Map (num_proc=28): 100%|██████████| 1000/1000 [00:00<00:00, 3523.18 examples/s]\n",
      "Map (num_proc=28): 100%|██████████| 48/48 [00:00<00:00, 195.46 examples/s]\n"
     ]
    },
    {
     "name": "stdout",
     "output_type": "stream",
     "text": [
      "\t\tDocs: 31543\n",
      "\t\tTkns: 8216325\n",
      "\t\tmTkns: 20\n",
      "\t\tMTkns: 798\n",
      "\t\tATkn: 260.48\n",
      "web\n"
     ]
    },
    {
     "name": "stderr",
     "output_type": "stream",
     "text": [
      "Map (num_proc=28): 100%|██████████| 86909/86909 [00:04<00:00, 17675.94 examples/s]\n",
      "Map (num_proc=28): 100%|██████████| 1000/1000 [00:00<00:00, 3421.77 examples/s]\n",
      "Map (num_proc=28): 100%|██████████| 34/34 [00:00<00:00, 131.95 examples/s]\n"
     ]
    },
    {
     "name": "stdout",
     "output_type": "stream",
     "text": [
      "\t\tDocs: 87943\n",
      "\t\tTkns: 46512358\n",
      "\t\tmTkns: 15\n",
      "\t\tMTkns: 2075\n",
      "\t\tATkn: 528.89\n",
      "social_media\n"
     ]
    },
    {
     "name": "stderr",
     "output_type": "stream",
     "text": [
      "Map (num_proc=28): 100%|██████████| 859638/859638 [00:04<00:00, 190037.66 examples/s]\n",
      "Map (num_proc=28): 100%|██████████| 1000/1000 [00:00<00:00, 4069.96 examples/s]\n",
      "Map (num_proc=28): 100%|██████████| 28/28 [00:00<00:00, 105.74 examples/s]\n"
     ]
    },
    {
     "name": "stdout",
     "output_type": "stream",
     "text": [
      "\t\tDocs: 860666\n",
      "\t\tTkns: 25642082\n",
      "\t\tmTkns: 9\n",
      "\t\tMTkns: 646\n",
      "\t\tATkn: 29.79\n"
     ]
    }
   ],
   "source": [
    "for domain in DOMAINS:\n",
    "    print(domain)\n",
    "    dataset = datasets.load_dataset(\"liaad/PtBrVId\", domain)\n",
    "    dataset = dataset.map(count_tokens, num_proc=N_PROC)\n",
    "    \n",
    "    data = datasets.concatenate_datasets([dataset[split] for split in [\"train\", \"valid\", \"test\"]])\n",
    "    dataset = dataset.map(count_tokens, num_proc=N_PROC)\n",
    "\n",
    "    n_docs = len(data)\n",
    "    n_tokens = sum(data[\"n_tokens\"])\n",
    "    min_tokens = min(data[\"n_tokens\"])\n",
    "    max_tokens = max(data[\"n_tokens\"])\n",
    "    avg_tokens = n_tokens / n_docs \n",
    "\n",
    "    print(f\"\\t\\tDocs: {n_docs}\")\n",
    "    print(f\"\\t\\tTkns: {n_tokens}\")\n",
    "    print(f\"\\t\\tmTkns: {min_tokens}\")\n",
    "    print(f\"\\t\\tMTkns: {max_tokens}\")\n",
    "    print(f\"\\t\\tATkn: {avg_tokens:.02f}\")"
   ]
  },
  {
   "cell_type": "code",
   "execution_count": 18,
   "metadata": {},
   "outputs": [
    {
     "name": "stdout",
     "output_type": "stream",
     "text": [
      "journalistic\n",
      "literature\n",
      "legal\n",
      "politics\n",
      "web\n",
      "social_media\n"
     ]
    }
   ],
   "source": [
    "for domain in DOMAINS:\n",
    "    print(domain)\n",
    "    dataset = datasets.load_dataset(\"liaad/PtBrVId\", domain)\n",
    "    dataset = dataset.map(count_tokens, num_proc=N_PROC)\n",
    "    \n",
    "    data = datasets.concatenate_datasets([dataset[split] for split in [\"train\", \"valid\", \"test\"]])\n",
    "    dataset = dataset.map(count_tokens, num_proc=N_PROC)\n",
    "\n",
    "    n_docs = len(data)\n",
    "    n_tokens = sum(data[\"n_tokens\"])\n",
    "    min_tokens = min(data[\"n_tokens\"])\n",
    "    max_tokens = max(data[\"n_tokens\"])\n",
    "    avg_tokens = n_tokens / n_docs "
   ]
  },
  {
   "cell_type": "code",
   "execution_count": null,
   "metadata": {},
   "outputs": [],
   "source": []
  }
 ],
 "metadata": {
  "kernelspec": {
   "display_name": "Python 3",
   "language": "python",
   "name": "python3"
  },
  "language_info": {
   "codemirror_mode": {
    "name": "ipython",
    "version": 3
   },
   "file_extension": ".py",
   "mimetype": "text/x-python",
   "name": "python",
   "nbconvert_exporter": "python",
   "pygments_lexer": "ipython3",
   "version": "3.11.9"
  }
 },
 "nbformat": 4,
 "nbformat_minor": 2
}
